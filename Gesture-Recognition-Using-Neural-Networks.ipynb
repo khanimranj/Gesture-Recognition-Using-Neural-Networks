{
 "cells": [
  {
   "cell_type": "markdown",
   "metadata": {},
   "source": [
    "## Gesture Recognization \n",
    "##### Khan Imran Jabbar\n"
   ]
  },
  {
   "cell_type": "code",
   "execution_count": 1,
   "metadata": {
    "execution": {
     "iopub.execute_input": "2021-10-26T12:53:58.910332Z",
     "iopub.status.busy": "2021-10-26T12:53:58.910092Z",
     "iopub.status.idle": "2021-10-26T12:54:03.397890Z",
     "shell.execute_reply": "2021-10-26T12:54:03.397084Z",
     "shell.execute_reply.started": "2021-10-26T12:53:58.910306Z"
    }
   },
   "outputs": [],
   "source": [
    "# Importing necessary libraries\n",
    "import numpy as np\n",
    "import os\n",
    "from imageio.v2 import imread\n",
    "from skimage.transform import resize\n",
    "import datetime\n",
    "import tensorflow as tf\n",
    "os.environ['TF_CPP_MIN_LOG_LEVEL'] = '3'\n",
    "import pandas as pd\n",
    "from tensorflow import keras\n"
   ]
  },
  {
   "cell_type": "code",
   "execution_count": 2,
   "metadata": {
    "execution": {
     "iopub.execute_input": "2021-10-26T12:54:03.400867Z",
     "iopub.status.busy": "2021-10-26T12:54:03.400364Z",
     "iopub.status.idle": "2021-10-26T12:54:03.953445Z",
     "shell.execute_reply": "2021-10-26T12:54:03.952688Z",
     "shell.execute_reply.started": "2021-10-26T12:54:03.400828Z"
    }
   },
   "outputs": [],
   "source": [
    "# Setting Random Seed\n",
    "np.random.seed(30)\n",
    "import random as rn\n",
    "rn.seed(30)\n",
    "tf.random.set_seed(30)"
   ]
  },
  {
   "cell_type": "code",
   "execution_count": 3,
   "metadata": {
    "execution": {
     "iopub.execute_input": "2021-10-26T12:54:03.956784Z",
     "iopub.status.busy": "2021-10-26T12:54:03.956558Z",
     "iopub.status.idle": "2021-10-26T12:54:03.985369Z",
     "shell.execute_reply": "2021-10-26T12:54:03.984650Z",
     "shell.execute_reply.started": "2021-10-26T12:54:03.956736Z"
    }
   },
   "outputs": [],
   "source": [
    "# Reading in the CSV that contains the information about our training and validaton data\n",
    "train_doc = np.random.permutation(open('datasets/Project_data/train.csv').readlines())\n",
    "val_doc = np.random.permutation(open('datasets/Project_data/val.csv').readlines())\n"
   ]
  },
  {
   "cell_type": "markdown",
   "metadata": {},
   "source": [
    "#### A Quick look at the data before we start the modeling process\n"
   ]
  },
  {
   "cell_type": "code",
   "execution_count": 4,
   "metadata": {},
   "outputs": [],
   "source": [
    "# Reading in the CSV as DataFrame\n",
    "#Assigning column names as the CSV doesn't contain a header\n",
    "colnames=[\"Folder\",\"Action\",\"labels\"] \n",
    "train_df =pd.read_csv(\"datasets/Project_data/train.csv\",sep=';', names=colnames ) \n",
    "val_df =pd.read_csv(\"datasets/Project_data/val.csv\",sep=';', names=colnames )   "
   ]
  },
  {
   "cell_type": "code",
   "execution_count": 5,
   "metadata": {},
   "outputs": [
    {
     "name": "stdout",
     "output_type": "stream",
     "text": [
      "Shape of Train :  (663, 3)\n",
      "Shape of Val :  (100, 3)\n"
     ]
    }
   ],
   "source": [
    "print(\"Shape of Train : \",train_df.shape)\n",
    "print(\"Shape of Val : \",val_df.shape)\n"
   ]
  },
  {
   "cell_type": "code",
   "execution_count": 6,
   "metadata": {
    "scrolled": false
   },
   "outputs": [
    {
     "data": {
      "text/plain": [
       "Action                         labels\n",
       "Left Swipe_new_Left Swipe_new  0          40\n",
       "Left_Swipe_new                 0          96\n",
       "Right Swipe_new                1          34\n",
       "Right_Swipe_new                1         103\n",
       "Stop Gesture_new               2          37\n",
       "Stop_new                       2          93\n",
       "Thumbs Down_new                3          37\n",
       "Thumbs Up_new                  4          36\n",
       "Thumbs_Down_new                3         100\n",
       "Thumbs_Up_new                  4          87\n",
       "Name: labels, dtype: int64"
      ]
     },
     "execution_count": 6,
     "metadata": {},
     "output_type": "execute_result"
    }
   ],
   "source": [
    "# We have 663 rows in train df and 100 inn val df which correspond to the number of folders we have in our \n",
    "#training and validation dataset, so its clear that the csv are picking up the right number of files\n",
    "\n",
    "# Cheking if class labels are assigned properly in the train CSV\n",
    "train_df.groupby(\"Action\")['labels'].value_counts()"
   ]
  },
  {
   "cell_type": "code",
   "execution_count": 7,
   "metadata": {},
   "outputs": [],
   "source": [
    "# The CSV has multiple names for the same action, but the class labels are correct.\n",
    "#No preprocessing required as only labels are being used for Training "
   ]
  },
  {
   "cell_type": "code",
   "execution_count": 8,
   "metadata": {},
   "outputs": [
    {
     "data": {
      "text/plain": [
       "Action                         labels\n",
       "Left Swipe_new_Left Swipe_new  0          5\n",
       "Left_Swipe_new                 0         13\n",
       "Right Swipe_new                1         10\n",
       "Right_Swipe_new                1         13\n",
       "Stop Gesture_new               2          8\n",
       "Stop_new                       2         14\n",
       "Thumbs Down_new                3          9\n",
       "Thumbs Up_new                  4          6\n",
       "Thumbs_Down_new                3         12\n",
       "Thumbs_Up_new                  4         10\n",
       "Name: labels, dtype: int64"
      ]
     },
     "execution_count": 8,
     "metadata": {},
     "output_type": "execute_result"
    }
   ],
   "source": [
    "# Cheking if class labels are assigned properly in the validation csv\n",
    "val_df.groupby(\"Action\")['labels'].value_counts()"
   ]
  },
  {
   "cell_type": "code",
   "execution_count": 9,
   "metadata": {},
   "outputs": [],
   "source": [
    "# As with the training csv, the validation csv also has multiple name for same labels. No preprocessing required \n",
    "# as only labels are being used for validation "
   ]
  },
  {
   "cell_type": "code",
   "execution_count": 10,
   "metadata": {},
   "outputs": [],
   "source": [
    "# Creating a dictionary with class name and labels- To be used during model evaluation\n",
    "classname =\t{\"Swipe Left\": 0,\"Swipe Right\":1,\"Stop\": 2,\"Thumbs Down\": 3,\"Thumbs Up\": 4}"
   ]
  },
  {
   "cell_type": "code",
   "execution_count": 11,
   "metadata": {},
   "outputs": [
    {
     "data": {
      "text/plain": [
       "1    4110\n",
       "3    4110\n",
       "0    4080\n",
       "2    3900\n",
       "4    3690\n",
       "Name: labels, dtype: int64"
      ]
     },
     "execution_count": 11,
     "metadata": {},
     "output_type": "execute_result"
    }
   ],
   "source": [
    "# Checking Class distribution for training set (Multiplied by 30 as each folder has 30 images)\n",
    "train_df[\"labels\"].value_counts()*30"
   ]
  },
  {
   "cell_type": "code",
   "execution_count": 12,
   "metadata": {},
   "outputs": [],
   "source": [
    "# There is a small class imbalance with class 1 and 3 having the highest number of \n",
    "# samples followed by class 0, class 2 and class respectively. The imbalance is not extremely large \n",
    "# hence we won't be correcting the imbalance"
   ]
  },
  {
   "cell_type": "markdown",
   "metadata": {},
   "source": [
    "# Data Generator\n",
    "#### Step 1 ) Create Generator\n",
    "#### Step 2) Test Generator"
   ]
  },
  {
   "cell_type": "code",
   "execution_count": 13,
   "metadata": {
    "execution": {
     "iopub.execute_input": "2021-10-26T12:54:03.988035Z",
     "iopub.status.busy": "2021-10-26T12:54:03.987614Z",
     "iopub.status.idle": "2021-10-26T12:54:04.011523Z",
     "shell.execute_reply": "2021-10-26T12:54:04.010583Z",
     "shell.execute_reply.started": "2021-10-26T12:54:03.987999Z"
    }
   },
   "outputs": [],
   "source": [
    "# This function will be used to create batch data to be fed to the Neural network\n",
    "#The generator function takes folder list, batch size , image dimension and image index as input\n",
    "# and outputs data of shape (batchsize,lengthofimageindex, image dimension(in Height,width format)\n",
    "# and channels) along with the data's label in one-hot encoded format\n",
    "\n",
    "def generator(source_path, folder_list, batch_size,imgdim,img_idx):\n",
    "    print() # blank line\n",
    "    print( 'Source path = ', source_path, '; batch size =', batch_size)\n",
    "\n",
    "  \n",
    "    while True:\n",
    "        t = np.random.permutation(folder_list)\n",
    "        \n",
    "        # Calculating the number of batches needed to run through the data once\n",
    "        num_batches = len(folder_list) // batch_size\n",
    "        \n",
    "        # Storing the number of leftover folder to be added to the batch after all full batches\n",
    "        # are yielded\n",
    "        leftover=len(folder_list)% batch_size\n",
    "    \n",
    "        for batch in range(num_batches):      \n",
    "            batch_data = np.zeros((batch_size,len(img_idx),imgdim,imgdim,3))   \n",
    "            batch_labels = np.zeros((batch_size,5))                                \n",
    "            for folder in range(batch_size):                                         \n",
    "                imgs = os.listdir(source_path+'/'+ t[folder + (batch*batch_size)].split(';')[0]) \n",
    "                for idx,item in enumerate(img_idx):         \n",
    "                    image = imread(source_path+'/'+ t[folder + (batch*batch_size)].strip().split(';')[0]+'/'+imgs[item]).astype(np.float32)\n",
    "                    image= resize(image,[imgdim,imgdim]) #----- Resize the image to dimension passed by variable imgdim\n",
    "                    \n",
    "                    # Normalizing each channel\n",
    "                    # Three normalization techniques were experimented with\n",
    "                    ## 1 - (image−np.min(image))/(np.max(image)−np.min(image))\n",
    "                    ## 2 - (image−np.percentile(image,5))/(np.percentile(image,95)−np.percentile(image,5))\n",
    "                    ## 3 - image/255 \n",
    "                    ## Please note, image above refers to the channel\n",
    "                    \n",
    "                    #### The option no 2 was chosen as  it was giving  better results during \n",
    "                    #### trial model runs\n",
    "                    batch_data[folder,idx,:,:,0] = (image[:, : , 0] - np.percentile(image[:, : , 0],5))/ (np.percentile(image[:, : , 0],95) - np.percentile(image[:, : , 0],5))\n",
    "                    batch_data[folder,idx,:,:,1] = (image[:, : , 1] - np.percentile(image[:, : , 1],5))/ (np.percentile(image[:, : , 1],95) - np.percentile(image[:, : , 1],5))\n",
    "                    batch_data[folder,idx,:,:,2] = (image[:, : , 2] - np.percentile(image[:, : , 2],5))/ (np.percentile(image[:, : , 2],95) - np.percentile(image[:, : , 2],5))\n",
    "                # Adding labels in one-hot encoding format\n",
    "                batch_labels[folder, int(t[folder + (batch*batch_size)].strip().split(';')[2])] = 1\n",
    "            yield batch_data, batch_labels \n",
    "\n",
    "        # Processing extra batch in case the num of batches calculated above was unable to run\n",
    "        # all data . All other processing remains same as above\n",
    "        if (leftover):\n",
    "            batch_data = np.zeros((leftover,len(img_idx),imgdim,imgdim,3)) \n",
    "            batch_labels = np.zeros((leftover,5)) \n",
    "            for folder in range(leftover): \n",
    "                imgs = os.listdir(source_path+'/'+ t[folder + (batch*batch_size)].split(';')[0]) \n",
    "                for idx,item in enumerate(img_idx): \n",
    "                    image = imread(source_path+'/'+ t[folder + (batch*batch_size)].strip().split(';')[0]+'/'+imgs[item]).astype(np.float32)\n",
    "                    image= resize(image,[imgdim,imgdim])     \n",
    "                    batch_data[folder,idx,:,:,0] = (image[:, : , 0] - np.percentile(image[:, : , 0],5))/ (np.percentile(image[:, : , 0],95) - np.percentile(image[:, : , 0],5))\n",
    "                    batch_data[folder,idx,:,:,1] = (image[:, : , 1] - np.percentile(image[:, : , 1],5))/ (np.percentile(image[:, : , 1],95) - np.percentile(image[:, : , 1],5))\n",
    "                    batch_data[folder,idx,:,:,2] = (image[:, : , 2] - np.percentile(image[:, : , 2],5))/ (np.percentile(image[:, : , 2],95) - np.percentile(image[:, : , 2],5))\n",
    "                    \n",
    "                batch_labels[folder, int(t[folder + (batch*batch_size)].strip().split(';')[2])] = 1\n",
    "            yield batch_data, batch_labels"
   ]
  },
  {
   "cell_type": "markdown",
   "metadata": {},
   "source": [
    "#### Data Generator Test\n",
    "#### Testing generator with random input to ensure its generating data in the correct format"
   ]
  },
  {
   "cell_type": "code",
   "execution_count": 14,
   "metadata": {},
   "outputs": [],
   "source": [
    "# Initializating variable num_train_sequences and num_train_sequences, which are the number of \n",
    "# folder we have and this will be used to calculate steps_per_epoch and is also needed now to \n",
    "# test the generator"
   ]
  },
  {
   "cell_type": "code",
   "execution_count": 15,
   "metadata": {
    "execution": {
     "iopub.execute_input": "2021-10-26T12:54:04.013245Z",
     "iopub.status.busy": "2021-10-26T12:54:04.012927Z",
     "iopub.status.idle": "2021-10-26T12:54:04.026406Z",
     "shell.execute_reply": "2021-10-26T12:54:04.025546Z",
     "shell.execute_reply.started": "2021-10-26T12:54:04.013167Z"
    }
   },
   "outputs": [
    {
     "name": "stdout",
     "output_type": "stream",
     "text": [
      "Number of training sequences = 663\n",
      "Number of validation sequences = 100\n"
     ]
    }
   ],
   "source": [
    "curr_dt_time = datetime.datetime.now()\n",
    "train_path = 'datasets/Project_data/train'\n",
    "val_path = 'datasets/Project_data/val'\n",
    "num_train_sequences = len(train_doc)\n",
    "print('Number of training sequences =', num_train_sequences)\n",
    "num_val_sequences = len(val_doc)\n",
    "print('Number of validation sequences =', num_val_sequences)\n"
   ]
  },
  {
   "cell_type": "code",
   "execution_count": 16,
   "metadata": {},
   "outputs": [
    {
     "name": "stdout",
     "output_type": "stream",
     "text": [
      "\n",
      "Source path =  datasets/Project_data/train ; batch size = 4\n",
      "Shape of training input : (4, 30, 120, 120, 3)\n",
      "One-Hot code encoded labels :\n",
      "[[0. 1. 0. 0. 0.]\n",
      " [0. 0. 1. 0. 0.]\n",
      " [0. 0. 1. 0. 0.]\n",
      " [0. 0. 0. 0. 1.]]\n"
     ]
    }
   ],
   "source": [
    "# Data Generator - Test 1\n",
    "batch_size =4\n",
    "imgdim =120\n",
    "img_idx =  [x for x in range(0,30)]\n",
    "train_generator = generator(train_path, train_doc, batch_size,imgdim,img_idx)\n",
    "frames, label = next(train_generator)\n",
    "print(\"Shape of training input :\",frames.shape)\n",
    "print(\"One-Hot code encoded labels :\")\n",
    "print(label)\n"
   ]
  },
  {
   "cell_type": "markdown",
   "metadata": {},
   "source": [
    "#### Result\n",
    "Data Generator Test 1 passed as the data received is as expected i.e. batch size, number of images per folder , image dimension and channels are whats was passed to the generator function\n",
    "The generator also gave 4 one-hot encoded labels which correspond to the number of folder in the batch"
   ]
  },
  {
   "cell_type": "code",
   "execution_count": 17,
   "metadata": {
    "scrolled": true
   },
   "outputs": [
    {
     "name": "stdout",
     "output_type": "stream",
     "text": [
      "\n",
      "Source path =  datasets/Project_data/train ; batch size = 8\n",
      "Shape of training input : (8, 15, 220, 220, 3)\n",
      "One-Hot code encoded labels :\n",
      "[[0. 0. 0. 1. 0.]\n",
      " [1. 0. 0. 0. 0.]\n",
      " [0. 0. 0. 1. 0.]\n",
      " [0. 0. 0. 1. 0.]\n",
      " [0. 0. 0. 0. 1.]\n",
      " [0. 0. 1. 0. 0.]\n",
      " [0. 1. 0. 0. 0.]\n",
      " [0. 0. 0. 1. 0.]]\n"
     ]
    }
   ],
   "source": [
    "# Data Generator - Test 2\n",
    "batch_size =8 # Increased batch size\n",
    "imgdim =220 # Increased image dimensions\n",
    "img_idx =  [x for x in range(0,30,2)] # Decreased number of image to half\n",
    "train_generator = generator(train_path, train_doc, batch_size,imgdim,img_idx)\n",
    "frames, label = next(train_generator)\n",
    "print(\"Shape of training input :\",frames.shape)\n",
    "print(\"One-Hot code encoded labels :\")\n",
    "print(label)\n"
   ]
  },
  {
   "cell_type": "markdown",
   "metadata": {},
   "source": [
    "#### Result\n",
    "Data Generator Test 2 passed as the data received is as expected\n",
    "i.e. batch size, number of images per folder , image dimension and channels are whats was passed.\n",
    "The generator also gave 8 one-hot encoded labels which correspond to the number of  folder in the batch. Also the dimension were scaled compared to previous test and number of images per folder were halved for the test"
   ]
  },
  {
   "cell_type": "code",
   "execution_count": 18,
   "metadata": {},
   "outputs": [],
   "source": [
    "# Functions to calculate number of steps required per epoch (train and validation)\n",
    "# Converted code to function to avoid code clutter\n",
    "\n",
    "def setSteps_epoch(batch_size):\n",
    "    if (num_train_sequences%batch_size) == 0:\n",
    "        steps_per_epoch = int(num_train_sequences/batch_size)\n",
    "        return steps_per_epoch\n",
    "    else:\n",
    "        steps_per_epoch = (num_train_sequences//batch_size) + 1\n",
    "        return steps_per_epoch\n",
    "def setSteps_validation(batch_size):\n",
    "    if (num_val_sequences%batch_size) == 0:\n",
    "        validation_steps = int(num_val_sequences/batch_size)\n",
    "        return validation_steps\n",
    "    else:\n",
    "        validation_steps = (num_val_sequences//batch_size) + 1\n",
    "        return validation_steps"
   ]
  },
  {
   "cell_type": "code",
   "execution_count": 19,
   "metadata": {},
   "outputs": [],
   "source": [
    "## The trainmodel function ##\n",
    "#### We will be using this function to fit all the models\n",
    "#### The function will perform all necessary steps like generating steps per epoch etc\n",
    "## Error Exception implemented to reduce batch size in case of ExhaustedResourcesError\n",
    "\n",
    "def trainmodel(modelname,batch_size):\n",
    "    # Calculation steps per epoch/validation for every model in case of change of batch size by \n",
    "    # calling the setSteps functions\n",
    "    print(\"_________________\")\n",
    "    print(\"Batch Size is :\",batch_size)\n",
    "    \n",
    "    steps_per_epoch= setSteps_epoch(batch_size)\n",
    "    validation_steps= setSteps_validation(batch_size)\n",
    "    \n",
    "    #Initializing the generator function so we can iterate through the batches\n",
    "    \n",
    "    train_generator = generator(train_path, train_doc, batch_size,imgdim,img_idx)\n",
    "    val_generator = generator(val_path, val_doc, batch_size,imgdim,img_idx)\n",
    "    \n",
    "    # Fitting the compiled model\n",
    "    \n",
    "    try:\n",
    "        train_start_time=datetime.datetime.now()\n",
    "        modelname.fit(train_generator, steps_per_epoch=steps_per_epoch, epochs=num_epochs, verbose=1, \n",
    "                        callbacks=callbacks_list, validation_data=val_generator, \n",
    "                        validation_steps=validation_steps, class_weight=None, initial_epoch=0)\n",
    "        time_taken_to_train =datetime.datetime.now()-train_start_time\n",
    "        print(\"Time Taken to Train this model was : \",time_taken_to_train)\n",
    "    \n",
    "## The project contains different type of models with different parameters and architecture, and hence some model exhaust\n",
    "## resources even with a lower batch size, hence we will use error catching to set the batch size. We will start with a \n",
    "## value of 8 for all and than keep coming down till we find a batchs size that works\n",
    "\n",
    "    # Catching resource exhausted error and decreasing the batch size to prevent \n",
    "    # having to manually update the batch size in case of failure\n",
    "    \n",
    "    \n",
    "    except tf.errors.ResourceExhaustedError:\n",
    "        print(\"Reducing Batch Size\")\n",
    "        if(batch_size==1):\n",
    "            print(\"Cannot reduce Batch size anymore, it cannot be less than 1\")\n",
    "        elif (batch_size>=8):\n",
    "            batch_size -=4\n",
    "            trainmodel(modelname,batch_size)\n",
    "        elif (batch_size>=4):\n",
    "            batch_size -=2\n",
    "            trainmodel(modelname,batch_size)\n",
    "        elif (batch_size>=2):\n",
    "            batch_size -=1\n",
    "            trainmodel(modelname,batch_size)\n"
   ]
  },
  {
   "cell_type": "markdown",
   "metadata": {},
   "source": [
    "#### Setting initial default Values\n"
   ]
  },
  {
   "cell_type": "code",
   "execution_count": 20,
   "metadata": {},
   "outputs": [],
   "source": [
    "\n",
    "img_idx =  [x for x in range(0,30)]  #--- Number of images per folder to be used for training\n",
    "                                    #-Can be manipulated to decrease image between 1-30(0-29-idx)\n",
    "\n",
    "# Image dimension for the resizing - using 120 to match the smallest dimension available in the dataset\n",
    "\n",
    "imgdim =120 # --- Image Dimension-- Only one parameter specified as we will use a square image\n",
    "\n",
    "num_epochs=20 #----- Set default number of epochs --- Can be overridden if needed before call to model fit"
   ]
  },
  {
   "cell_type": "code",
   "execution_count": 21,
   "metadata": {},
   "outputs": [],
   "source": [
    "#Importing some of the libraries we will be using to create our models"
   ]
  },
  {
   "cell_type": "code",
   "execution_count": 22,
   "metadata": {},
   "outputs": [],
   "source": [
    "from tensorflow.keras.models import Sequential, Model\n",
    "from tensorflow.keras import layers\n",
    "from tensorflow.keras.layers import Dense, Flatten, BatchNormalization, Activation, Dropout, ReLU,GlobalAveragePooling3D\n",
    "from tensorflow.keras.layers import Conv3D, MaxPooling3D,LayerNormalization,Input,GlobalAveragePooling2D\n",
    "from tensorflow.keras.callbacks import ModelCheckpoint, ReduceLROnPlateau, EarlyStopping\n",
    "from tensorflow.keras import optimizers\n",
    "from tensorflow.keras.layers import LSTM, GRU, TimeDistributed\n",
    "from tensorflow.keras.layers import Conv2D,MaxPooling2D"
   ]
  },
  {
   "cell_type": "code",
   "execution_count": 23,
   "metadata": {},
   "outputs": [],
   "source": [
    "### Setting parameters that will be used will during training the model\n",
    "#### We will be setting ReduceLROnPlateau to modify the LR in case of no improvement in Val_loss\n",
    "#### after 3 epoch\n",
    "#### Earlystopping was experimented with, but was not implemented in the final model fits"
   ]
  },
  {
   "cell_type": "code",
   "execution_count": 24,
   "metadata": {},
   "outputs": [],
   "source": [
    "## Model Save to file parameters \n",
    "## Repurposed from starter code \n",
    "model_name = 'model_init' + '_' + str(curr_dt_time).replace(' ','').replace(':','_') + '/'\n",
    "    \n",
    "if not os.path.exists(model_name):\n",
    "    os.mkdir(model_name)\n",
    "        \n",
    "filepath = model_name + 'model-{epoch:05d}-{loss:.5f}-{categorical_accuracy:.5f}-{val_loss:.5f}-{val_categorical_accuracy:.5f}.h5'\n",
    "\n",
    "checkpoint = ModelCheckpoint(filepath, monitor='val_loss', verbose=1, save_best_only=False, save_weights_only=False, mode='auto', save_freq='epoch')\n",
    "\n",
    "# We will Reduce the learning rate if no improvement in val_loss is seen after 3 epochs\n",
    "LR = ReduceLROnPlateau(monitor='val_loss', factor=0.5, patience=3, cooldown=1, verbose=1)\n",
    "\n",
    "callbacks_list = [LR,checkpoint]"
   ]
  },
  {
   "cell_type": "code",
   "execution_count": null,
   "metadata": {},
   "outputs": [],
   "source": []
  },
  {
   "cell_type": "markdown",
   "metadata": {},
   "source": [
    "## Model 1: CNN - Conv3D"
   ]
  },
  {
   "cell_type": "code",
   "execution_count": 25,
   "metadata": {},
   "outputs": [],
   "source": [
    "# Experimental model - Random architecture - \n",
    "#Initial Filter of (1,3,3)followed by (3,1,1) and repeated (1,3,3) and (3,1,1) with \n",
    "#Layer Normalization and ReLU activation, batch Normalization is only used once after the first 2 \n",
    "#Conv3d\n",
    "# Filter size was chosen after some articles suggested that this filter size could be a good fit to extract feature "
   ]
  },
  {
   "cell_type": "code",
   "execution_count": 26,
   "metadata": {},
   "outputs": [],
   "source": [
    "# Model Architecture\n",
    "\n",
    "Input_shape = (len(img_idx), imgdim, imgdim, 3)\n",
    "model_cnn_1 = Sequential()\n",
    "model_cnn_1.add(Conv3D(16, (1,3,3),padding=\"same\",input_shape=Input_shape))\n",
    "model_cnn_1.add(Conv3D(16, (3,1,1),padding=\"same\"))\n",
    "model_cnn_1.add(BatchNormalization())\n",
    "model_cnn_1.add(ReLU())\n",
    "\n",
    "model_cnn_1.add(Conv3D(16, (1,3,3),padding=\"same\"))\n",
    "model_cnn_1.add(Conv3D(16, (3,1,1),padding=\"same\"))\n",
    "model_cnn_1.add(LayerNormalization())\n",
    "model_cnn_1.add(ReLU())\n",
    "model_cnn_1.add(Conv3D(16, (1,3,3),padding=\"same\"))\n",
    "model_cnn_1.add(Conv3D(16, (3,1,1),padding=\"same\"))\n",
    "model_cnn_1.add(LayerNormalization())\n",
    "\n",
    "model_cnn_1.add(Conv3D(32, (1,3,3),padding=\"same\"))\n",
    "model_cnn_1.add(Conv3D(32, (3,1,1),padding=\"same\"))\n",
    "model_cnn_1.add(LayerNormalization())\n",
    "model_cnn_1.add(ReLU())\n",
    "model_cnn_1.add(Conv3D(32, (1,3,3),padding=\"same\"))\n",
    "model_cnn_1.add(Conv3D(32, (3,1,1),padding=\"same\"))\n",
    "model_cnn_1.add(LayerNormalization())\n",
    "\n",
    "\n",
    "model_cnn_1.add(Flatten())\n",
    "\n",
    "\n",
    "model_cnn_1.add(Dense(5,activation='softmax'))"
   ]
  },
  {
   "cell_type": "code",
   "execution_count": 27,
   "metadata": {
    "execution": {
     "iopub.execute_input": "2021-10-26T06:20:07.757837Z",
     "iopub.status.busy": "2021-10-26T06:20:07.757588Z",
     "iopub.status.idle": "2021-10-26T06:20:07.929675Z",
     "shell.execute_reply": "2021-10-26T06:20:07.929025Z",
     "shell.execute_reply.started": "2021-10-26T06:20:07.757808Z"
    }
   },
   "outputs": [
    {
     "name": "stdout",
     "output_type": "stream",
     "text": [
      "Model: \"sequential\"\n",
      "_________________________________________________________________\n",
      " Layer (type)                Output Shape              Param #   \n",
      "=================================================================\n",
      " conv3d (Conv3D)             (None, 30, 120, 120, 16)  448       \n",
      "                                                                 \n",
      " conv3d_1 (Conv3D)           (None, 30, 120, 120, 16)  784       \n",
      "                                                                 \n",
      " batch_normalization (BatchN  (None, 30, 120, 120, 16)  64       \n",
      " ormalization)                                                   \n",
      "                                                                 \n",
      " re_lu (ReLU)                (None, 30, 120, 120, 16)  0         \n",
      "                                                                 \n",
      " conv3d_2 (Conv3D)           (None, 30, 120, 120, 16)  2320      \n",
      "                                                                 \n",
      " conv3d_3 (Conv3D)           (None, 30, 120, 120, 16)  784       \n",
      "                                                                 \n",
      " layer_normalization (LayerN  (None, 30, 120, 120, 16)  32       \n",
      " ormalization)                                                   \n",
      "                                                                 \n",
      " re_lu_1 (ReLU)              (None, 30, 120, 120, 16)  0         \n",
      "                                                                 \n",
      " conv3d_4 (Conv3D)           (None, 30, 120, 120, 16)  2320      \n",
      "                                                                 \n",
      " conv3d_5 (Conv3D)           (None, 30, 120, 120, 16)  784       \n",
      "                                                                 \n",
      " layer_normalization_1 (Laye  (None, 30, 120, 120, 16)  32       \n",
      " rNormalization)                                                 \n",
      "                                                                 \n",
      " conv3d_6 (Conv3D)           (None, 30, 120, 120, 32)  4640      \n",
      "                                                                 \n",
      " conv3d_7 (Conv3D)           (None, 30, 120, 120, 32)  3104      \n",
      "                                                                 \n",
      " layer_normalization_2 (Laye  (None, 30, 120, 120, 32)  64       \n",
      " rNormalization)                                                 \n",
      "                                                                 \n",
      " re_lu_2 (ReLU)              (None, 30, 120, 120, 32)  0         \n",
      "                                                                 \n",
      " conv3d_8 (Conv3D)           (None, 30, 120, 120, 32)  9248      \n",
      "                                                                 \n",
      " conv3d_9 (Conv3D)           (None, 30, 120, 120, 32)  3104      \n",
      "                                                                 \n",
      " layer_normalization_3 (Laye  (None, 30, 120, 120, 32)  64       \n",
      " rNormalization)                                                 \n",
      "                                                                 \n",
      " flatten (Flatten)           (None, 13824000)          0         \n",
      "                                                                 \n",
      " dense (Dense)               (None, 5)                 69120005  \n",
      "                                                                 \n",
      "=================================================================\n",
      "Total params: 69,147,797\n",
      "Trainable params: 69,147,765\n",
      "Non-trainable params: 32\n",
      "_________________________________________________________________\n",
      "None\n"
     ]
    }
   ],
   "source": [
    "# Compiling the model using Adam as optimizer\n",
    "model_cnn_1.compile(optimizer=optimizers.Adam(), loss='categorical_crossentropy', metrics=['categorical_accuracy'])\n",
    "print (model_cnn_1.summary())"
   ]
  },
  {
   "cell_type": "code",
   "execution_count": 28,
   "metadata": {},
   "outputs": [
    {
     "name": "stdout",
     "output_type": "stream",
     "text": [
      "_________________\n",
      "Batch Size is : 8\n",
      "\n",
      "Source path =  datasets/Project_data/train ; batch size = 8\n",
      "Epoch 1/20\n",
      "Reducing Batch Size\n",
      "_________________\n",
      "Batch Size is : 4\n",
      "\n",
      "Source path =  datasets/Project_data/train ; batch size = 4\n",
      "Epoch 1/20\n",
      "166/166 [==============================] - ETA: 0s - loss: 2578.1406 - categorical_accuracy: 0.3831\n",
      "Source path =  datasets/Project_data/val ; batch size = 4\n",
      "\n",
      "Epoch 1: saving model to model_init_2023-02-1110_46_15.734516\\model-00001-2578.14062-0.38311-1777.26843-0.46000.h5\n",
      "166/166 [==============================] - 127s 754ms/step - loss: 2578.1406 - categorical_accuracy: 0.3831 - val_loss: 1777.2684 - val_categorical_accuracy: 0.4600 - lr: 0.0010\n",
      "Epoch 2/20\n",
      "166/166 [==============================] - ETA: 0s - loss: 1075.3059 - categorical_accuracy: 0.6305\n",
      "Epoch 2: saving model to model_init_2023-02-1110_46_15.734516\\model-00002-1075.30591-0.63047-1538.53113-0.53000.h5\n",
      "166/166 [==============================] - 123s 741ms/step - loss: 1075.3059 - categorical_accuracy: 0.6305 - val_loss: 1538.5311 - val_categorical_accuracy: 0.5300 - lr: 0.0010\n",
      "Epoch 3/20\n",
      "166/166 [==============================] - ETA: 0s - loss: 495.1875 - categorical_accuracy: 0.7919\n",
      "Epoch 3: saving model to model_init_2023-02-1110_46_15.734516\\model-00003-495.18750-0.79186-988.55096-0.64000.h5\n",
      "166/166 [==============================] - 123s 742ms/step - loss: 495.1875 - categorical_accuracy: 0.7919 - val_loss: 988.5510 - val_categorical_accuracy: 0.6400 - lr: 0.0010\n",
      "Epoch 4/20\n",
      "166/166 [==============================] - ETA: 0s - loss: 208.5093 - categorical_accuracy: 0.8688\n",
      "Epoch 4: saving model to model_init_2023-02-1110_46_15.734516\\model-00004-208.50929-0.86878-1057.19604-0.63000.h5\n",
      "166/166 [==============================] - 124s 748ms/step - loss: 208.5093 - categorical_accuracy: 0.8688 - val_loss: 1057.1960 - val_categorical_accuracy: 0.6300 - lr: 0.0010\n",
      "Epoch 5/20\n",
      "166/166 [==============================] - ETA: 0s - loss: 174.7245 - categorical_accuracy: 0.8793\n",
      "Epoch 5: saving model to model_init_2023-02-1110_46_15.734516\\model-00005-174.72449-0.87934-1166.36792-0.61000.h5\n",
      "166/166 [==============================] - 124s 751ms/step - loss: 174.7245 - categorical_accuracy: 0.8793 - val_loss: 1166.3679 - val_categorical_accuracy: 0.6100 - lr: 0.0010\n",
      "Epoch 6/20\n",
      "166/166 [==============================] - ETA: 0s - loss: 97.6505 - categorical_accuracy: 0.9276\n",
      "Epoch 6: ReduceLROnPlateau reducing learning rate to 0.0005000000237487257.\n",
      "\n",
      "Epoch 6: saving model to model_init_2023-02-1110_46_15.734516\\model-00006-97.65045-0.92760-1264.48718-0.63000.h5\n",
      "166/166 [==============================] - 123s 740ms/step - loss: 97.6505 - categorical_accuracy: 0.9276 - val_loss: 1264.4872 - val_categorical_accuracy: 0.6300 - lr: 0.0010\n",
      "Epoch 7/20\n",
      "166/166 [==============================] - ETA: 0s - loss: 40.0918 - categorical_accuracy: 0.9683\n",
      "Epoch 7: saving model to model_init_2023-02-1110_46_15.734516\\model-00007-40.09179-0.96833-1052.20850-0.67000.h5\n",
      "166/166 [==============================] - 122s 738ms/step - loss: 40.0918 - categorical_accuracy: 0.9683 - val_loss: 1052.2085 - val_categorical_accuracy: 0.6700 - lr: 5.0000e-04\n",
      "Epoch 8/20\n",
      "166/166 [==============================] - ETA: 0s - loss: 3.5066 - categorical_accuracy: 0.9894\n",
      "Epoch 8: saving model to model_init_2023-02-1110_46_15.734516\\model-00008-3.50657-0.98944-1109.63049-0.67000.h5\n",
      "166/166 [==============================] - 123s 741ms/step - loss: 3.5066 - categorical_accuracy: 0.9894 - val_loss: 1109.6305 - val_categorical_accuracy: 0.6700 - lr: 5.0000e-04\n",
      "Epoch 9/20\n",
      "166/166 [==============================] - ETA: 0s - loss: 6.7868 - categorical_accuracy: 0.9879\n",
      "Epoch 9: saving model to model_init_2023-02-1110_46_15.734516\\model-00009-6.78684-0.98793-920.43353-0.62000.h5\n",
      "166/166 [==============================] - 122s 735ms/step - loss: 6.7868 - categorical_accuracy: 0.9879 - val_loss: 920.4335 - val_categorical_accuracy: 0.6200 - lr: 5.0000e-04\n",
      "Epoch 10/20\n",
      "166/166 [==============================] - ETA: 0s - loss: 5.4489 - categorical_accuracy: 0.9879\n",
      "Epoch 10: saving model to model_init_2023-02-1110_46_15.734516\\model-00010-5.44888-0.98793-833.48462-0.65000.h5\n",
      "166/166 [==============================] - 122s 739ms/step - loss: 5.4489 - categorical_accuracy: 0.9879 - val_loss: 833.4846 - val_categorical_accuracy: 0.6500 - lr: 5.0000e-04\n",
      "Epoch 11/20\n",
      "166/166 [==============================] - ETA: 0s - loss: 10.6925 - categorical_accuracy: 0.9894\n",
      "Epoch 11: saving model to model_init_2023-02-1110_46_15.734516\\model-00011-10.69255-0.98944-902.16235-0.68000.h5\n",
      "166/166 [==============================] - 123s 740ms/step - loss: 10.6925 - categorical_accuracy: 0.9894 - val_loss: 902.1624 - val_categorical_accuracy: 0.6800 - lr: 5.0000e-04\n",
      "Epoch 12/20\n",
      "166/166 [==============================] - ETA: 0s - loss: 19.2683 - categorical_accuracy: 0.9774\n",
      "Epoch 12: saving model to model_init_2023-02-1110_46_15.734516\\model-00012-19.26831-0.97738-776.43445-0.69000.h5\n",
      "166/166 [==============================] - 122s 738ms/step - loss: 19.2683 - categorical_accuracy: 0.9774 - val_loss: 776.4344 - val_categorical_accuracy: 0.6900 - lr: 5.0000e-04\n",
      "Epoch 13/20\n",
      "166/166 [==============================] - ETA: 0s - loss: 15.4432 - categorical_accuracy: 0.9819\n",
      "Epoch 13: saving model to model_init_2023-02-1110_46_15.734516\\model-00013-15.44317-0.98190-1131.18787-0.63000.h5\n",
      "166/166 [==============================] - 124s 746ms/step - loss: 15.4432 - categorical_accuracy: 0.9819 - val_loss: 1131.1879 - val_categorical_accuracy: 0.6300 - lr: 5.0000e-04\n",
      "Epoch 14/20\n",
      "166/166 [==============================] - ETA: 0s - loss: 31.6012 - categorical_accuracy: 0.9789\n",
      "Epoch 14: saving model to model_init_2023-02-1110_46_15.734516\\model-00014-31.60124-0.97888-807.13562-0.72000.h5\n",
      "166/166 [==============================] - 122s 738ms/step - loss: 31.6012 - categorical_accuracy: 0.9789 - val_loss: 807.1356 - val_categorical_accuracy: 0.7200 - lr: 5.0000e-04\n",
      "Epoch 15/20\n",
      "166/166 [==============================] - ETA: 0s - loss: 16.1641 - categorical_accuracy: 0.9879\n",
      "Epoch 15: ReduceLROnPlateau reducing learning rate to 0.0002500000118743628.\n",
      "\n",
      "Epoch 15: saving model to model_init_2023-02-1110_46_15.734516\\model-00015-16.16411-0.98793-1037.47229-0.61000.h5\n",
      "166/166 [==============================] - 123s 745ms/step - loss: 16.1641 - categorical_accuracy: 0.9879 - val_loss: 1037.4723 - val_categorical_accuracy: 0.6100 - lr: 5.0000e-04\n",
      "Epoch 16/20\n",
      "166/166 [==============================] - ETA: 0s - loss: 6.0494 - categorical_accuracy: 0.9894\n",
      "Epoch 16: saving model to model_init_2023-02-1110_46_15.734516\\model-00016-6.04939-0.98944-1262.61841-0.60000.h5\n",
      "166/166 [==============================] - 123s 741ms/step - loss: 6.0494 - categorical_accuracy: 0.9894 - val_loss: 1262.6184 - val_categorical_accuracy: 0.6000 - lr: 2.5000e-04\n",
      "Epoch 17/20\n",
      "166/166 [==============================] - ETA: 0s - loss: 0.3915 - categorical_accuracy: 0.9970\n",
      "Epoch 17: saving model to model_init_2023-02-1110_46_15.734516\\model-00017-0.39146-0.99698-954.05890-0.65000.h5\n",
      "166/166 [==============================] - 123s 743ms/step - loss: 0.3915 - categorical_accuracy: 0.9970 - val_loss: 954.0589 - val_categorical_accuracy: 0.6500 - lr: 2.5000e-04\n",
      "Epoch 18/20\n",
      "166/166 [==============================] - ETA: 0s - loss: 0.0000e+00 - categorical_accuracy: 1.0000\n",
      "Epoch 18: ReduceLROnPlateau reducing learning rate to 0.0001250000059371814.\n",
      "\n",
      "Epoch 18: saving model to model_init_2023-02-1110_46_15.734516\\model-00018-0.00000-1.00000-1107.17053-0.65000.h5\n",
      "166/166 [==============================] - 123s 740ms/step - loss: 0.0000e+00 - categorical_accuracy: 1.0000 - val_loss: 1107.1705 - val_categorical_accuracy: 0.6500 - lr: 2.5000e-04\n",
      "Epoch 19/20\n",
      "166/166 [==============================] - ETA: 0s - loss: 0.1525 - categorical_accuracy: 0.9985\n",
      "Epoch 19: saving model to model_init_2023-02-1110_46_15.734516\\model-00019-0.15245-0.99849-1145.87183-0.63000.h5\n",
      "166/166 [==============================] - 123s 743ms/step - loss: 0.1525 - categorical_accuracy: 0.9985 - val_loss: 1145.8718 - val_categorical_accuracy: 0.6300 - lr: 1.2500e-04\n",
      "Epoch 20/20\n",
      "166/166 [==============================] - ETA: 0s - loss: 2.2561 - categorical_accuracy: 0.9955\n",
      "Epoch 20: saving model to model_init_2023-02-1110_46_15.734516\\model-00020-2.25615-0.99548-1032.81689-0.69000.h5\n",
      "166/166 [==============================] - 122s 738ms/step - loss: 2.2561 - categorical_accuracy: 0.9955 - val_loss: 1032.8169 - val_categorical_accuracy: 0.6900 - lr: 1.2500e-04\n",
      "Time Taken to Train this model was :  0:41:00.752651\n"
     ]
    }
   ],
   "source": [
    "## Using trainmodel function to train, values passed is model name and batch size\n",
    "batch_size = 8\n",
    "trainmodel(model_cnn_1,batch_size)"
   ]
  },
  {
   "cell_type": "code",
   "execution_count": 29,
   "metadata": {},
   "outputs": [],
   "source": [
    "model_cnn_1.save(\"model_cnn_1.h5\")"
   ]
  },
  {
   "cell_type": "markdown",
   "metadata": {},
   "source": [
    "## Model 2: CNN - Conv3D "
   ]
  },
  {
   "cell_type": "code",
   "execution_count": 31,
   "metadata": {},
   "outputs": [],
   "source": [
    "# Experimental model - Random architecture - \n",
    "#Initial Filter of (3,3,3) and maxpooling with constant pool size of (3,3,3)"
   ]
  },
  {
   "cell_type": "code",
   "execution_count": 32,
   "metadata": {},
   "outputs": [],
   "source": [
    "# Model Architecture for model_cnn_2\n",
    "Input_shape = (len(img_idx), imgdim, imgdim, 3)\n",
    "\n",
    "model_cnn_2 = Sequential()\n",
    "model_cnn_2.add(Conv3D(16, (3,3,3),input_shape=Input_shape,padding=\"same\"))\n",
    "model_cnn_2.add(BatchNormalization())\n",
    "model_cnn_2.add(Activation('relu'))\n",
    "model_cnn_2.add(MaxPooling3D(pool_size=(3,3,3)))\n",
    "\n",
    "model_cnn_2.add(Conv3D(32,(3,3,3),padding='same'))\n",
    "model_cnn_2.add(BatchNormalization())\n",
    "model_cnn_2.add(Activation('relu'))\n",
    "model_cnn_2.add(MaxPooling3D(pool_size=(3,3,3)))\n",
    "model_cnn_2.add(layers.Dropout(0.25))\n",
    "\n",
    "model_cnn_2.add(Conv3D(64,(3,3,3),padding='same'))\n",
    "model_cnn_2.add(BatchNormalization())\n",
    "model_cnn_2.add(Activation('relu'))\n",
    "model_cnn_2.add(MaxPooling3D(pool_size=(3,3,3)))\n",
    "\n",
    "\n",
    "model_cnn_2.add(Flatten())\n",
    "model_cnn_2.add(Dense(512, activation='relu'))\n",
    "model_cnn_2.add(layers.Dropout(0.5))\n",
    "\n",
    "model_cnn_2.add(Dense(5,activation='softmax'))"
   ]
  },
  {
   "cell_type": "code",
   "execution_count": 33,
   "metadata": {
    "execution": {
     "iopub.execute_input": "2021-10-26T06:20:07.757837Z",
     "iopub.status.busy": "2021-10-26T06:20:07.757588Z",
     "iopub.status.idle": "2021-10-26T06:20:07.929675Z",
     "shell.execute_reply": "2021-10-26T06:20:07.929025Z",
     "shell.execute_reply.started": "2021-10-26T06:20:07.757808Z"
    }
   },
   "outputs": [
    {
     "name": "stdout",
     "output_type": "stream",
     "text": [
      "Model: \"sequential_1\"\n",
      "_________________________________________________________________\n",
      " Layer (type)                Output Shape              Param #   \n",
      "=================================================================\n",
      " conv3d_10 (Conv3D)          (None, 30, 120, 120, 16)  1312      \n",
      "                                                                 \n",
      " batch_normalization_1 (Batc  (None, 30, 120, 120, 16)  64       \n",
      " hNormalization)                                                 \n",
      "                                                                 \n",
      " activation (Activation)     (None, 30, 120, 120, 16)  0         \n",
      "                                                                 \n",
      " max_pooling3d (MaxPooling3D  (None, 10, 40, 40, 16)   0         \n",
      " )                                                               \n",
      "                                                                 \n",
      " conv3d_11 (Conv3D)          (None, 10, 40, 40, 32)    13856     \n",
      "                                                                 \n",
      " batch_normalization_2 (Batc  (None, 10, 40, 40, 32)   128       \n",
      " hNormalization)                                                 \n",
      "                                                                 \n",
      " activation_1 (Activation)   (None, 10, 40, 40, 32)    0         \n",
      "                                                                 \n",
      " max_pooling3d_1 (MaxPooling  (None, 3, 13, 13, 32)    0         \n",
      " 3D)                                                             \n",
      "                                                                 \n",
      " dropout (Dropout)           (None, 3, 13, 13, 32)     0         \n",
      "                                                                 \n",
      " conv3d_12 (Conv3D)          (None, 3, 13, 13, 64)     55360     \n",
      "                                                                 \n",
      " batch_normalization_3 (Batc  (None, 3, 13, 13, 64)    256       \n",
      " hNormalization)                                                 \n",
      "                                                                 \n",
      " activation_2 (Activation)   (None, 3, 13, 13, 64)     0         \n",
      "                                                                 \n",
      " max_pooling3d_2 (MaxPooling  (None, 1, 4, 4, 64)      0         \n",
      " 3D)                                                             \n",
      "                                                                 \n",
      " flatten_1 (Flatten)         (None, 1024)              0         \n",
      "                                                                 \n",
      " dense_1 (Dense)             (None, 512)               524800    \n",
      "                                                                 \n",
      " dropout_1 (Dropout)         (None, 512)               0         \n",
      "                                                                 \n",
      " dense_2 (Dense)             (None, 5)                 2565      \n",
      "                                                                 \n",
      "=================================================================\n",
      "Total params: 598,341\n",
      "Trainable params: 598,117\n",
      "Non-trainable params: 224\n",
      "_________________________________________________________________\n",
      "None\n"
     ]
    }
   ],
   "source": [
    "# Compiling the model using Adam as optimizer\n",
    "model_cnn_2.compile(optimizer=optimizers.Adam(), loss='categorical_crossentropy', metrics=['categorical_accuracy'])\n",
    "print (model_cnn_2.summary())"
   ]
  },
  {
   "cell_type": "code",
   "execution_count": 34,
   "metadata": {},
   "outputs": [
    {
     "name": "stdout",
     "output_type": "stream",
     "text": [
      "_________________\n",
      "Batch Size is : 8\n",
      "\n",
      "Source path =  datasets/Project_data/train ; batch size = 8\n",
      "Epoch 1/20\n",
      "83/83 [==============================] - ETA: 0s - loss: 3.3947 - categorical_accuracy: 0.2881\n",
      "Source path =  datasets/Project_data/val ; batch size = 8\n",
      "\n",
      "Epoch 1: saving model to model_init_2023-02-0720_24_17.938535\\model-00001-3.39474-0.28808-2.17865-0.16000.h5\n",
      "83/83 [==============================] - 123s 1s/step - loss: 3.3947 - categorical_accuracy: 0.2881 - val_loss: 2.1787 - val_categorical_accuracy: 0.1600 - lr: 0.0010\n",
      "Epoch 2/20\n",
      "83/83 [==============================] - ETA: 0s - loss: 1.3645 - categorical_accuracy: 0.4419\n",
      "Epoch 2: saving model to model_init_2023-02-0720_24_17.938535\\model-00002-1.36450-0.44193-3.44257-0.19000.h5\n",
      "83/83 [==============================] - 124s 2s/step - loss: 1.3645 - categorical_accuracy: 0.4419 - val_loss: 3.4426 - val_categorical_accuracy: 0.1900 - lr: 0.0010\n",
      "Epoch 3/20\n",
      "83/83 [==============================] - ETA: 0s - loss: 1.1844 - categorical_accuracy: 0.5294\n",
      "Epoch 3: saving model to model_init_2023-02-0720_24_17.938535\\model-00003-1.18436-0.52941-2.88452-0.23000.h5\n",
      "83/83 [==============================] - 122s 1s/step - loss: 1.1844 - categorical_accuracy: 0.5294 - val_loss: 2.8845 - val_categorical_accuracy: 0.2300 - lr: 0.0010\n",
      "Epoch 4/20\n",
      "83/83 [==============================] - ETA: 0s - loss: 0.8976 - categorical_accuracy: 0.6546\n",
      "Epoch 4: ReduceLROnPlateau reducing learning rate to 0.0005000000237487257.\n",
      "\n",
      "Epoch 4: saving model to model_init_2023-02-0720_24_17.938535\\model-00004-0.89759-0.65460-4.04710-0.21000.h5\n",
      "83/83 [==============================] - 123s 1s/step - loss: 0.8976 - categorical_accuracy: 0.6546 - val_loss: 4.0471 - val_categorical_accuracy: 0.2100 - lr: 0.0010\n",
      "Epoch 5/20\n",
      "83/83 [==============================] - ETA: 0s - loss: 0.6146 - categorical_accuracy: 0.7738\n",
      "Epoch 5: saving model to model_init_2023-02-0720_24_17.938535\\model-00005-0.61463-0.77376-2.64578-0.24000.h5\n",
      "83/83 [==============================] - 123s 1s/step - loss: 0.6146 - categorical_accuracy: 0.7738 - val_loss: 2.6458 - val_categorical_accuracy: 0.2400 - lr: 5.0000e-04\n",
      "Epoch 6/20\n",
      "83/83 [==============================] - ETA: 0s - loss: 0.4737 - categorical_accuracy: 0.8250\n",
      "Epoch 6: saving model to model_init_2023-02-0720_24_17.938535\\model-00006-0.47366-0.82504-0.90250-0.69000.h5\n",
      "83/83 [==============================] - 122s 1s/step - loss: 0.4737 - categorical_accuracy: 0.8250 - val_loss: 0.9025 - val_categorical_accuracy: 0.6900 - lr: 5.0000e-04\n",
      "Epoch 7/20\n",
      "83/83 [==============================] - ETA: 0s - loss: 0.4687 - categorical_accuracy: 0.8371\n",
      "Epoch 7: saving model to model_init_2023-02-0720_24_17.938535\\model-00007-0.46867-0.83710-0.70112-0.69000.h5\n",
      "83/83 [==============================] - 123s 1s/step - loss: 0.4687 - categorical_accuracy: 0.8371 - val_loss: 0.7011 - val_categorical_accuracy: 0.6900 - lr: 5.0000e-04\n",
      "Epoch 8/20\n",
      "83/83 [==============================] - ETA: 0s - loss: 0.3683 - categorical_accuracy: 0.8658\n",
      "Epoch 8: saving model to model_init_2023-02-0720_24_17.938535\\model-00008-0.36833-0.86576-0.38444-0.87000.h5\n",
      "83/83 [==============================] - 123s 1s/step - loss: 0.3683 - categorical_accuracy: 0.8658 - val_loss: 0.3844 - val_categorical_accuracy: 0.8700 - lr: 5.0000e-04\n",
      "Epoch 9/20\n",
      "83/83 [==============================] - ETA: 0s - loss: 0.3333 - categorical_accuracy: 0.8914\n",
      "Epoch 9: saving model to model_init_2023-02-0720_24_17.938535\\model-00009-0.33332-0.89140-0.44328-0.84000.h5\n",
      "83/83 [==============================] - 124s 2s/step - loss: 0.3333 - categorical_accuracy: 0.8914 - val_loss: 0.4433 - val_categorical_accuracy: 0.8400 - lr: 5.0000e-04\n",
      "Epoch 10/20\n",
      "83/83 [==============================] - ETA: 0s - loss: 0.3076 - categorical_accuracy: 0.8914\n",
      "Epoch 10: saving model to model_init_2023-02-0720_24_17.938535\\model-00010-0.30756-0.89140-0.47950-0.84000.h5\n",
      "83/83 [==============================] - 123s 1s/step - loss: 0.3076 - categorical_accuracy: 0.8914 - val_loss: 0.4795 - val_categorical_accuracy: 0.8400 - lr: 5.0000e-04\n",
      "Epoch 11/20\n",
      "83/83 [==============================] - ETA: 0s - loss: 0.2323 - categorical_accuracy: 0.9186\n",
      "Epoch 11: ReduceLROnPlateau reducing learning rate to 0.0002500000118743628.\n",
      "\n",
      "Epoch 11: saving model to model_init_2023-02-0720_24_17.938535\\model-00011-0.23230-0.91855-0.60766-0.76000.h5\n",
      "83/83 [==============================] - 123s 1s/step - loss: 0.2323 - categorical_accuracy: 0.9186 - val_loss: 0.6077 - val_categorical_accuracy: 0.7600 - lr: 5.0000e-04\n",
      "Epoch 12/20\n",
      "83/83 [==============================] - ETA: 0s - loss: 0.2440 - categorical_accuracy: 0.9125\n",
      "Epoch 12: saving model to model_init_2023-02-0720_24_17.938535\\model-00012-0.24396-0.91252-0.31872-0.90000.h5\n",
      "83/83 [==============================] - 122s 1s/step - loss: 0.2440 - categorical_accuracy: 0.9125 - val_loss: 0.3187 - val_categorical_accuracy: 0.9000 - lr: 2.5000e-04\n",
      "Epoch 13/20\n",
      "83/83 [==============================] - ETA: 0s - loss: 0.1749 - categorical_accuracy: 0.9397\n",
      "Epoch 13: saving model to model_init_2023-02-0720_24_17.938535\\model-00013-0.17492-0.93967-0.29558-0.90000.h5\n",
      "83/83 [==============================] - 122s 1s/step - loss: 0.1749 - categorical_accuracy: 0.9397 - val_loss: 0.2956 - val_categorical_accuracy: 0.9000 - lr: 2.5000e-04\n",
      "Epoch 14/20\n",
      "83/83 [==============================] - ETA: 0s - loss: 0.1767 - categorical_accuracy: 0.9397\n",
      "Epoch 14: saving model to model_init_2023-02-0720_24_17.938535\\model-00014-0.17672-0.93967-0.33948-0.88000.h5\n",
      "83/83 [==============================] - 123s 1s/step - loss: 0.1767 - categorical_accuracy: 0.9397 - val_loss: 0.3395 - val_categorical_accuracy: 0.8800 - lr: 2.5000e-04\n",
      "Epoch 15/20\n",
      "83/83 [==============================] - ETA: 0s - loss: 0.1442 - categorical_accuracy: 0.9502\n",
      "Epoch 15: saving model to model_init_2023-02-0720_24_17.938535\\model-00015-0.14425-0.95023-0.30165-0.90000.h5\n",
      "83/83 [==============================] - 123s 1s/step - loss: 0.1442 - categorical_accuracy: 0.9502 - val_loss: 0.3017 - val_categorical_accuracy: 0.9000 - lr: 2.5000e-04\n",
      "Epoch 16/20\n",
      "83/83 [==============================] - ETA: 0s - loss: 0.1299 - categorical_accuracy: 0.9517\n",
      "Epoch 16: saving model to model_init_2023-02-0720_24_17.938535\\model-00016-0.12994-0.95173-0.21656-0.95000.h5\n",
      "83/83 [==============================] - 122s 1s/step - loss: 0.1299 - categorical_accuracy: 0.9517 - val_loss: 0.2166 - val_categorical_accuracy: 0.9500 - lr: 2.5000e-04\n",
      "Epoch 17/20\n",
      "83/83 [==============================] - ETA: 0s - loss: 0.1198 - categorical_accuracy: 0.9668\n",
      "Epoch 17: saving model to model_init_2023-02-0720_24_17.938535\\model-00017-0.11983-0.96682-0.31624-0.92000.h5\n",
      "83/83 [==============================] - 123s 2s/step - loss: 0.1198 - categorical_accuracy: 0.9668 - val_loss: 0.3162 - val_categorical_accuracy: 0.9200 - lr: 2.5000e-04\n",
      "Epoch 18/20\n",
      "83/83 [==============================] - ETA: 0s - loss: 0.1005 - categorical_accuracy: 0.9653\n",
      "Epoch 18: saving model to model_init_2023-02-0720_24_17.938535\\model-00018-0.10048-0.96531-0.35981-0.88000.h5\n",
      "83/83 [==============================] - 122s 1s/step - loss: 0.1005 - categorical_accuracy: 0.9653 - val_loss: 0.3598 - val_categorical_accuracy: 0.8800 - lr: 2.5000e-04\n",
      "Epoch 19/20\n",
      "83/83 [==============================] - ETA: 0s - loss: 0.1268 - categorical_accuracy: 0.9623\n",
      "Epoch 19: saving model to model_init_2023-02-0720_24_17.938535\\model-00019-0.12681-0.96229-0.08446-0.98000.h5\n",
      "83/83 [==============================] - 123s 2s/step - loss: 0.1268 - categorical_accuracy: 0.9623 - val_loss: 0.0845 - val_categorical_accuracy: 0.9800 - lr: 2.5000e-04\n",
      "Epoch 20/20\n",
      "83/83 [==============================] - ETA: 0s - loss: 0.0949 - categorical_accuracy: 0.9698\n",
      "Epoch 20: saving model to model_init_2023-02-0720_24_17.938535\\model-00020-0.09486-0.96983-0.30102-0.90000.h5\n",
      "83/83 [==============================] - 123s 1s/step - loss: 0.0949 - categorical_accuracy: 0.9698 - val_loss: 0.3010 - val_categorical_accuracy: 0.9000 - lr: 2.5000e-04\n",
      "Time Taken to Train this model was :  0:40:57.366427\n"
     ]
    }
   ],
   "source": [
    "batch_size=8\n",
    "trainmodel(model_cnn_2,batch_size)"
   ]
  },
  {
   "cell_type": "code",
   "execution_count": 35,
   "metadata": {},
   "outputs": [],
   "source": [
    "model_cnn_2.save(\"model_cnn_2.h5\")"
   ]
  },
  {
   "cell_type": "markdown",
   "metadata": {},
   "source": [
    "## Model 3 - C3D"
   ]
  },
  {
   "cell_type": "code",
   "execution_count": 36,
   "metadata": {},
   "outputs": [],
   "source": [
    "# CNN Model based on the paper \"Learning Spatiotemporal Features with 3D Convolutional Networks\" \n",
    "# https://arxiv.org/pdf/1412.0767.pdf\n",
    "\n",
    "# Consisting of 8 CONv3D with 5 max pooling and 2 fully connected layers\n"
   ]
  },
  {
   "cell_type": "code",
   "execution_count": 37,
   "metadata": {},
   "outputs": [],
   "source": [
    "## Model Architecture for C3D\n",
    "Input_shape = (len(img_idx), imgdim, imgdim, 3)\n",
    "model_C3D = Sequential()\n",
    "model_C3D.add(Conv3D(64, (3,3,3),strides=(1, 1, 1),padding=\"same\",input_shape=Input_shape))\n",
    "model_C3D.add(MaxPooling3D(pool_size=(1, 2, 2)))\n",
    "\n",
    "model_C3D.add(Conv3D(128, (3,3,3),strides=(1, 1, 1),padding=\"same\",activation='relu'))\n",
    "model_C3D.add(MaxPooling3D(pool_size=(2, 2, 2)))\n",
    "\n",
    "model_C3D.add(Conv3D(256, (3,3,3),strides=(1, 1, 1),padding=\"same\",activation='relu'))\n",
    "model_C3D.add(Conv3D(256, (3,3,3),strides=(1, 1, 1),padding=\"same\",activation='relu'))\n",
    "model_C3D.add(MaxPooling3D(pool_size=(2, 2, 2)))\n",
    "\n",
    "model_C3D.add(Conv3D(512, (3,3,3),strides=(1, 1, 1),padding=\"same\",activation='relu'))\n",
    "model_C3D.add(Conv3D(512, (3,3,3),strides=(1, 1, 1),padding=\"same\",activation='relu'))\n",
    "model_C3D.add(MaxPooling3D(pool_size=(2, 2, 2)))\n",
    "\n",
    "model_C3D.add(Conv3D(512, (3,3,3),strides=(1, 1, 1),padding=\"same\",activation='relu'))\n",
    "model_C3D.add(Conv3D(512, (3,3,3),strides=(1, 1, 1),padding=\"same\",activation='relu'))\n",
    "model_C3D.add(MaxPooling3D(pool_size=(2, 2, 2)))\n",
    "\n",
    "model_C3D.add(Flatten())\n",
    "\n",
    "model_C3D.add(Dense(4096, activation='relu'))\n",
    "\n",
    "model_C3D.add(Dense(4096, activation='relu'))\n",
    "\n",
    "model_C3D.add(Dense(5,activation='softmax'))"
   ]
  },
  {
   "cell_type": "code",
   "execution_count": 38,
   "metadata": {},
   "outputs": [
    {
     "name": "stdout",
     "output_type": "stream",
     "text": [
      "Model: \"sequential_2\"\n",
      "_________________________________________________________________\n",
      " Layer (type)                Output Shape              Param #   \n",
      "=================================================================\n",
      " conv3d_13 (Conv3D)          (None, 30, 120, 120, 64)  5248      \n",
      "                                                                 \n",
      " max_pooling3d_3 (MaxPooling  (None, 30, 60, 60, 64)   0         \n",
      " 3D)                                                             \n",
      "                                                                 \n",
      " conv3d_14 (Conv3D)          (None, 30, 60, 60, 128)   221312    \n",
      "                                                                 \n",
      " max_pooling3d_4 (MaxPooling  (None, 15, 30, 30, 128)  0         \n",
      " 3D)                                                             \n",
      "                                                                 \n",
      " conv3d_15 (Conv3D)          (None, 15, 30, 30, 256)   884992    \n",
      "                                                                 \n",
      " conv3d_16 (Conv3D)          (None, 15, 30, 30, 256)   1769728   \n",
      "                                                                 \n",
      " max_pooling3d_5 (MaxPooling  (None, 7, 15, 15, 256)   0         \n",
      " 3D)                                                             \n",
      "                                                                 \n",
      " conv3d_17 (Conv3D)          (None, 7, 15, 15, 512)    3539456   \n",
      "                                                                 \n",
      " conv3d_18 (Conv3D)          (None, 7, 15, 15, 512)    7078400   \n",
      "                                                                 \n",
      " max_pooling3d_6 (MaxPooling  (None, 3, 7, 7, 512)     0         \n",
      " 3D)                                                             \n",
      "                                                                 \n",
      " conv3d_19 (Conv3D)          (None, 3, 7, 7, 512)      7078400   \n",
      "                                                                 \n",
      " conv3d_20 (Conv3D)          (None, 3, 7, 7, 512)      7078400   \n",
      "                                                                 \n",
      " max_pooling3d_7 (MaxPooling  (None, 1, 3, 3, 512)     0         \n",
      " 3D)                                                             \n",
      "                                                                 \n",
      " flatten_2 (Flatten)         (None, 4608)              0         \n",
      "                                                                 \n",
      " dense_3 (Dense)             (None, 4096)              18878464  \n",
      "                                                                 \n",
      " dense_4 (Dense)             (None, 4096)              16781312  \n",
      "                                                                 \n",
      " dense_5 (Dense)             (None, 5)                 20485     \n",
      "                                                                 \n",
      "=================================================================\n",
      "Total params: 63,336,197\n",
      "Trainable params: 63,336,197\n",
      "Non-trainable params: 0\n",
      "_________________________________________________________________\n",
      "None\n"
     ]
    }
   ],
   "source": [
    "# Compiling the model using Adam as optimizer\n",
    "model_C3D.compile(optimizer=optimizers.Adam(), loss='categorical_crossentropy', metrics=['categorical_accuracy'])\n",
    "print (model_C3D.summary())"
   ]
  },
  {
   "cell_type": "code",
   "execution_count": 39,
   "metadata": {},
   "outputs": [
    {
     "name": "stdout",
     "output_type": "stream",
     "text": [
      "_________________\n",
      "Batch Size is : 8\n",
      "\n",
      "Source path =  datasets/Project_data/train ; batch size = 8\n",
      "Epoch 1/20\n",
      "29/83 [=========>....................] - ETA: 1:07 - loss: 35.3006 - categorical_accuracy: 0.1810Reducing Batch Size\n",
      "_________________\n",
      "Batch Size is : 4\n",
      "\n",
      "Source path =  datasets/Project_data/train ; batch size = 4\n",
      "Epoch 1/20\n",
      "166/166 [==============================] - ETA: 0s - loss: 1.7855 - categorical_accuracy: 0.1991\n",
      "Source path =  datasets/Project_data/val ; batch size = 4\n",
      "\n",
      "Epoch 1: saving model to model_init_2023-02-0720_24_17.938535\\model-00001-1.78549-0.19910-1.60910-0.18000.h5\n",
      "166/166 [==============================] - 130s 768ms/step - loss: 1.7855 - categorical_accuracy: 0.1991 - val_loss: 1.6091 - val_categorical_accuracy: 0.1800 - lr: 0.0010\n",
      "Epoch 2/20\n",
      "166/166 [==============================] - ETA: 0s - loss: 1.6102 - categorical_accuracy: 0.1961\n",
      "Epoch 2: saving model to model_init_2023-02-0720_24_17.938535\\model-00002-1.61023-0.19608-1.60759-0.21000.h5\n",
      "166/166 [==============================] - 126s 761ms/step - loss: 1.6102 - categorical_accuracy: 0.1961 - val_loss: 1.6076 - val_categorical_accuracy: 0.2100 - lr: 0.0010\n",
      "Epoch 3/20\n",
      "166/166 [==============================] - ETA: 0s - loss: 1.6097 - categorical_accuracy: 0.1810\n",
      "Epoch 3: saving model to model_init_2023-02-0720_24_17.938535\\model-00003-1.60971-0.18100-1.60817-0.22000.h5\n",
      "166/166 [==============================] - 126s 763ms/step - loss: 1.6097 - categorical_accuracy: 0.1810 - val_loss: 1.6082 - val_categorical_accuracy: 0.2200 - lr: 0.0010\n",
      "Epoch 4/20\n",
      "166/166 [==============================] - ETA: 0s - loss: 1.6096 - categorical_accuracy: 0.1735\n",
      "Epoch 4: saving model to model_init_2023-02-0720_24_17.938535\\model-00004-1.60965-0.17345-1.60692-0.24000.h5\n",
      "166/166 [==============================] - 125s 758ms/step - loss: 1.6096 - categorical_accuracy: 0.1735 - val_loss: 1.6069 - val_categorical_accuracy: 0.2400 - lr: 0.0010\n",
      "Epoch 5/20\n",
      "166/166 [==============================] - ETA: 0s - loss: 1.6093 - categorical_accuracy: 0.1991\n",
      "Epoch 5: saving model to model_init_2023-02-0720_24_17.938535\\model-00005-1.60929-0.19910-1.60732-0.23000.h5\n",
      "166/166 [==============================] - 125s 755ms/step - loss: 1.6093 - categorical_accuracy: 0.1991 - val_loss: 1.6073 - val_categorical_accuracy: 0.2300 - lr: 0.0010\n",
      "Epoch 6/20\n",
      "166/166 [==============================] - ETA: 0s - loss: 1.6095 - categorical_accuracy: 0.1931\n",
      "Epoch 6: saving model to model_init_2023-02-0720_24_17.938535\\model-00006-1.60948-0.19306-1.60931-0.21000.h5\n",
      "166/166 [==============================] - 126s 762ms/step - loss: 1.6095 - categorical_accuracy: 0.1931 - val_loss: 1.6093 - val_categorical_accuracy: 0.2100 - lr: 0.0010\n",
      "Epoch 7/20\n",
      "166/166 [==============================] - ETA: 0s - loss: 1.6096 - categorical_accuracy: 0.2021\n",
      "Epoch 7: saving model to model_init_2023-02-0720_24_17.938535\\model-00007-1.60958-0.20211-1.60389-0.20000.h5\n",
      "166/166 [==============================] - 125s 756ms/step - loss: 1.6096 - categorical_accuracy: 0.2021 - val_loss: 1.6039 - val_categorical_accuracy: 0.2000 - lr: 0.0010\n",
      "Epoch 8/20\n",
      "166/166 [==============================] - ETA: 0s - loss: 1.6094 - categorical_accuracy: 0.2066\n",
      "Epoch 8: saving model to model_init_2023-02-0720_24_17.938535\\model-00008-1.60936-0.20664-1.60876-0.21000.h5\n",
      "166/166 [==============================] - 125s 753ms/step - loss: 1.6094 - categorical_accuracy: 0.2066 - val_loss: 1.6088 - val_categorical_accuracy: 0.2100 - lr: 0.0010\n",
      "Epoch 9/20\n",
      "166/166 [==============================] - ETA: 0s - loss: 1.6098 - categorical_accuracy: 0.1961\n",
      "Epoch 9: saving model to model_init_2023-02-0720_24_17.938535\\model-00009-1.60982-0.19608-1.61203-0.18000.h5\n",
      "166/166 [==============================] - 126s 760ms/step - loss: 1.6098 - categorical_accuracy: 0.1961 - val_loss: 1.6120 - val_categorical_accuracy: 0.1800 - lr: 0.0010\n",
      "Epoch 10/20\n",
      "166/166 [==============================] - ETA: 0s - loss: 1.6098 - categorical_accuracy: 0.1810\n",
      "Epoch 10: ReduceLROnPlateau reducing learning rate to 0.0005000000237487257.\n",
      "\n",
      "Epoch 10: saving model to model_init_2023-02-0720_24_17.938535\\model-00010-1.60980-0.18100-1.60586-0.22000.h5\n",
      "166/166 [==============================] - 124s 752ms/step - loss: 1.6098 - categorical_accuracy: 0.1810 - val_loss: 1.6059 - val_categorical_accuracy: 0.2200 - lr: 0.0010\n",
      "Epoch 11/20\n",
      "166/166 [==============================] - ETA: 0s - loss: 1.6091 - categorical_accuracy: 0.1855\n",
      "Epoch 11: saving model to model_init_2023-02-0720_24_17.938535\\model-00011-1.60913-0.18552-1.60717-0.23000.h5\n",
      "166/166 [==============================] - 125s 756ms/step - loss: 1.6091 - categorical_accuracy: 0.1855 - val_loss: 1.6072 - val_categorical_accuracy: 0.2300 - lr: 5.0000e-04\n",
      "Epoch 12/20\n",
      "166/166 [==============================] - ETA: 0s - loss: 1.6091 - categorical_accuracy: 0.1780\n",
      "Epoch 12: saving model to model_init_2023-02-0720_24_17.938535\\model-00012-1.60912-0.17798-1.60871-0.21000.h5\n",
      "166/166 [==============================] - 126s 761ms/step - loss: 1.6091 - categorical_accuracy: 0.1780 - val_loss: 1.6087 - val_categorical_accuracy: 0.2100 - lr: 5.0000e-04\n",
      "Epoch 13/20\n",
      "166/166 [==============================] - ETA: 0s - loss: 1.6091 - categorical_accuracy: 0.1750\n",
      "Epoch 13: ReduceLROnPlateau reducing learning rate to 0.0002500000118743628.\n",
      "\n",
      "Epoch 13: saving model to model_init_2023-02-0720_24_17.938535\\model-00013-1.60908-0.17496-1.60748-0.16000.h5\n",
      "166/166 [==============================] - 125s 754ms/step - loss: 1.6091 - categorical_accuracy: 0.1750 - val_loss: 1.6075 - val_categorical_accuracy: 0.1600 - lr: 5.0000e-04\n",
      "Epoch 14/20\n",
      "166/166 [==============================] - ETA: 0s - loss: 1.6087 - categorical_accuracy: 0.1916\n",
      "Epoch 14: saving model to model_init_2023-02-0720_24_17.938535\\model-00014-1.60875-0.19155-1.60545-0.27000.h5\n",
      "166/166 [==============================] - 126s 760ms/step - loss: 1.6087 - categorical_accuracy: 0.1916 - val_loss: 1.6055 - val_categorical_accuracy: 0.2700 - lr: 2.5000e-04\n",
      "Epoch 15/20\n",
      "166/166 [==============================] - ETA: 0s - loss: 1.6089 - categorical_accuracy: 0.1870\n",
      "Epoch 15: saving model to model_init_2023-02-0720_24_17.938535\\model-00015-1.60886-0.18703-1.60639-0.14000.h5\n",
      "166/166 [==============================] - 126s 760ms/step - loss: 1.6089 - categorical_accuracy: 0.1870 - val_loss: 1.6064 - val_categorical_accuracy: 0.1400 - lr: 2.5000e-04\n",
      "Epoch 16/20\n",
      "166/166 [==============================] - ETA: 0s - loss: 1.6087 - categorical_accuracy: 0.1976\n",
      "Epoch 16: ReduceLROnPlateau reducing learning rate to 0.0001250000059371814.\n",
      "\n",
      "Epoch 16: saving model to model_init_2023-02-0720_24_17.938535\\model-00016-1.60870-0.19759-1.60912-0.22000.h5\n",
      "166/166 [==============================] - 125s 755ms/step - loss: 1.6087 - categorical_accuracy: 0.1976 - val_loss: 1.6091 - val_categorical_accuracy: 0.2200 - lr: 2.5000e-04\n",
      "Epoch 17/20\n",
      "166/166 [==============================] - ETA: 0s - loss: 1.6087 - categorical_accuracy: 0.1976\n",
      "Epoch 17: saving model to model_init_2023-02-0720_24_17.938535\\model-00017-1.60871-0.19759-1.61141-0.23000.h5\n",
      "166/166 [==============================] - 125s 758ms/step - loss: 1.6087 - categorical_accuracy: 0.1976 - val_loss: 1.6114 - val_categorical_accuracy: 0.2300 - lr: 1.2500e-04\n",
      "Epoch 18/20\n",
      "166/166 [==============================] - ETA: 0s - loss: 1.6085 - categorical_accuracy: 0.1976\n",
      "Epoch 18: saving model to model_init_2023-02-0720_24_17.938535\\model-00018-1.60850-0.19759-1.60549-0.17000.h5\n",
      "166/166 [==============================] - 125s 755ms/step - loss: 1.6085 - categorical_accuracy: 0.1976 - val_loss: 1.6055 - val_categorical_accuracy: 0.1700 - lr: 1.2500e-04\n",
      "Epoch 19/20\n",
      "166/166 [==============================] - ETA: 0s - loss: 1.6085 - categorical_accuracy: 0.2006\n",
      "Epoch 19: ReduceLROnPlateau reducing learning rate to 6.25000029685907e-05.\n",
      "\n",
      "Epoch 19: saving model to model_init_2023-02-0720_24_17.938535\\model-00019-1.60850-0.20060-1.60593-0.22000.h5\n",
      "166/166 [==============================] - 125s 758ms/step - loss: 1.6085 - categorical_accuracy: 0.2006 - val_loss: 1.6059 - val_categorical_accuracy: 0.2200 - lr: 1.2500e-04\n",
      "Epoch 20/20\n",
      "166/166 [==============================] - ETA: 0s - loss: 1.6085 - categorical_accuracy: 0.2081\n",
      "Epoch 20: saving model to model_init_2023-02-0720_24_17.938535\\model-00020-1.60847-0.20814-1.60771-0.22000.h5\n",
      "166/166 [==============================] - 125s 758ms/step - loss: 1.6085 - categorical_accuracy: 0.2081 - val_loss: 1.6077 - val_categorical_accuracy: 0.2200 - lr: 6.2500e-05\n",
      "Time Taken to Train this model was :  0:41:51.959033\n"
     ]
    }
   ],
   "source": [
    "batch_size=8\n",
    "trainmodel(model_C3D,batch_size)"
   ]
  },
  {
   "cell_type": "code",
   "execution_count": 40,
   "metadata": {},
   "outputs": [],
   "source": [
    "model_C3D.save(\"model_C3D.h5\")"
   ]
  },
  {
   "cell_type": "markdown",
   "metadata": {},
   "source": [
    "## Model 4 - (2 + 1)D "
   ]
  },
  {
   "cell_type": "code",
   "execution_count": 41,
   "metadata": {},
   "outputs": [],
   "source": [
    "#Model based on the paper \"A Closer Look at Spatiotemporal Convolutions for Action Recognition\"\n",
    "# https://arxiv.org/pdf/1711.11248v3.pdf\n",
    "# This model used (2+1)D with residual connections. \n",
    "#The steps used are as described in the Keras documentation and video classification tutorial project\n"
   ]
  },
  {
   "cell_type": "code",
   "execution_count": 42,
   "metadata": {},
   "outputs": [],
   "source": [
    "# Keras Functional API's will be used to make the model because the model is \"Not Sequential\"\n"
   ]
  },
  {
   "cell_type": "code",
   "execution_count": 43,
   "metadata": {},
   "outputs": [],
   "source": [
    "# Creating classes that will be called by Keras functional APIs for custom layer"
   ]
  },
  {
   "cell_type": "code",
   "execution_count": 44,
   "metadata": {},
   "outputs": [],
   "source": [
    "# This class returns a layers object that is inherited from keras.layers.layers class\n",
    "# and consists of 2 layers that use the supplied kernel size to create the layer object\n",
    "# Variable x is the custom layer object\n",
    "\n",
    "class Conv2Plus1D(keras.layers.Layer):\n",
    "    def __init__(self, filters, kernel_size, padding):\n",
    "        super().__init__()\n",
    "        self.seq = keras.Sequential([layers.Conv3D(filters=filters,kernel_size=(1, kernel_size[1], kernel_size[2]),padding=padding),\n",
    "                                 layers.Conv3D(filters=filters, kernel_size=(kernel_size[0], 1, 1),padding=padding)])\n",
    "    def get_config(self):\n",
    "        cfg = super().get_config()\n",
    "        return cfg \n",
    "\n",
    "\n",
    "    def call(self, x):\n",
    "        return self.seq(x)\n"
   ]
  },
  {
   "cell_type": "code",
   "execution_count": 45,
   "metadata": {},
   "outputs": [],
   "source": [
    "# This block of code consists of 2 classes and 1 function that are used as described in \n",
    "# Keras functional API documentation and tutorial on video classification on tensorflow.org\n",
    "\n",
    "# Class to add residual connection to the model\n",
    "# This class is called by the add_residual_block function which is called during model architecture\n",
    "# building. This class returns the layer object to add_residual_block function which checks to see\n",
    "# if the returned object shape matches the input based on filter size and project the dimension \n",
    "# if it doesn't\n",
    "\n",
    "class ResidualMain(keras.layers.Layer):\n",
    "    def __init__(self, filters, kernel_size):\n",
    "        super().__init__()\n",
    "        self.seq = keras.Sequential([Conv2Plus1D(filters=filters,kernel_size=kernel_size,padding='same'),\n",
    "            layers.LayerNormalization(),\n",
    "            layers.ReLU(),\n",
    "            Conv2Plus1D(filters=filters,kernel_size=kernel_size,padding='same'),\n",
    "            layers.LayerNormalization()\n",
    "        ])\n",
    "    def get_config(self):\n",
    "        cfg = super().get_config()\n",
    "        return cfg\n",
    "\n",
    "    def call(self, x):\n",
    "        return self.seq(x)\n",
    "\n",
    "# Class called by add_residual_block to project the dimension of the tensor to match the kernal size\n",
    "# See explanation above\n",
    "class Project(keras.layers.Layer):\n",
    "    def __init__(self, units):\n",
    "        super().__init__()\n",
    "        self.seq = keras.Sequential([layers.Dense(units),layers.LayerNormalization()])\n",
    "        \n",
    "    def get_config(self):\n",
    "        cfg = super().get_config()\n",
    "        return cfg\n",
    "\n",
    "    def call(self, x):\n",
    "        return self.seq(x)\n",
    "\n",
    "# Function called during model architecture build to add residual layers\n",
    "# See explanation under Class ResidualMain\n",
    "\n",
    "def add_residual_block(input, filters, kernel_size):\n",
    "    out = ResidualMain(filters, kernel_size)(input)\n",
    "    res = input\n",
    "    if out.shape[-1] != input.shape[-1]:\n",
    "        res = Project(out.shape[-1])(res)\n",
    "    return layers.add([res, out])\n"
   ]
  },
  {
   "cell_type": "code",
   "execution_count": 46,
   "metadata": {},
   "outputs": [],
   "source": [
    "# In case its not installed\n",
    "!pip install einops"
   ]
  },
  {
   "cell_type": "code",
   "execution_count": 47,
   "metadata": {},
   "outputs": [],
   "source": [
    "import einops\n",
    "# More details on the einops.rearrange here : https://einops.rocks/api/rearrange/ \n",
    "# https://einops.rocks/1-einops-basics/ -- Tutorial\n",
    "# Class to resize video \n",
    "# The video is resized to half after every block\n",
    "# We will use einops to help us retreive the array without time (frames)  and batch size\n",
    "# so it can be resized\n",
    "\n",
    "\n",
    "class ResizeVideo(keras.layers.Layer):\n",
    "    def __init__(self, height, width):\n",
    "        super().__init__()\n",
    "        self.height = height\n",
    "        self.width = width\n",
    "        self.resizing_layer = layers.Resizing(self.height, self.width)\n",
    "    def get_config(self):\n",
    "        cfg = super().get_config()\n",
    "        return cfg\n",
    "        \n",
    "    def call(self, video):\n",
    "\n",
    "        # b stands for batch size, t stands for time, h stands for height, \n",
    "        # w stands for width, and c stands for the number of channels.\n",
    "        old_shape = einops.parse_shape(video, 'b t h w c')\n",
    "        images = einops.rearrange(video, 'b t h w c -> (b t) h w c')\n",
    "        images = self.resizing_layer(images)\n",
    "        videos = einops.rearrange(\n",
    "            images, '(b t) h w c -> b t h w c',\n",
    "            t = old_shape['t'])\n",
    "        return videos\n"
   ]
  },
  {
   "cell_type": "code",
   "execution_count": 48,
   "metadata": {},
   "outputs": [],
   "source": [
    "## Model Architecture for 2(D+1)\n",
    "\n",
    "New_input_shape = (None, len(img_idx), imgdim, imgdim, 3)\n",
    "input = layers.Input(shape=(New_input_shape[1:]))\n",
    "x = input\n",
    "\n",
    "x = Conv2Plus1D(filters=16, kernel_size=(3, 7, 7), padding='same')(x)\n",
    "x = layers.BatchNormalization()(x)\n",
    "x = layers.ReLU()(x)\n",
    "x = ResizeVideo(imgdim // 2, imgdim // 2)(x)\n",
    "\n",
    "# Block 1\n",
    "x = add_residual_block(x, 16, (3, 3, 3))\n",
    "x = ResizeVideo(imgdim // 4, imgdim // 4)(x)\n",
    "\n",
    "# Block 2\n",
    "x = add_residual_block(x, 32, (3, 3, 3))\n",
    "x = ResizeVideo(imgdim // 8, imgdim // 8)(x)\n",
    "\n",
    "# Block 2\n",
    "x = add_residual_block(x, 64, (3, 3, 3))\n",
    "x = ResizeVideo(imgdim // 16, imgdim // 16)(x)\n",
    "\n",
    "# Block 3\n",
    "x = add_residual_block(x, 128, (3, 3, 3))\n",
    "\n",
    "x = layers.GlobalAveragePooling3D()(x)\n",
    "x = layers.Flatten()(x)\n",
    "x = layers.Dense(5)(x)\n",
    "\n",
    "model_2Dplus1 = keras.Model(input, x)\n"
   ]
  },
  {
   "cell_type": "code",
   "execution_count": 49,
   "metadata": {},
   "outputs": [],
   "source": [
    "## Because the model was build using Keras functional API, we will need to call build function\n",
    "## on a batch of data before this model can be compiled \n",
    "frames, label = next(train_generator)\n",
    "model_2Dplus1.build(frames)\n"
   ]
  },
  {
   "cell_type": "code",
   "execution_count": 50,
   "metadata": {},
   "outputs": [
    {
     "name": "stdout",
     "output_type": "stream",
     "text": [
      "Model: \"model\"\n",
      "__________________________________________________________________________________________________\n",
      " Layer (type)                   Output Shape         Param #     Connected to                     \n",
      "==================================================================================================\n",
      " input_1 (InputLayer)           [(None, 30, 120, 12  0           []                               \n",
      "                                0, 3)]                                                            \n",
      "                                                                                                  \n",
      " conv2_plus1d (Conv2Plus1D)     (None, 30, 120, 120  3152        ['input_1[0][0]']                \n",
      "                                , 16)                                                             \n",
      "                                                                                                  \n",
      " batch_normalization_4 (BatchNo  (None, 30, 120, 120  64         ['conv2_plus1d[0][0]']           \n",
      " rmalization)                   , 16)                                                             \n",
      "                                                                                                  \n",
      " re_lu_3 (ReLU)                 (None, 30, 120, 120  0           ['batch_normalization_4[0][0]']  \n",
      "                                , 16)                                                             \n",
      "                                                                                                  \n",
      " resize_video (ResizeVideo)     (None, 30, 60, 60,   0           ['re_lu_3[0][0]']                \n",
      "                                16)                                                               \n",
      "                                                                                                  \n",
      " residual_main (ResidualMain)   (None, 30, 60, 60,   6272        ['resize_video[0][0]']           \n",
      "                                16)                                                               \n",
      "                                                                                                  \n",
      " add (Add)                      (None, 30, 60, 60,   0           ['resize_video[0][0]',           \n",
      "                                16)                               'residual_main[0][0]']          \n",
      "                                                                                                  \n",
      " resize_video_1 (ResizeVideo)   (None, 30, 30, 30,   0           ['add[0][0]']                    \n",
      "                                16)                                                               \n",
      "                                                                                                  \n",
      " project (Project)              (None, 30, 30, 30,   608         ['resize_video_1[0][0]']         \n",
      "                                32)                                                               \n",
      "                                                                                                  \n",
      " residual_main_1 (ResidualMain)  (None, 30, 30, 30,   20224      ['resize_video_1[0][0]']         \n",
      "                                32)                                                               \n",
      "                                                                                                  \n",
      " add_1 (Add)                    (None, 30, 30, 30,   0           ['project[0][0]',                \n",
      "                                32)                               'residual_main_1[0][0]']        \n",
      "                                                                                                  \n",
      " resize_video_2 (ResizeVideo)   (None, 30, 15, 15,   0           ['add_1[0][0]']                  \n",
      "                                32)                                                               \n",
      "                                                                                                  \n",
      " project_1 (Project)            (None, 30, 15, 15,   2240        ['resize_video_2[0][0]']         \n",
      "                                64)                                                               \n",
      "                                                                                                  \n",
      " residual_main_2 (ResidualMain)  (None, 30, 15, 15,   80384      ['resize_video_2[0][0]']         \n",
      "                                64)                                                               \n",
      "                                                                                                  \n",
      " add_2 (Add)                    (None, 30, 15, 15,   0           ['project_1[0][0]',              \n",
      "                                64)                               'residual_main_2[0][0]']        \n",
      "                                                                                                  \n",
      " resize_video_3 (ResizeVideo)   (None, 30, 7, 7, 64  0           ['add_2[0][0]']                  \n",
      "                                )                                                                 \n",
      "                                                                                                  \n",
      " project_2 (Project)            (None, 30, 7, 7, 12  8576        ['resize_video_3[0][0]']         \n",
      "                                8)                                                                \n",
      "                                                                                                  \n",
      " residual_main_3 (ResidualMain)  (None, 30, 7, 7, 12  320512     ['resize_video_3[0][0]']         \n",
      "                                8)                                                                \n",
      "                                                                                                  \n",
      " add_3 (Add)                    (None, 30, 7, 7, 12  0           ['project_2[0][0]',              \n",
      "                                8)                                'residual_main_3[0][0]']        \n",
      "                                                                                                  \n",
      " global_average_pooling3d (Glob  (None, 128)         0           ['add_3[0][0]']                  \n",
      " alAveragePooling3D)                                                                              \n",
      "                                                                                                  \n",
      " flatten_3 (Flatten)            (None, 128)          0           ['global_average_pooling3d[0][0]'\n",
      "                                                                 ]                                \n",
      "                                                                                                  \n",
      " dense_9 (Dense)                (None, 5)            645         ['flatten_3[0][0]']              \n",
      "                                                                                                  \n",
      "==================================================================================================\n",
      "Total params: 442,677\n",
      "Trainable params: 442,645\n",
      "Non-trainable params: 32\n",
      "__________________________________________________________________________________________________\n",
      "None\n"
     ]
    }
   ],
   "source": [
    "# Compiling the model using Adam as optimizer\n",
    "model_2Dplus1.compile(optimizer=optimizers.Adam(), loss='categorical_crossentropy', metrics=['categorical_accuracy'])\n",
    "print (model_2Dplus1.summary())"
   ]
  },
  {
   "cell_type": "code",
   "execution_count": 51,
   "metadata": {},
   "outputs": [
    {
     "name": "stdout",
     "output_type": "stream",
     "text": [
      "_________________\n",
      "Batch Size is : 8\n",
      "\n",
      "Source path =  datasets/Project_data/train ; batch size = 8\n",
      "Epoch 1/20\n",
      "83/83 [==============================] - ETA: 0s - loss: 7.6213 - categorical_accuracy: 0.2293\n",
      "Source path =  datasets/Project_data/val ; batch size = 8\n",
      "\n",
      "Epoch 1: saving model to model_init_2023-02-0720_24_17.938535\\model-00001-7.62127-0.22926-5.48015-0.25000.h5\n",
      "83/83 [==============================] - 127s 2s/step - loss: 7.6213 - categorical_accuracy: 0.2293 - val_loss: 5.4802 - val_categorical_accuracy: 0.2500 - lr: 0.0010\n",
      "Epoch 2/20\n",
      "83/83 [==============================] - ETA: 0s - loss: 6.2722 - categorical_accuracy: 0.2066\n",
      "Epoch 2: saving model to model_init_2023-02-0720_24_17.938535\\model-00002-6.27220-0.20664-6.12488-0.22000.h5\n",
      "83/83 [==============================] - 124s 2s/step - loss: 6.2722 - categorical_accuracy: 0.2066 - val_loss: 6.1249 - val_categorical_accuracy: 0.2200 - lr: 0.0010\n",
      "Epoch 3/20\n",
      "83/83 [==============================] - ETA: 0s - loss: 6.2236 - categorical_accuracy: 0.2051\n",
      "Epoch 3: saving model to model_init_2023-02-0720_24_17.938535\\model-00003-6.22358-0.20513-5.80251-0.24000.h5\n",
      "83/83 [==============================] - 123s 1s/step - loss: 6.2236 - categorical_accuracy: 0.2051 - val_loss: 5.8025 - val_categorical_accuracy: 0.2400 - lr: 0.0010\n",
      "Epoch 4/20\n",
      "83/83 [==============================] - ETA: 0s - loss: 6.3208 - categorical_accuracy: 0.2051\n",
      "Epoch 4: saving model to model_init_2023-02-0720_24_17.938535\\model-00004-6.32082-0.20513-5.15779-0.21000.h5\n",
      "83/83 [==============================] - 123s 1s/step - loss: 6.3208 - categorical_accuracy: 0.2051 - val_loss: 5.1578 - val_categorical_accuracy: 0.2100 - lr: 0.0010\n",
      "Epoch 5/20\n",
      "83/83 [==============================] - ETA: 0s - loss: 6.3451 - categorical_accuracy: 0.2066\n",
      "Epoch 5: saving model to model_init_2023-02-0720_24_17.938535\\model-00005-6.34513-0.20664-4.51307-0.25000.h5\n",
      "83/83 [==============================] - 123s 1s/step - loss: 6.3451 - categorical_accuracy: 0.2066 - val_loss: 4.5131 - val_categorical_accuracy: 0.2500 - lr: 0.0010\n",
      "Epoch 6/20\n",
      "83/83 [==============================] - ETA: 0s - loss: 6.3694 - categorical_accuracy: 0.2051\n",
      "Epoch 6: saving model to model_init_2023-02-0720_24_17.938535\\model-00006-6.36944-0.20513-5.31897-0.27000.h5\n",
      "83/83 [==============================] - 124s 2s/step - loss: 6.3694 - categorical_accuracy: 0.2051 - val_loss: 5.3190 - val_categorical_accuracy: 0.2700 - lr: 0.0010\n",
      "Epoch 7/20\n",
      "83/83 [==============================] - ETA: 0s - loss: 6.2236 - categorical_accuracy: 0.2051\n",
      "Epoch 7: saving model to model_init_2023-02-0720_24_17.938535\\model-00007-6.22358-0.20513-5.80251-0.22000.h5\n",
      "83/83 [==============================] - 123s 2s/step - loss: 6.2236 - categorical_accuracy: 0.2051 - val_loss: 5.8025 - val_categorical_accuracy: 0.2200 - lr: 0.0010\n",
      "Epoch 8/20\n",
      "83/83 [==============================] - ETA: 0s - loss: 6.3208 - categorical_accuracy: 0.2066\n",
      "Epoch 8: ReduceLROnPlateau reducing learning rate to 0.0005000000237487257.\n",
      "\n",
      "Epoch 8: saving model to model_init_2023-02-0720_24_17.938535\\model-00008-6.32082-0.20664-4.51307-0.21000.h5\n",
      "83/83 [==============================] - 124s 2s/step - loss: 6.3208 - categorical_accuracy: 0.2066 - val_loss: 4.5131 - val_categorical_accuracy: 0.2100 - lr: 0.0010\n",
      "Epoch 9/20\n",
      "83/83 [==============================] - ETA: 0s - loss: 6.2722 - categorical_accuracy: 0.2081\n",
      "Epoch 9: saving model to model_init_2023-02-0720_24_17.938535\\model-00009-6.27220-0.20814-5.96370-0.24000.h5\n",
      "83/83 [==============================] - 123s 2s/step - loss: 6.2722 - categorical_accuracy: 0.2081 - val_loss: 5.9637 - val_categorical_accuracy: 0.2400 - lr: 5.0000e-04\n",
      "Epoch 10/20\n",
      "83/83 [==============================] - ETA: 0s - loss: 6.2965 - categorical_accuracy: 0.2051\n",
      "Epoch 10: saving model to model_init_2023-02-0720_24_17.938535\\model-00010-6.29651-0.20513-5.48015-0.23000.h5\n",
      "83/83 [==============================] - 123s 2s/step - loss: 6.2965 - categorical_accuracy: 0.2051 - val_loss: 5.4802 - val_categorical_accuracy: 0.2300 - lr: 5.0000e-04\n",
      "Epoch 11/20\n",
      "83/83 [==============================] - ETA: 0s - loss: 6.3938 - categorical_accuracy: 0.2036\n",
      "Epoch 11: ReduceLROnPlateau reducing learning rate to 0.0002500000118743628.\n",
      "\n",
      "Epoch 11: saving model to model_init_2023-02-0720_24_17.938535\\model-00011-6.39375-0.20362-5.80251-0.24000.h5\n",
      "83/83 [==============================] - 123s 1s/step - loss: 6.3938 - categorical_accuracy: 0.2036 - val_loss: 5.8025 - val_categorical_accuracy: 0.2400 - lr: 5.0000e-04\n",
      "Epoch 12/20\n",
      "83/83 [==============================] - ETA: 0s - loss: 6.3451 - categorical_accuracy: 0.2036\n",
      "Epoch 12: saving model to model_init_2023-02-0720_24_17.938535\\model-00012-6.34513-0.20362-5.64133-0.23000.h5\n",
      "83/83 [==============================] - 124s 2s/step - loss: 6.3451 - categorical_accuracy: 0.2036 - val_loss: 5.6413 - val_categorical_accuracy: 0.2300 - lr: 2.5000e-04\n",
      "Epoch 13/20\n",
      "83/83 [==============================] - ETA: 0s - loss: 6.2236 - categorical_accuracy: 0.2066\n",
      "Epoch 13: saving model to model_init_2023-02-0720_24_17.938535\\model-00013-6.22358-0.20664-5.48015-0.20000.h5\n",
      "83/83 [==============================] - 123s 1s/step - loss: 6.2236 - categorical_accuracy: 0.2066 - val_loss: 5.4802 - val_categorical_accuracy: 0.2000 - lr: 2.5000e-04\n",
      "Epoch 14/20\n",
      "83/83 [==============================] - ETA: 0s - loss: 6.3694 - categorical_accuracy: 0.2051\n",
      "Epoch 14: ReduceLROnPlateau reducing learning rate to 0.0001250000059371814.\n",
      "\n",
      "Epoch 14: saving model to model_init_2023-02-0720_24_17.938535\\model-00014-6.36944-0.20513-5.64133-0.23000.h5\n",
      "83/83 [==============================] - 124s 2s/step - loss: 6.3694 - categorical_accuracy: 0.2051 - val_loss: 5.6413 - val_categorical_accuracy: 0.2300 - lr: 2.5000e-04\n",
      "Epoch 15/20\n",
      "83/83 [==============================] - ETA: 0s - loss: 6.3208 - categorical_accuracy: 0.2066\n",
      "Epoch 15: saving model to model_init_2023-02-0720_24_17.938535\\model-00015-6.32082-0.20664-4.67425-0.25000.h5\n",
      "83/83 [==============================] - 123s 2s/step - loss: 6.3208 - categorical_accuracy: 0.2066 - val_loss: 4.6742 - val_categorical_accuracy: 0.2500 - lr: 1.2500e-04\n",
      "Epoch 16/20\n",
      "83/83 [==============================] - ETA: 0s - loss: 6.3208 - categorical_accuracy: 0.2066\n",
      "Epoch 16: saving model to model_init_2023-02-0720_24_17.938535\\model-00016-6.32082-0.20664-6.60842-0.20000.h5\n",
      "83/83 [==============================] - 124s 2s/step - loss: 6.3208 - categorical_accuracy: 0.2066 - val_loss: 6.6084 - val_categorical_accuracy: 0.2000 - lr: 1.2500e-04\n",
      "Epoch 17/20\n",
      "83/83 [==============================] - ETA: 0s - loss: 6.3451 - categorical_accuracy: 0.2006\n",
      "Epoch 17: ReduceLROnPlateau reducing learning rate to 6.25000029685907e-05.\n",
      "\n",
      "Epoch 17: saving model to model_init_2023-02-0720_24_17.938535\\model-00017-6.34513-0.20060-5.48015-0.21000.h5\n",
      "83/83 [==============================] - 123s 1s/step - loss: 6.3451 - categorical_accuracy: 0.2006 - val_loss: 5.4802 - val_categorical_accuracy: 0.2100 - lr: 1.2500e-04\n",
      "Epoch 18/20\n",
      "83/83 [==============================] - ETA: 0s - loss: 6.3208 - categorical_accuracy: 0.2097\n",
      "Epoch 18: saving model to model_init_2023-02-0720_24_17.938535\\model-00018-6.32082-0.20965-5.15779-0.23000.h5\n",
      "83/83 [==============================] - 124s 2s/step - loss: 6.3208 - categorical_accuracy: 0.2097 - val_loss: 5.1578 - val_categorical_accuracy: 0.2300 - lr: 6.2500e-05\n",
      "Epoch 19/20\n",
      "83/83 [==============================] - ETA: 0s - loss: 6.3451 - categorical_accuracy: 0.2021\n",
      "Epoch 19: saving model to model_init_2023-02-0720_24_17.938535\\model-00019-6.34513-0.20211-4.67425-0.25000.h5\n",
      "83/83 [==============================] - 124s 2s/step - loss: 6.3451 - categorical_accuracy: 0.2021 - val_loss: 4.6742 - val_categorical_accuracy: 0.2500 - lr: 6.2500e-05\n",
      "Epoch 20/20\n",
      "83/83 [==============================] - ETA: 0s - loss: 6.2965 - categorical_accuracy: 0.2081\n",
      "Epoch 20: ReduceLROnPlateau reducing learning rate to 3.125000148429535e-05.\n",
      "\n",
      "Epoch 20: saving model to model_init_2023-02-0720_24_17.938535\\model-00020-6.29651-0.20814-5.31897-0.24000.h5\n",
      "83/83 [==============================] - 123s 1s/step - loss: 6.2965 - categorical_accuracy: 0.2081 - val_loss: 5.3190 - val_categorical_accuracy: 0.2400 - lr: 6.2500e-05\n"
     ]
    },
    {
     "name": "stdout",
     "output_type": "stream",
     "text": [
      "Time Taken to Train this model was :  0:41:14.985149\n"
     ]
    }
   ],
   "source": [
    "batch_size=8\n",
    "trainmodel(model_2Dplus1,batch_size)"
   ]
  },
  {
   "cell_type": "code",
   "execution_count": 52,
   "metadata": {},
   "outputs": [],
   "source": [
    "model_2Dplus1.save(\"model_2Dplus1.h5\")"
   ]
  },
  {
   "cell_type": "markdown",
   "metadata": {},
   "source": [
    "## Model 5:  CNN with LSTM\n",
    "\n"
   ]
  },
  {
   "cell_type": "code",
   "execution_count": 53,
   "metadata": {},
   "outputs": [],
   "source": [
    "# Here we use the COV2D layers with time distribution and pass it to the LSTM Layer"
   ]
  },
  {
   "cell_type": "code",
   "execution_count": 54,
   "metadata": {},
   "outputs": [],
   "source": [
    "# Model Architecture for model_cnn_LSTM\n",
    "Input_shape = (len(img_idx), imgdim, imgdim, 3)\n",
    "\n",
    "model_cnn_LSTM = Sequential()\n",
    "\n",
    "model_cnn_LSTM.add(TimeDistributed(Conv2D(16, (3, 3) , padding='same', activation='relu'),input_shape=Input_shape))\n",
    "model_cnn_LSTM.add(TimeDistributed(BatchNormalization()))\n",
    "model_cnn_LSTM.add(TimeDistributed(MaxPooling2D((2, 2))))\n",
    "model_cnn_LSTM.add(Dropout(0.25))\n",
    "\n",
    "        \n",
    "model_cnn_LSTM.add(TimeDistributed(Conv2D(32, (3, 3) , padding='same', activation='relu')))\n",
    "model_cnn_LSTM.add(TimeDistributed(BatchNormalization()))\n",
    "model_cnn_LSTM.add(TimeDistributed(MaxPooling2D((2, 2))))\n",
    "model_cnn_LSTM.add(Dropout(0.25))\n",
    "        \n",
    "model_cnn_LSTM.add(TimeDistributed(Conv2D(64, (3, 3) , padding='same', activation='relu')))\n",
    "model_cnn_LSTM.add(TimeDistributed(BatchNormalization()))\n",
    "model_cnn_LSTM.add(TimeDistributed(MaxPooling2D((2, 2))))\n",
    "model_cnn_LSTM.add(Dropout(0.25))\n",
    "        \n",
    "model_cnn_LSTM.add(TimeDistributed(Conv2D(128, (3, 3) , padding='same', activation='relu')))\n",
    "model_cnn_LSTM.add(TimeDistributed(BatchNormalization()))\n",
    "model_cnn_LSTM.add(TimeDistributed(MaxPooling2D((2, 2))))\n",
    "model_cnn_LSTM.add(Dropout(0.25))\n",
    "          \n",
    "\n",
    "model_cnn_LSTM.add(TimeDistributed(Flatten()))\n",
    "model_cnn_LSTM.add(Dropout(0.25))\n",
    "\n",
    "model_cnn_LSTM.add(LSTM(1024))\n",
    "model_cnn_LSTM.add(Dropout(0.5))\n",
    "\n",
    "model_cnn_LSTM.add(Dense(5, activation='softmax'))"
   ]
  },
  {
   "cell_type": "code",
   "execution_count": 55,
   "metadata": {
    "execution": {
     "iopub.execute_input": "2021-10-26T06:20:07.757837Z",
     "iopub.status.busy": "2021-10-26T06:20:07.757588Z",
     "iopub.status.idle": "2021-10-26T06:20:07.929675Z",
     "shell.execute_reply": "2021-10-26T06:20:07.929025Z",
     "shell.execute_reply.started": "2021-10-26T06:20:07.757808Z"
    },
    "scrolled": false
   },
   "outputs": [
    {
     "name": "stdout",
     "output_type": "stream",
     "text": [
      "Model: \"sequential_19\"\n",
      "_________________________________________________________________\n",
      " Layer (type)                Output Shape              Param #   \n",
      "=================================================================\n",
      " time_distributed (TimeDistr  (None, 30, 120, 120, 16)  448      \n",
      " ibuted)                                                         \n",
      "                                                                 \n",
      " time_distributed_1 (TimeDis  (None, 30, 120, 120, 16)  64       \n",
      " tributed)                                                       \n",
      "                                                                 \n",
      " time_distributed_2 (TimeDis  (None, 30, 60, 60, 16)   0         \n",
      " tributed)                                                       \n",
      "                                                                 \n",
      " dropout_2 (Dropout)         (None, 30, 60, 60, 16)    0         \n",
      "                                                                 \n",
      " time_distributed_3 (TimeDis  (None, 30, 60, 60, 32)   4640      \n",
      " tributed)                                                       \n",
      "                                                                 \n",
      " time_distributed_4 (TimeDis  (None, 30, 60, 60, 32)   128       \n",
      " tributed)                                                       \n",
      "                                                                 \n",
      " time_distributed_5 (TimeDis  (None, 30, 30, 30, 32)   0         \n",
      " tributed)                                                       \n",
      "                                                                 \n",
      " dropout_3 (Dropout)         (None, 30, 30, 30, 32)    0         \n",
      "                                                                 \n",
      " time_distributed_6 (TimeDis  (None, 30, 30, 30, 64)   18496     \n",
      " tributed)                                                       \n",
      "                                                                 \n",
      " time_distributed_7 (TimeDis  (None, 30, 30, 30, 64)   256       \n",
      " tributed)                                                       \n",
      "                                                                 \n",
      " time_distributed_8 (TimeDis  (None, 30, 15, 15, 64)   0         \n",
      " tributed)                                                       \n",
      "                                                                 \n",
      " dropout_4 (Dropout)         (None, 30, 15, 15, 64)    0         \n",
      "                                                                 \n",
      " time_distributed_9 (TimeDis  (None, 30, 15, 15, 128)  73856     \n",
      " tributed)                                                       \n",
      "                                                                 \n",
      " time_distributed_10 (TimeDi  (None, 30, 15, 15, 128)  512       \n",
      " stributed)                                                      \n",
      "                                                                 \n",
      " time_distributed_11 (TimeDi  (None, 30, 7, 7, 128)    0         \n",
      " stributed)                                                      \n",
      "                                                                 \n",
      " dropout_5 (Dropout)         (None, 30, 7, 7, 128)     0         \n",
      "                                                                 \n",
      " time_distributed_12 (TimeDi  (None, 30, 6272)         0         \n",
      " stributed)                                                      \n",
      "                                                                 \n",
      " dropout_6 (Dropout)         (None, 30, 6272)          0         \n",
      "                                                                 \n",
      " lstm (LSTM)                 (None, 1024)              29888512  \n",
      "                                                                 \n",
      " dropout_7 (Dropout)         (None, 1024)              0         \n",
      "                                                                 \n",
      " dense_10 (Dense)            (None, 5)                 5125      \n",
      "                                                                 \n",
      "=================================================================\n",
      "Total params: 29,992,037\n",
      "Trainable params: 29,991,557\n",
      "Non-trainable params: 480\n",
      "_________________________________________________________________\n",
      "None\n"
     ]
    }
   ],
   "source": [
    "# Compiling the model using Adam as optimizer\n",
    "model_cnn_LSTM.compile(optimizer=optimizers.Adam(), loss='categorical_crossentropy', metrics=['categorical_accuracy'])\n",
    "print (model_cnn_LSTM.summary())"
   ]
  },
  {
   "cell_type": "code",
   "execution_count": 56,
   "metadata": {},
   "outputs": [
    {
     "name": "stdout",
     "output_type": "stream",
     "text": [
      "_________________\n",
      "Batch Size is : 8\n",
      "\n",
      "Source path =  datasets/Project_data/train ; batch size = 8\n",
      "Epoch 1/20\n",
      "83/83 [==============================] - ETA: 0s - loss: 1.6949 - categorical_accuracy: 0.3258\n",
      "Source path =  datasets/Project_data/val ; batch size = 8\n",
      "\n",
      "Epoch 1: saving model to model_init_2023-02-0720_24_17.938535\\model-00001-1.69489-0.32579-3.00417-0.19000.h5\n",
      "83/83 [==============================] - 125s 2s/step - loss: 1.6949 - categorical_accuracy: 0.3258 - val_loss: 3.0042 - val_categorical_accuracy: 0.1900 - lr: 0.0010\n",
      "Epoch 2/20\n",
      "83/83 [==============================] - ETA: 0s - loss: 1.2190 - categorical_accuracy: 0.5098\n",
      "Epoch 2: saving model to model_init_2023-02-0720_24_17.938535\\model-00002-1.21895-0.50980-2.03727-0.15000.h5\n",
      "83/83 [==============================] - 124s 2s/step - loss: 1.2190 - categorical_accuracy: 0.5098 - val_loss: 2.0373 - val_categorical_accuracy: 0.1500 - lr: 0.0010\n",
      "Epoch 3/20\n",
      "83/83 [==============================] - ETA: 0s - loss: 0.9874 - categorical_accuracy: 0.6244\n",
      "Epoch 3: saving model to model_init_2023-02-0720_24_17.938535\\model-00003-0.98741-0.62443-3.18122-0.22000.h5\n",
      "83/83 [==============================] - 122s 1s/step - loss: 0.9874 - categorical_accuracy: 0.6244 - val_loss: 3.1812 - val_categorical_accuracy: 0.2200 - lr: 0.0010\n",
      "Epoch 4/20\n",
      "83/83 [==============================] - ETA: 0s - loss: 0.9217 - categorical_accuracy: 0.6576\n",
      "Epoch 4: saving model to model_init_2023-02-0720_24_17.938535\\model-00004-0.92174-0.65762-2.76008-0.20000.h5\n",
      "83/83 [==============================] - 124s 2s/step - loss: 0.9217 - categorical_accuracy: 0.6576 - val_loss: 2.7601 - val_categorical_accuracy: 0.2000 - lr: 0.0010\n",
      "Epoch 5/20\n",
      "83/83 [==============================] - ETA: 0s - loss: 0.8074 - categorical_accuracy: 0.7149\n",
      "Epoch 5: saving model to model_init_2023-02-0720_24_17.938535\\model-00005-0.80738-0.71493-1.60138-0.47000.h5\n",
      "83/83 [==============================] - 124s 2s/step - loss: 0.8074 - categorical_accuracy: 0.7149 - val_loss: 1.6014 - val_categorical_accuracy: 0.4700 - lr: 0.0010\n",
      "Epoch 6/20\n",
      "83/83 [==============================] - ETA: 0s - loss: 0.6921 - categorical_accuracy: 0.7481\n",
      "Epoch 6: saving model to model_init_2023-02-0720_24_17.938535\\model-00006-0.69211-0.74811-2.28760-0.35000.h5\n",
      "83/83 [==============================] - 123s 2s/step - loss: 0.6921 - categorical_accuracy: 0.7481 - val_loss: 2.2876 - val_categorical_accuracy: 0.3500 - lr: 0.0010\n",
      "Epoch 7/20\n",
      "83/83 [==============================] - ETA: 0s - loss: 0.5926 - categorical_accuracy: 0.7858\n",
      "Epoch 7: saving model to model_init_2023-02-0720_24_17.938535\\model-00007-0.59257-0.78582-1.12635-0.58000.h5\n",
      "83/83 [==============================] - 124s 2s/step - loss: 0.5926 - categorical_accuracy: 0.7858 - val_loss: 1.1264 - val_categorical_accuracy: 0.5800 - lr: 0.0010\n",
      "Epoch 8/20\n",
      "83/83 [==============================] - ETA: 0s - loss: 0.4778 - categorical_accuracy: 0.8220\n",
      "Epoch 8: saving model to model_init_2023-02-0720_24_17.938535\\model-00008-0.47782-0.82202-0.82288-0.71000.h5\n",
      "83/83 [==============================] - 123s 2s/step - loss: 0.4778 - categorical_accuracy: 0.8220 - val_loss: 0.8229 - val_categorical_accuracy: 0.7100 - lr: 0.0010\n",
      "Epoch 9/20\n",
      "83/83 [==============================] - ETA: 0s - loss: 0.4527 - categorical_accuracy: 0.8356\n",
      "Epoch 9: saving model to model_init_2023-02-0720_24_17.938535\\model-00009-0.45270-0.83560-0.51874-0.79000.h5\n",
      "83/83 [==============================] - 122s 1s/step - loss: 0.4527 - categorical_accuracy: 0.8356 - val_loss: 0.5187 - val_categorical_accuracy: 0.7900 - lr: 0.0010\n",
      "Epoch 10/20\n",
      "83/83 [==============================] - ETA: 0s - loss: 0.4291 - categorical_accuracy: 0.8386\n",
      "Epoch 10: saving model to model_init_2023-02-0720_24_17.938535\\model-00010-0.42909-0.83861-0.71565-0.76000.h5\n",
      "83/83 [==============================] - 122s 1s/step - loss: 0.4291 - categorical_accuracy: 0.8386 - val_loss: 0.7157 - val_categorical_accuracy: 0.7600 - lr: 0.0010\n",
      "Epoch 11/20\n",
      "83/83 [==============================] - ETA: 0s - loss: 0.3307 - categorical_accuracy: 0.8839\n",
      "Epoch 11: saving model to model_init_2023-02-0720_24_17.938535\\model-00011-0.33072-0.88386-0.71352-0.80000.h5\n",
      "83/83 [==============================] - 123s 1s/step - loss: 0.3307 - categorical_accuracy: 0.8839 - val_loss: 0.7135 - val_categorical_accuracy: 0.8000 - lr: 0.0010\n",
      "Epoch 12/20\n",
      "83/83 [==============================] - ETA: 0s - loss: 0.2876 - categorical_accuracy: 0.8974\n",
      "Epoch 12: ReduceLROnPlateau reducing learning rate to 0.0005000000237487257.\n",
      "\n",
      "Epoch 12: saving model to model_init_2023-02-0720_24_17.938535\\model-00012-0.28762-0.89744-0.71860-0.79000.h5\n",
      "83/83 [==============================] - 122s 1s/step - loss: 0.2876 - categorical_accuracy: 0.8974 - val_loss: 0.7186 - val_categorical_accuracy: 0.7900 - lr: 0.0010\n",
      "Epoch 13/20\n",
      "83/83 [==============================] - ETA: 0s - loss: 0.2129 - categorical_accuracy: 0.9321\n",
      "Epoch 13: saving model to model_init_2023-02-0720_24_17.938535\\model-00013-0.21290-0.93213-0.58545-0.84000.h5\n",
      "83/83 [==============================] - 122s 1s/step - loss: 0.2129 - categorical_accuracy: 0.9321 - val_loss: 0.5855 - val_categorical_accuracy: 0.8400 - lr: 5.0000e-04\n",
      "Epoch 14/20\n",
      "83/83 [==============================] - ETA: 0s - loss: 0.1668 - categorical_accuracy: 0.9487\n",
      "Epoch 14: saving model to model_init_2023-02-0720_24_17.938535\\model-00014-0.16683-0.94872-0.57690-0.81000.h5\n",
      "83/83 [==============================] - 123s 1s/step - loss: 0.1668 - categorical_accuracy: 0.9487 - val_loss: 0.5769 - val_categorical_accuracy: 0.8100 - lr: 5.0000e-04\n",
      "Epoch 15/20\n",
      "83/83 [==============================] - ETA: 0s - loss: 0.1385 - categorical_accuracy: 0.9563\n",
      "Epoch 15: saving model to model_init_2023-02-0720_24_17.938535\\model-00015-0.13845-0.95626-0.38100-0.87000.h5\n",
      "83/83 [==============================] - 123s 1s/step - loss: 0.1385 - categorical_accuracy: 0.9563 - val_loss: 0.3810 - val_categorical_accuracy: 0.8700 - lr: 5.0000e-04\n",
      "Epoch 16/20\n",
      "83/83 [==============================] - ETA: 0s - loss: 0.1017 - categorical_accuracy: 0.9744\n",
      "Epoch 16: saving model to model_init_2023-02-0720_24_17.938535\\model-00016-0.10166-0.97436-0.51985-0.82000.h5\n",
      "83/83 [==============================] - 122s 1s/step - loss: 0.1017 - categorical_accuracy: 0.9744 - val_loss: 0.5199 - val_categorical_accuracy: 0.8200 - lr: 5.0000e-04\n",
      "Epoch 17/20\n",
      "83/83 [==============================] - ETA: 0s - loss: 0.0929 - categorical_accuracy: 0.9759\n",
      "Epoch 17: saving model to model_init_2023-02-0720_24_17.938535\\model-00017-0.09288-0.97587-0.72723-0.80000.h5\n",
      "83/83 [==============================] - 123s 1s/step - loss: 0.0929 - categorical_accuracy: 0.9759 - val_loss: 0.7272 - val_categorical_accuracy: 0.8000 - lr: 5.0000e-04\n",
      "Epoch 18/20\n",
      "83/83 [==============================] - ETA: 0s - loss: 0.0752 - categorical_accuracy: 0.9819\n",
      "Epoch 18: ReduceLROnPlateau reducing learning rate to 0.0002500000118743628.\n",
      "\n",
      "Epoch 18: saving model to model_init_2023-02-0720_24_17.938535\\model-00018-0.07516-0.98190-0.62478-0.83000.h5\n",
      "83/83 [==============================] - 123s 2s/step - loss: 0.0752 - categorical_accuracy: 0.9819 - val_loss: 0.6248 - val_categorical_accuracy: 0.8300 - lr: 5.0000e-04\n",
      "Epoch 19/20\n",
      "83/83 [==============================] - ETA: 0s - loss: 0.0659 - categorical_accuracy: 0.9834\n",
      "Epoch 19: saving model to model_init_2023-02-0720_24_17.938535\\model-00019-0.06585-0.98341-0.36831-0.84000.h5\n",
      "83/83 [==============================] - 123s 1s/step - loss: 0.0659 - categorical_accuracy: 0.9834 - val_loss: 0.3683 - val_categorical_accuracy: 0.8400 - lr: 2.5000e-04\n",
      "Epoch 20/20\n",
      "83/83 [==============================] - ETA: 0s - loss: 0.0499 - categorical_accuracy: 0.9894\n",
      "Epoch 20: saving model to model_init_2023-02-0720_24_17.938535\\model-00020-0.04987-0.98944-0.33419-0.82000.h5\n",
      "83/83 [==============================] - 123s 1s/step - loss: 0.0499 - categorical_accuracy: 0.9894 - val_loss: 0.3342 - val_categorical_accuracy: 0.8200 - lr: 2.5000e-04\n",
      "Time Taken to Train this model was :  0:41:03.600928\n"
     ]
    }
   ],
   "source": [
    "batch_size=8\n",
    "trainmodel(model_cnn_LSTM,batch_size)"
   ]
  },
  {
   "cell_type": "code",
   "execution_count": 57,
   "metadata": {},
   "outputs": [],
   "source": [
    "model_cnn_LSTM.save(\"model_cnn_LSTM.h5\")"
   ]
  },
  {
   "cell_type": "markdown",
   "metadata": {},
   "source": [
    "## Model 6: CNN with GRU\n",
    "\n"
   ]
  },
  {
   "cell_type": "code",
   "execution_count": 58,
   "metadata": {},
   "outputs": [],
   "source": [
    "# Here we use the COV2D layers with time distribution and pass it to the GRU Layer\n"
   ]
  },
  {
   "cell_type": "code",
   "execution_count": 59,
   "metadata": {},
   "outputs": [],
   "source": [
    "# Model Architecture for model_cnn_GRU\n",
    "Input_shape = (len(img_idx), imgdim, imgdim, 3)\n",
    "\n",
    "model_cnn_GRU = Sequential()\n",
    "\n",
    "model_cnn_GRU.add(TimeDistributed(Conv2D(16, (3, 3) , padding='same', activation='relu'),input_shape=Input_shape))\n",
    "model_cnn_GRU.add(TimeDistributed(BatchNormalization()))\n",
    "model_cnn_GRU.add(TimeDistributed(MaxPooling2D((2, 2))))\n",
    "model_cnn_GRU.add(Dropout(0.25))\n",
    "\n",
    "        \n",
    "model_cnn_GRU.add(TimeDistributed(Conv2D(32, (3, 3) , padding='same', activation='relu')))\n",
    "model_cnn_GRU.add(TimeDistributed(BatchNormalization()))\n",
    "model_cnn_GRU.add(TimeDistributed(MaxPooling2D((2, 2))))\n",
    "model_cnn_GRU.add(Dropout(0.25))\n",
    "        \n",
    "model_cnn_GRU.add(TimeDistributed(Conv2D(64, (3, 3) , padding='same', activation='relu')))\n",
    "model_cnn_GRU.add(TimeDistributed(BatchNormalization()))\n",
    "model_cnn_GRU.add(TimeDistributed(MaxPooling2D((2, 2))))\n",
    "model_cnn_GRU.add(Dropout(0.25))\n",
    "        \n",
    "model_cnn_GRU.add(TimeDistributed(Conv2D(128, (3, 3) , padding='same', activation='relu')))\n",
    "model_cnn_GRU.add(TimeDistributed(BatchNormalization()))\n",
    "model_cnn_GRU.add(TimeDistributed(MaxPooling2D((2, 2))))\n",
    "model_cnn_GRU.add(Dropout(0.25))\n",
    "          \n",
    "\n",
    "model_cnn_GRU.add(TimeDistributed(Flatten()))\n",
    "model_cnn_GRU.add(Dropout(0.25))\n",
    "\n",
    "model_cnn_GRU.add(GRU(1024))\n",
    "model_cnn_GRU.add(Dropout(0.5))\n",
    "\n",
    "\n",
    "model_cnn_GRU.add(Dense(5, activation='softmax'))"
   ]
  },
  {
   "cell_type": "code",
   "execution_count": 60,
   "metadata": {
    "execution": {
     "iopub.execute_input": "2021-10-26T06:20:07.757837Z",
     "iopub.status.busy": "2021-10-26T06:20:07.757588Z",
     "iopub.status.idle": "2021-10-26T06:20:07.929675Z",
     "shell.execute_reply": "2021-10-26T06:20:07.929025Z",
     "shell.execute_reply.started": "2021-10-26T06:20:07.757808Z"
    },
    "scrolled": false
   },
   "outputs": [
    {
     "name": "stdout",
     "output_type": "stream",
     "text": [
      "Model: \"sequential_20\"\n",
      "_________________________________________________________________\n",
      " Layer (type)                Output Shape              Param #   \n",
      "=================================================================\n",
      " time_distributed_13 (TimeDi  (None, 30, 120, 120, 16)  448      \n",
      " stributed)                                                      \n",
      "                                                                 \n",
      " time_distributed_14 (TimeDi  (None, 30, 120, 120, 16)  64       \n",
      " stributed)                                                      \n",
      "                                                                 \n",
      " time_distributed_15 (TimeDi  (None, 30, 60, 60, 16)   0         \n",
      " stributed)                                                      \n",
      "                                                                 \n",
      " dropout_8 (Dropout)         (None, 30, 60, 60, 16)    0         \n",
      "                                                                 \n",
      " time_distributed_16 (TimeDi  (None, 30, 60, 60, 32)   4640      \n",
      " stributed)                                                      \n",
      "                                                                 \n",
      " time_distributed_17 (TimeDi  (None, 30, 60, 60, 32)   128       \n",
      " stributed)                                                      \n",
      "                                                                 \n",
      " time_distributed_18 (TimeDi  (None, 30, 30, 30, 32)   0         \n",
      " stributed)                                                      \n",
      "                                                                 \n",
      " dropout_9 (Dropout)         (None, 30, 30, 30, 32)    0         \n",
      "                                                                 \n",
      " time_distributed_19 (TimeDi  (None, 30, 30, 30, 64)   18496     \n",
      " stributed)                                                      \n",
      "                                                                 \n",
      " time_distributed_20 (TimeDi  (None, 30, 30, 30, 64)   256       \n",
      " stributed)                                                      \n",
      "                                                                 \n",
      " time_distributed_21 (TimeDi  (None, 30, 15, 15, 64)   0         \n",
      " stributed)                                                      \n",
      "                                                                 \n",
      " dropout_10 (Dropout)        (None, 30, 15, 15, 64)    0         \n",
      "                                                                 \n",
      " time_distributed_22 (TimeDi  (None, 30, 15, 15, 128)  73856     \n",
      " stributed)                                                      \n",
      "                                                                 \n",
      " time_distributed_23 (TimeDi  (None, 30, 15, 15, 128)  512       \n",
      " stributed)                                                      \n",
      "                                                                 \n",
      " time_distributed_24 (TimeDi  (None, 30, 7, 7, 128)    0         \n",
      " stributed)                                                      \n",
      "                                                                 \n",
      " dropout_11 (Dropout)        (None, 30, 7, 7, 128)     0         \n",
      "                                                                 \n",
      " time_distributed_25 (TimeDi  (None, 30, 6272)         0         \n",
      " stributed)                                                      \n",
      "                                                                 \n",
      " dropout_12 (Dropout)        (None, 30, 6272)          0         \n",
      "                                                                 \n",
      " gru (GRU)                   (None, 1024)              22419456  \n",
      "                                                                 \n",
      " dropout_13 (Dropout)        (None, 1024)              0         \n",
      "                                                                 \n",
      " dense_11 (Dense)            (None, 5)                 5125      \n",
      "                                                                 \n",
      "=================================================================\n",
      "Total params: 22,522,981\n",
      "Trainable params: 22,522,501\n",
      "Non-trainable params: 480\n",
      "_________________________________________________________________\n",
      "None\n"
     ]
    }
   ],
   "source": [
    "# Compiling the model using Adam as optimizer\n",
    "model_cnn_GRU.compile(optimizer=optimizers.Adam(), loss='categorical_crossentropy', metrics=['categorical_accuracy'])\n",
    "print (model_cnn_GRU.summary())"
   ]
  },
  {
   "cell_type": "code",
   "execution_count": 61,
   "metadata": {},
   "outputs": [
    {
     "name": "stdout",
     "output_type": "stream",
     "text": [
      "_________________\n",
      "Batch Size is : 8\n",
      "\n",
      "Source path =  datasets/Project_data/train ; batch size = 8\n",
      "Epoch 1/20\n",
      "83/83 [==============================] - ETA: 0s - loss: 2.3855 - categorical_accuracy: 0.2670\n",
      "Source path =  datasets/Project_data/val ; batch size = 8\n",
      "\n",
      "Epoch 1: saving model to model_init_2023-02-0720_24_17.938535\\model-00001-2.38550-0.26697-4.34948-0.21000.h5\n",
      "83/83 [==============================] - 124s 1s/step - loss: 2.3855 - categorical_accuracy: 0.2670 - val_loss: 4.3495 - val_categorical_accuracy: 0.2100 - lr: 0.0010\n",
      "Epoch 2/20\n",
      "83/83 [==============================] - ETA: 0s - loss: 1.6972 - categorical_accuracy: 0.3363\n",
      "Epoch 2: saving model to model_init_2023-02-0720_24_17.938535\\model-00002-1.69718-0.33635-2.74405-0.15000.h5\n",
      "83/83 [==============================] - 122s 1s/step - loss: 1.6972 - categorical_accuracy: 0.3363 - val_loss: 2.7440 - val_categorical_accuracy: 0.1500 - lr: 0.0010\n",
      "Epoch 3/20\n",
      "83/83 [==============================] - ETA: 0s - loss: 1.4534 - categorical_accuracy: 0.4540\n",
      "Epoch 3: saving model to model_init_2023-02-0720_24_17.938535\\model-00003-1.45336-0.45400-2.10604-0.28000.h5\n",
      "83/83 [==============================] - 123s 1s/step - loss: 1.4534 - categorical_accuracy: 0.4540 - val_loss: 2.1060 - val_categorical_accuracy: 0.2800 - lr: 0.0010\n",
      "Epoch 4/20\n",
      "83/83 [==============================] - ETA: 0s - loss: 1.2097 - categorical_accuracy: 0.5324\n",
      "Epoch 4: saving model to model_init_2023-02-0720_24_17.938535\\model-00004-1.20972-0.53243-2.20754-0.31000.h5\n",
      "83/83 [==============================] - 123s 1s/step - loss: 1.2097 - categorical_accuracy: 0.5324 - val_loss: 2.2075 - val_categorical_accuracy: 0.3100 - lr: 0.0010\n",
      "Epoch 5/20\n",
      "83/83 [==============================] - ETA: 0s - loss: 1.0201 - categorical_accuracy: 0.6229\n",
      "Epoch 5: saving model to model_init_2023-02-0720_24_17.938535\\model-00005-1.02013-0.62293-1.76832-0.44000.h5\n",
      "83/83 [==============================] - 123s 1s/step - loss: 1.0201 - categorical_accuracy: 0.6229 - val_loss: 1.7683 - val_categorical_accuracy: 0.4400 - lr: 0.0010\n",
      "Epoch 6/20\n",
      "83/83 [==============================] - ETA: 0s - loss: 0.8776 - categorical_accuracy: 0.6652\n",
      "Epoch 6: saving model to model_init_2023-02-0720_24_17.938535\\model-00006-0.87759-0.66516-1.52222-0.54000.h5\n",
      "83/83 [==============================] - 122s 1s/step - loss: 0.8776 - categorical_accuracy: 0.6652 - val_loss: 1.5222 - val_categorical_accuracy: 0.5400 - lr: 0.0010\n",
      "Epoch 7/20\n",
      "83/83 [==============================] - ETA: 0s - loss: 0.7035 - categorical_accuracy: 0.7300\n",
      "Epoch 7: saving model to model_init_2023-02-0720_24_17.938535\\model-00007-0.70346-0.73002-0.64132-0.78000.h5\n",
      "83/83 [==============================] - 122s 1s/step - loss: 0.7035 - categorical_accuracy: 0.7300 - val_loss: 0.6413 - val_categorical_accuracy: 0.7800 - lr: 0.0010\n",
      "Epoch 8/20\n",
      "83/83 [==============================] - ETA: 0s - loss: 0.5975 - categorical_accuracy: 0.7964\n",
      "Epoch 8: saving model to model_init_2023-02-0720_24_17.938535\\model-00008-0.59751-0.79638-0.84316-0.71000.h5\n",
      "83/83 [==============================] - 123s 1s/step - loss: 0.5975 - categorical_accuracy: 0.7964 - val_loss: 0.8432 - val_categorical_accuracy: 0.7100 - lr: 0.0010\n",
      "Epoch 9/20\n",
      "83/83 [==============================] - ETA: 0s - loss: 0.5891 - categorical_accuracy: 0.7692\n",
      "Epoch 9: saving model to model_init_2023-02-0720_24_17.938535\\model-00009-0.58905-0.76923-1.08832-0.73000.h5\n",
      "83/83 [==============================] - 123s 1s/step - loss: 0.5891 - categorical_accuracy: 0.7692 - val_loss: 1.0883 - val_categorical_accuracy: 0.7300 - lr: 0.0010\n",
      "Epoch 10/20\n",
      "83/83 [==============================] - ETA: 0s - loss: 0.5537 - categorical_accuracy: 0.8039\n",
      "Epoch 10: ReduceLROnPlateau reducing learning rate to 0.0005000000237487257.\n",
      "\n",
      "Epoch 10: saving model to model_init_2023-02-0720_24_17.938535\\model-00010-0.55373-0.80392-0.73514-0.77000.h5\n",
      "83/83 [==============================] - 123s 1s/step - loss: 0.5537 - categorical_accuracy: 0.8039 - val_loss: 0.7351 - val_categorical_accuracy: 0.7700 - lr: 0.0010\n",
      "Epoch 11/20\n",
      "83/83 [==============================] - ETA: 0s - loss: 0.4414 - categorical_accuracy: 0.8175\n",
      "Epoch 11: saving model to model_init_2023-02-0720_24_17.938535\\model-00011-0.44143-0.81750-0.66580-0.80000.h5\n",
      "83/83 [==============================] - 123s 1s/step - loss: 0.4414 - categorical_accuracy: 0.8175 - val_loss: 0.6658 - val_categorical_accuracy: 0.8000 - lr: 5.0000e-04\n",
      "Epoch 12/20\n",
      "83/83 [==============================] - ETA: 0s - loss: 0.3038 - categorical_accuracy: 0.8959\n",
      "Epoch 12: saving model to model_init_2023-02-0720_24_17.938535\\model-00012-0.30381-0.89593-0.68935-0.75000.h5\n",
      "83/83 [==============================] - 122s 1s/step - loss: 0.3038 - categorical_accuracy: 0.8959 - val_loss: 0.6894 - val_categorical_accuracy: 0.7500 - lr: 5.0000e-04\n",
      "Epoch 13/20\n",
      "83/83 [==============================] - ETA: 0s - loss: 0.2431 - categorical_accuracy: 0.9020\n",
      "Epoch 13: saving model to model_init_2023-02-0720_24_17.938535\\model-00013-0.24312-0.90196-0.58906-0.82000.h5\n",
      "83/83 [==============================] - 122s 1s/step - loss: 0.2431 - categorical_accuracy: 0.9020 - val_loss: 0.5891 - val_categorical_accuracy: 0.8200 - lr: 5.0000e-04\n",
      "Epoch 14/20\n",
      "83/83 [==============================] - ETA: 0s - loss: 0.2040 - categorical_accuracy: 0.9321\n",
      "Epoch 14: saving model to model_init_2023-02-0720_24_17.938535\\model-00014-0.20404-0.93213-0.58624-0.83000.h5\n",
      "83/83 [==============================] - 123s 1s/step - loss: 0.2040 - categorical_accuracy: 0.9321 - val_loss: 0.5862 - val_categorical_accuracy: 0.8300 - lr: 5.0000e-04\n",
      "Epoch 15/20\n",
      "83/83 [==============================] - ETA: 0s - loss: 0.1733 - categorical_accuracy: 0.9397\n",
      "Epoch 15: saving model to model_init_2023-02-0720_24_17.938535\\model-00015-0.17329-0.93967-0.37240-0.91000.h5\n",
      "83/83 [==============================] - 123s 1s/step - loss: 0.1733 - categorical_accuracy: 0.9397 - val_loss: 0.3724 - val_categorical_accuracy: 0.9100 - lr: 5.0000e-04\n",
      "Epoch 16/20\n",
      "83/83 [==============================] - ETA: 0s - loss: 0.1624 - categorical_accuracy: 0.9367\n",
      "Epoch 16: saving model to model_init_2023-02-0720_24_17.938535\\model-00016-0.16237-0.93665-0.37091-0.89000.h5\n",
      "83/83 [==============================] - 122s 1s/step - loss: 0.1624 - categorical_accuracy: 0.9367 - val_loss: 0.3709 - val_categorical_accuracy: 0.8900 - lr: 5.0000e-04\n",
      "Epoch 17/20\n",
      "83/83 [==============================] - ETA: 0s - loss: 0.1452 - categorical_accuracy: 0.9472\n",
      "Epoch 17: saving model to model_init_2023-02-0720_24_17.938535\\model-00017-0.14523-0.94721-0.62743-0.84000.h5\n",
      "83/83 [==============================] - 123s 1s/step - loss: 0.1452 - categorical_accuracy: 0.9472 - val_loss: 0.6274 - val_categorical_accuracy: 0.8400 - lr: 5.0000e-04\n",
      "Epoch 18/20\n",
      "83/83 [==============================] - ETA: 0s - loss: 0.1215 - categorical_accuracy: 0.9608\n",
      "Epoch 18: saving model to model_init_2023-02-0720_24_17.938535\\model-00018-0.12153-0.96078-0.37776-0.88000.h5\n",
      "83/83 [==============================] - 124s 2s/step - loss: 0.1215 - categorical_accuracy: 0.9608 - val_loss: 0.3778 - val_categorical_accuracy: 0.8800 - lr: 5.0000e-04\n",
      "Epoch 19/20\n",
      "83/83 [==============================] - ETA: 0s - loss: 0.1117 - categorical_accuracy: 0.9683\n",
      "Epoch 19: ReduceLROnPlateau reducing learning rate to 0.0002500000118743628.\n",
      "\n",
      "Epoch 19: saving model to model_init_2023-02-0720_24_17.938535\\model-00019-0.11173-0.96833-0.48712-0.85000.h5\n",
      "83/83 [==============================] - 124s 2s/step - loss: 0.1117 - categorical_accuracy: 0.9683 - val_loss: 0.4871 - val_categorical_accuracy: 0.8500 - lr: 5.0000e-04\n",
      "Epoch 20/20\n",
      "83/83 [==============================] - ETA: 0s - loss: 0.0914 - categorical_accuracy: 0.9683\n",
      "Epoch 20: saving model to model_init_2023-02-0720_24_17.938535\\model-00020-0.09139-0.96833-0.58108-0.83000.h5\n",
      "83/83 [==============================] - 122s 1s/step - loss: 0.0914 - categorical_accuracy: 0.9683 - val_loss: 0.5811 - val_categorical_accuracy: 0.8300 - lr: 2.5000e-04\n",
      "Time Taken to Train this model was :  0:40:57.944320\n"
     ]
    }
   ],
   "source": [
    "batch_size=8\n",
    "trainmodel(model_cnn_GRU,batch_size)"
   ]
  },
  {
   "cell_type": "code",
   "execution_count": 62,
   "metadata": {},
   "outputs": [],
   "source": [
    "model_cnn_GRU.save(\"model_cnn_GRU.h5\")"
   ]
  },
  {
   "cell_type": "markdown",
   "metadata": {},
   "source": [
    "## Transfer Learning - Using Pretrained Models\n"
   ]
  },
  {
   "cell_type": "markdown",
   "metadata": {},
   "source": [
    "### Using Resnet 50 with GRU layer"
   ]
  },
  {
   "cell_type": "code",
   "execution_count": 65,
   "metadata": {},
   "outputs": [
    {
     "name": "stdout",
     "output_type": "stream",
     "text": [
      "Downloading data from https://storage.googleapis.com/tensorflow/keras-applications/resnet/resnet50_weights_tf_dim_ordering_tf_kernels_notop.h5\n",
      "94765736/94765736 [==============================] - 3s 0us/step\n"
     ]
    }
   ],
   "source": [
    "from tensorflow.keras.applications import ResNet50\n",
    "\n",
    "# Importing the model and removing the top layer\n",
    "restnet_50_model = ResNet50(weights='imagenet', include_top=False,pooling='max')\n",
    "\n",
    "# We do not want to lose the learning obtained form the Pre-Trained model so we will freeze all but\n",
    "# 10 layers\n",
    "for layer in restnet_50_model.layers[:-10]:\n",
    "        layer.trainable = False"
   ]
  },
  {
   "cell_type": "markdown",
   "metadata": {},
   "source": [
    "## Model 7: Resnet50 with GRU\n"
   ]
  },
  {
   "cell_type": "code",
   "execution_count": 66,
   "metadata": {},
   "outputs": [],
   "source": [
    "# Model Architecture \n",
    "# We have added a GRU layer after the resnet\n",
    "model_resnetPlusGRU = Sequential()\n",
    "model_resnetPlusGRU.add(TimeDistributed(restnet_50_model,input_shape=(30,120,120,3)))\n",
    "\n",
    "model_resnetPlusGRU.add(GRU(512))\n",
    "model_resnetPlusGRU.add(Dropout(0.5))\n",
    "\n",
    "model_resnetPlusGRU.add(Dense(5, activation='softmax'))\n"
   ]
  },
  {
   "cell_type": "code",
   "execution_count": 67,
   "metadata": {},
   "outputs": [
    {
     "name": "stdout",
     "output_type": "stream",
     "text": [
      "Model: \"sequential_21\"\n",
      "_________________________________________________________________\n",
      " Layer (type)                Output Shape              Param #   \n",
      "=================================================================\n",
      " time_distributed_26 (TimeDi  (None, 30, 2048)         23587712  \n",
      " stributed)                                                      \n",
      "                                                                 \n",
      " gru_1 (GRU)                 (None, 512)               3935232   \n",
      "                                                                 \n",
      " dropout_14 (Dropout)        (None, 512)               0         \n",
      "                                                                 \n",
      " dense_12 (Dense)            (None, 5)                 2565      \n",
      "                                                                 \n",
      "=================================================================\n",
      "Total params: 27,525,509\n",
      "Trainable params: 7,354,373\n",
      "Non-trainable params: 20,171,136\n",
      "_________________________________________________________________\n",
      "None\n"
     ]
    }
   ],
   "source": [
    "# Compiling the model using Adam as optimizer\n",
    "model_resnetPlusGRU.compile(optimizer=optimizers.Adam(), loss='categorical_crossentropy', metrics=['categorical_accuracy'])\n",
    "print (model_resnetPlusGRU.summary())"
   ]
  },
  {
   "cell_type": "code",
   "execution_count": 68,
   "metadata": {},
   "outputs": [
    {
     "name": "stdout",
     "output_type": "stream",
     "text": [
      "_________________\n",
      "Batch Size is : 8\n",
      "\n",
      "Source path =  datasets/Project_data/train ; batch size = 8\n",
      "Epoch 1/20\n",
      "83/83 [==============================] - ETA: 0s - loss: 2.2349 - categorical_accuracy: 0.2127\n",
      "Source path =  datasets/Project_data/val ; batch size = 8\n",
      "\n",
      "Epoch 1: saving model to model_init_2023-02-0720_24_17.938535\\model-00001-2.23491-0.21267-1.74423-0.24000.h5\n",
      "83/83 [==============================] - 130s 2s/step - loss: 2.2349 - categorical_accuracy: 0.2127 - val_loss: 1.7442 - val_categorical_accuracy: 0.2400 - lr: 0.0010\n",
      "Epoch 2/20\n",
      "83/83 [==============================] - ETA: 0s - loss: 2.0905 - categorical_accuracy: 0.1931\n",
      "Epoch 2: saving model to model_init_2023-02-0720_24_17.938535\\model-00002-2.09053-0.19306-1.60070-0.23000.h5\n",
      "83/83 [==============================] - 125s 2s/step - loss: 2.0905 - categorical_accuracy: 0.1931 - val_loss: 1.6007 - val_categorical_accuracy: 0.2300 - lr: 0.0010\n",
      "Epoch 3/20\n",
      "83/83 [==============================] - ETA: 0s - loss: 2.0518 - categorical_accuracy: 0.2006\n",
      "Epoch 3: saving model to model_init_2023-02-0720_24_17.938535\\model-00003-2.05183-0.20060-1.60880-0.18000.h5\n",
      "83/83 [==============================] - 124s 2s/step - loss: 2.0518 - categorical_accuracy: 0.2006 - val_loss: 1.6088 - val_categorical_accuracy: 0.1800 - lr: 0.0010\n",
      "Epoch 4/20\n",
      "83/83 [==============================] - ETA: 0s - loss: 1.9662 - categorical_accuracy: 0.2262\n",
      "Epoch 4: saving model to model_init_2023-02-0720_24_17.938535\\model-00004-1.96623-0.22624-1.62996-0.23000.h5\n",
      "83/83 [==============================] - 124s 2s/step - loss: 1.9662 - categorical_accuracy: 0.2262 - val_loss: 1.6300 - val_categorical_accuracy: 0.2300 - lr: 0.0010\n",
      "Epoch 5/20\n",
      "83/83 [==============================] - ETA: 0s - loss: 1.9692 - categorical_accuracy: 0.2157\n",
      "Epoch 5: ReduceLROnPlateau reducing learning rate to 0.0005000000237487257.\n",
      "\n",
      "Epoch 5: saving model to model_init_2023-02-0720_24_17.938535\\model-00005-1.96916-0.21569-1.61884-0.28000.h5\n",
      "83/83 [==============================] - 125s 2s/step - loss: 1.9692 - categorical_accuracy: 0.2157 - val_loss: 1.6188 - val_categorical_accuracy: 0.2800 - lr: 0.0010\n",
      "Epoch 6/20\n",
      "83/83 [==============================] - ETA: 0s - loss: 1.9187 - categorical_accuracy: 0.1885\n",
      "Epoch 6: saving model to model_init_2023-02-0720_24_17.938535\\model-00006-1.91875-0.18854-1.64181-0.20000.h5\n",
      "83/83 [==============================] - 123s 2s/step - loss: 1.9187 - categorical_accuracy: 0.1885 - val_loss: 1.6418 - val_categorical_accuracy: 0.2000 - lr: 5.0000e-04\n",
      "Epoch 7/20\n",
      "83/83 [==============================] - ETA: 0s - loss: 1.9256 - categorical_accuracy: 0.1931\n",
      "Epoch 7: saving model to model_init_2023-02-0720_24_17.938535\\model-00007-1.92557-0.19306-1.58219-0.29000.h5\n",
      "83/83 [==============================] - 124s 2s/step - loss: 1.9256 - categorical_accuracy: 0.1931 - val_loss: 1.5822 - val_categorical_accuracy: 0.2900 - lr: 5.0000e-04\n",
      "Epoch 8/20\n",
      "83/83 [==============================] - ETA: 0s - loss: 1.8690 - categorical_accuracy: 0.2157\n",
      "Epoch 8: saving model to model_init_2023-02-0720_24_17.938535\\model-00008-1.86904-0.21569-1.62988-0.17000.h5\n",
      "83/83 [==============================] - 124s 2s/step - loss: 1.8690 - categorical_accuracy: 0.2157 - val_loss: 1.6299 - val_categorical_accuracy: 0.1700 - lr: 5.0000e-04\n",
      "Epoch 9/20\n",
      "83/83 [==============================] - ETA: 0s - loss: 1.9356 - categorical_accuracy: 0.1885\n",
      "Epoch 9: saving model to model_init_2023-02-0720_24_17.938535\\model-00009-1.93563-0.18854-1.60411-0.22000.h5\n",
      "83/83 [==============================] - 124s 2s/step - loss: 1.9356 - categorical_accuracy: 0.1885 - val_loss: 1.6041 - val_categorical_accuracy: 0.2200 - lr: 5.0000e-04\n",
      "Epoch 10/20\n",
      "83/83 [==============================] - ETA: 0s - loss: 1.8108 - categorical_accuracy: 0.2232\n",
      "Epoch 10: ReduceLROnPlateau reducing learning rate to 0.0002500000118743628.\n",
      "\n",
      "Epoch 10: saving model to model_init_2023-02-0720_24_17.938535\\model-00010-1.81076-0.22323-1.66725-0.16000.h5\n",
      "83/83 [==============================] - 125s 2s/step - loss: 1.8108 - categorical_accuracy: 0.2232 - val_loss: 1.6673 - val_categorical_accuracy: 0.1600 - lr: 5.0000e-04\n",
      "Epoch 11/20\n",
      "83/83 [==============================] - ETA: 0s - loss: 1.8728 - categorical_accuracy: 0.1750\n",
      "Epoch 11: saving model to model_init_2023-02-0720_24_17.938535\\model-00011-1.87278-0.17496-1.61945-0.18000.h5\n",
      "83/83 [==============================] - 125s 2s/step - loss: 1.8728 - categorical_accuracy: 0.1750 - val_loss: 1.6195 - val_categorical_accuracy: 0.1800 - lr: 2.5000e-04\n",
      "Epoch 12/20\n",
      "83/83 [==============================] - ETA: 0s - loss: 1.8116 - categorical_accuracy: 0.2232\n",
      "Epoch 12: saving model to model_init_2023-02-0720_24_17.938535\\model-00012-1.81157-0.22323-1.62159-0.19000.h5\n",
      "83/83 [==============================] - 124s 2s/step - loss: 1.8116 - categorical_accuracy: 0.2232 - val_loss: 1.6216 - val_categorical_accuracy: 0.1900 - lr: 2.5000e-04\n",
      "Epoch 13/20\n",
      "83/83 [==============================] - ETA: 0s - loss: 1.7933 - categorical_accuracy: 0.2006\n",
      "Epoch 13: ReduceLROnPlateau reducing learning rate to 0.0001250000059371814.\n",
      "\n",
      "Epoch 13: saving model to model_init_2023-02-0720_24_17.938535\\model-00013-1.79332-0.20060-1.64886-0.16000.h5\n",
      "83/83 [==============================] - 124s 2s/step - loss: 1.7933 - categorical_accuracy: 0.2006 - val_loss: 1.6489 - val_categorical_accuracy: 0.1600 - lr: 2.5000e-04\n",
      "Epoch 14/20\n",
      "83/83 [==============================] - ETA: 0s - loss: 1.7979 - categorical_accuracy: 0.2066\n",
      "Epoch 14: saving model to model_init_2023-02-0720_24_17.938535\\model-00014-1.79792-0.20664-1.60995-0.23000.h5\n",
      "83/83 [==============================] - 124s 2s/step - loss: 1.7979 - categorical_accuracy: 0.2066 - val_loss: 1.6100 - val_categorical_accuracy: 0.2300 - lr: 1.2500e-04\n",
      "Epoch 15/20\n",
      "83/83 [==============================] - ETA: 0s - loss: 1.8158 - categorical_accuracy: 0.1870\n",
      "Epoch 15: saving model to model_init_2023-02-0720_24_17.938535\\model-00015-1.81584-0.18703-1.61410-0.23000.h5\n",
      "83/83 [==============================] - 124s 2s/step - loss: 1.8158 - categorical_accuracy: 0.1870 - val_loss: 1.6141 - val_categorical_accuracy: 0.2300 - lr: 1.2500e-04\n",
      "Epoch 16/20\n",
      "83/83 [==============================] - ETA: 0s - loss: 1.8161 - categorical_accuracy: 0.2021\n",
      "Epoch 16: ReduceLROnPlateau reducing learning rate to 6.25000029685907e-05.\n",
      "\n",
      "Epoch 16: saving model to model_init_2023-02-0720_24_17.938535\\model-00016-1.81612-0.20211-1.61218-0.19000.h5\n",
      "83/83 [==============================] - 124s 2s/step - loss: 1.8161 - categorical_accuracy: 0.2021 - val_loss: 1.6122 - val_categorical_accuracy: 0.1900 - lr: 1.2500e-04\n",
      "Epoch 17/20\n",
      "83/83 [==============================] - ETA: 0s - loss: 1.7589 - categorical_accuracy: 0.2021\n",
      "Epoch 17: saving model to model_init_2023-02-0720_24_17.938535\\model-00017-1.75888-0.20211-1.59944-0.21000.h5\n",
      "83/83 [==============================] - 125s 2s/step - loss: 1.7589 - categorical_accuracy: 0.2021 - val_loss: 1.5994 - val_categorical_accuracy: 0.2100 - lr: 6.2500e-05\n",
      "Epoch 18/20\n",
      "83/83 [==============================] - ETA: 0s - loss: 1.7983 - categorical_accuracy: 0.1931\n",
      "Epoch 18: saving model to model_init_2023-02-0720_24_17.938535\\model-00018-1.79833-0.19306-1.61188-0.22000.h5\n",
      "83/83 [==============================] - 125s 2s/step - loss: 1.7983 - categorical_accuracy: 0.1931 - val_loss: 1.6119 - val_categorical_accuracy: 0.2200 - lr: 6.2500e-05\n",
      "Epoch 19/20\n",
      "83/83 [==============================] - ETA: 0s - loss: 1.7881 - categorical_accuracy: 0.2097\n",
      "Epoch 19: ReduceLROnPlateau reducing learning rate to 3.125000148429535e-05.\n",
      "\n",
      "Epoch 19: saving model to model_init_2023-02-0720_24_17.938535\\model-00019-1.78809-0.20965-1.60645-0.24000.h5\n",
      "83/83 [==============================] - 124s 2s/step - loss: 1.7881 - categorical_accuracy: 0.2097 - val_loss: 1.6064 - val_categorical_accuracy: 0.2400 - lr: 6.2500e-05\n",
      "Epoch 20/20\n",
      "83/83 [==============================] - ETA: 0s - loss: 1.8071 - categorical_accuracy: 0.2051\n",
      "Epoch 20: saving model to model_init_2023-02-0720_24_17.938535\\model-00020-1.80709-0.20513-1.60580-0.21000.h5\n",
      "83/83 [==============================] - 125s 2s/step - loss: 1.8071 - categorical_accuracy: 0.2051 - val_loss: 1.6058 - val_categorical_accuracy: 0.2100 - lr: 3.1250e-05\n"
     ]
    },
    {
     "name": "stdout",
     "output_type": "stream",
     "text": [
      "Time Taken to Train this model was :  0:41:32.164463\n"
     ]
    }
   ],
   "source": [
    "batch_size=8\n",
    "trainmodel(model_resnetPlusGRU,batch_size)"
   ]
  },
  {
   "cell_type": "code",
   "execution_count": 69,
   "metadata": {},
   "outputs": [],
   "source": [
    "model_resnetPlusGRU.save(\"model_resnetPlusGRU.h5\")"
   ]
  },
  {
   "cell_type": "markdown",
   "metadata": {},
   "source": [
    "#### Experimenting with lesser trainable layers from the Resnet pretrained model "
   ]
  },
  {
   "cell_type": "code",
   "execution_count": 71,
   "metadata": {},
   "outputs": [],
   "source": [
    "# Importing the model and removing the top layer\n",
    "restnet_50_model = ResNet50(weights='imagenet', include_top=False,pooling='max')\n",
    "\n",
    "# Experimenting with the same model as above but with only 5 layer as trainable\n",
    "for layer in restnet_50_model.layers[:-5]:\n",
    "        layer.trainable = False"
   ]
  },
  {
   "cell_type": "markdown",
   "metadata": {},
   "source": [
    "## Model 8: Resnet50 with GRU-2"
   ]
  },
  {
   "cell_type": "code",
   "execution_count": 72,
   "metadata": {},
   "outputs": [],
   "source": [
    "# Model Architecture \n",
    "# We have added a GRU layer after the resnet\n",
    "model_resnetPlusGRU_2 = Sequential()\n",
    "model_resnetPlusGRU_2.add(TimeDistributed(restnet_50_model,input_shape=(30,120,120,3)))\n",
    "\n",
    "model_resnetPlusGRU_2.add(GRU(512))\n",
    "model_resnetPlusGRU_2.add(Dropout(0.5))\n",
    "\n",
    "model_resnetPlusGRU_2.add(Dense(5, activation='softmax'))\n"
   ]
  },
  {
   "cell_type": "code",
   "execution_count": 73,
   "metadata": {},
   "outputs": [
    {
     "name": "stdout",
     "output_type": "stream",
     "text": [
      "Model: \"sequential_22\"\n",
      "_________________________________________________________________\n",
      " Layer (type)                Output Shape              Param #   \n",
      "=================================================================\n",
      " time_distributed_27 (TimeDi  (None, 30, 2048)         23587712  \n",
      " stributed)                                                      \n",
      "                                                                 \n",
      " gru_2 (GRU)                 (None, 512)               3935232   \n",
      "                                                                 \n",
      " dropout_15 (Dropout)        (None, 512)               0         \n",
      "                                                                 \n",
      " dense_13 (Dense)            (None, 5)                 2565      \n",
      "                                                                 \n",
      "=================================================================\n",
      "Total params: 27,525,509\n",
      "Trainable params: 4,992,517\n",
      "Non-trainable params: 22,532,992\n",
      "_________________________________________________________________\n",
      "None\n"
     ]
    }
   ],
   "source": [
    "# Compiling the model using Adam as optimizer\n",
    "model_resnetPlusGRU_2.compile(optimizer=optimizers.Adam(), loss='categorical_crossentropy', metrics=['categorical_accuracy'])\n",
    "print (model_resnetPlusGRU_2.summary())"
   ]
  },
  {
   "cell_type": "code",
   "execution_count": 74,
   "metadata": {},
   "outputs": [
    {
     "name": "stdout",
     "output_type": "stream",
     "text": [
      "_________________\n",
      "Batch Size is : 8\n",
      "\n",
      "Source path =  datasets/Project_data/train ; batch size = 8\n",
      "Epoch 1/20\n",
      "83/83 [==============================] - ETA: 0s - loss: 2.3033 - categorical_accuracy: 0.1629\n",
      "Source path =  datasets/Project_data/val ; batch size = 8\n",
      "\n",
      "Epoch 1: saving model to model_init_2023-02-0720_24_17.938535\\model-00001-2.30334-0.16290-1.62454-0.21000.h5\n",
      "83/83 [==============================] - 128s 2s/step - loss: 2.3033 - categorical_accuracy: 0.1629 - val_loss: 1.6245 - val_categorical_accuracy: 0.2100 - lr: 0.0010\n",
      "Epoch 2/20\n",
      "83/83 [==============================] - ETA: 0s - loss: 2.1964 - categorical_accuracy: 0.1825\n",
      "Epoch 2: saving model to model_init_2023-02-0720_24_17.938535\\model-00002-2.19641-0.18250-1.66627-0.23000.h5\n",
      "83/83 [==============================] - 124s 2s/step - loss: 2.1964 - categorical_accuracy: 0.1825 - val_loss: 1.6663 - val_categorical_accuracy: 0.2300 - lr: 0.0010\n",
      "Epoch 3/20\n",
      "83/83 [==============================] - ETA: 0s - loss: 2.1239 - categorical_accuracy: 0.1885\n",
      "Epoch 3: saving model to model_init_2023-02-0720_24_17.938535\\model-00003-2.12386-0.18854-1.62955-0.23000.h5\n",
      "83/83 [==============================] - 124s 2s/step - loss: 2.1239 - categorical_accuracy: 0.1885 - val_loss: 1.6296 - val_categorical_accuracy: 0.2300 - lr: 0.0010\n",
      "Epoch 4/20\n",
      "83/83 [==============================] - ETA: 0s - loss: 2.0038 - categorical_accuracy: 0.2142\n",
      "Epoch 4: saving model to model_init_2023-02-0720_24_17.938535\\model-00004-2.00383-0.21418-1.62441-0.20000.h5\n",
      "83/83 [==============================] - 124s 2s/step - loss: 2.0038 - categorical_accuracy: 0.2142 - val_loss: 1.6244 - val_categorical_accuracy: 0.2000 - lr: 0.0010\n",
      "Epoch 5/20\n",
      "83/83 [==============================] - ETA: 0s - loss: 1.9932 - categorical_accuracy: 0.1961\n",
      "Epoch 5: saving model to model_init_2023-02-0720_24_17.938535\\model-00005-1.99319-0.19608-1.62350-0.23000.h5\n",
      "83/83 [==============================] - 123s 2s/step - loss: 1.9932 - categorical_accuracy: 0.1961 - val_loss: 1.6235 - val_categorical_accuracy: 0.2300 - lr: 0.0010\n",
      "Epoch 6/20\n",
      "83/83 [==============================] - ETA: 0s - loss: 1.9885 - categorical_accuracy: 0.1946\n",
      "Epoch 6: saving model to model_init_2023-02-0720_24_17.938535\\model-00006-1.98851-0.19457-1.60251-0.23000.h5\n",
      "83/83 [==============================] - 123s 2s/step - loss: 1.9885 - categorical_accuracy: 0.1946 - val_loss: 1.6025 - val_categorical_accuracy: 0.2300 - lr: 0.0010\n",
      "Epoch 7/20\n",
      "83/83 [==============================] - ETA: 0s - loss: 1.9601 - categorical_accuracy: 0.1719\n",
      "Epoch 7: saving model to model_init_2023-02-0720_24_17.938535\\model-00007-1.96010-0.17195-1.61026-0.16000.h5\n",
      "83/83 [==============================] - 124s 2s/step - loss: 1.9601 - categorical_accuracy: 0.1719 - val_loss: 1.6103 - val_categorical_accuracy: 0.1600 - lr: 0.0010\n",
      "Epoch 8/20\n",
      "83/83 [==============================] - ETA: 0s - loss: 1.9453 - categorical_accuracy: 0.1750\n",
      "Epoch 8: saving model to model_init_2023-02-0720_24_17.938535\\model-00008-1.94535-0.17496-1.66723-0.16000.h5\n",
      "83/83 [==============================] - 125s 2s/step - loss: 1.9453 - categorical_accuracy: 0.1750 - val_loss: 1.6672 - val_categorical_accuracy: 0.1600 - lr: 0.0010\n",
      "Epoch 9/20\n",
      "83/83 [==============================] - ETA: 0s - loss: 1.9278 - categorical_accuracy: 0.1825\n",
      "Epoch 9: ReduceLROnPlateau reducing learning rate to 0.0005000000237487257.\n",
      "\n",
      "Epoch 9: saving model to model_init_2023-02-0720_24_17.938535\\model-00009-1.92783-0.18250-1.62953-0.19000.h5\n",
      "83/83 [==============================] - 124s 2s/step - loss: 1.9278 - categorical_accuracy: 0.1825 - val_loss: 1.6295 - val_categorical_accuracy: 0.1900 - lr: 0.0010\n",
      "Epoch 10/20\n",
      "83/83 [==============================] - ETA: 0s - loss: 1.8687 - categorical_accuracy: 0.2051\n",
      "Epoch 10: saving model to model_init_2023-02-0720_24_17.938535\\model-00010-1.86865-0.20513-1.64597-0.22000.h5\n",
      "83/83 [==============================] - 124s 2s/step - loss: 1.8687 - categorical_accuracy: 0.2051 - val_loss: 1.6460 - val_categorical_accuracy: 0.2200 - lr: 5.0000e-04\n",
      "Epoch 11/20\n",
      "83/83 [==============================] - ETA: 0s - loss: 1.8383 - categorical_accuracy: 0.1931\n",
      "Epoch 11: saving model to model_init_2023-02-0720_24_17.938535\\model-00011-1.83830-0.19306-1.66868-0.20000.h5\n",
      "83/83 [==============================] - 124s 2s/step - loss: 1.8383 - categorical_accuracy: 0.1931 - val_loss: 1.6687 - val_categorical_accuracy: 0.2000 - lr: 5.0000e-04\n",
      "Epoch 12/20\n",
      "83/83 [==============================] - ETA: 0s - loss: 1.8667 - categorical_accuracy: 0.1885\n",
      "Epoch 12: ReduceLROnPlateau reducing learning rate to 0.0002500000118743628.\n",
      "\n",
      "Epoch 12: saving model to model_init_2023-02-0720_24_17.938535\\model-00012-1.86670-0.18854-1.60530-0.28000.h5\n",
      "83/83 [==============================] - 124s 2s/step - loss: 1.8667 - categorical_accuracy: 0.1885 - val_loss: 1.6053 - val_categorical_accuracy: 0.2800 - lr: 5.0000e-04\n",
      "Epoch 13/20\n",
      "83/83 [==============================] - ETA: 0s - loss: 1.7893 - categorical_accuracy: 0.2112\n",
      "Epoch 13: saving model to model_init_2023-02-0720_24_17.938535\\model-00013-1.78927-0.21116-1.61522-0.24000.h5\n",
      "83/83 [==============================] - 124s 2s/step - loss: 1.7893 - categorical_accuracy: 0.2112 - val_loss: 1.6152 - val_categorical_accuracy: 0.2400 - lr: 2.5000e-04\n",
      "Epoch 14/20\n",
      "83/83 [==============================] - ETA: 0s - loss: 1.7759 - categorical_accuracy: 0.2097\n",
      "Epoch 14: saving model to model_init_2023-02-0720_24_17.938535\\model-00014-1.77593-0.20965-1.61308-0.23000.h5\n",
      "83/83 [==============================] - 125s 2s/step - loss: 1.7759 - categorical_accuracy: 0.2097 - val_loss: 1.6131 - val_categorical_accuracy: 0.2300 - lr: 2.5000e-04\n",
      "Epoch 15/20\n",
      "83/83 [==============================] - ETA: 0s - loss: 1.8099 - categorical_accuracy: 0.2006\n",
      "Epoch 15: ReduceLROnPlateau reducing learning rate to 0.0001250000059371814.\n",
      "\n",
      "Epoch 15: saving model to model_init_2023-02-0720_24_17.938535\\model-00015-1.80991-0.20060-1.60732-0.20000.h5\n",
      "83/83 [==============================] - 125s 2s/step - loss: 1.8099 - categorical_accuracy: 0.2006 - val_loss: 1.6073 - val_categorical_accuracy: 0.2000 - lr: 2.5000e-04\n",
      "Epoch 16/20\n",
      "83/83 [==============================] - ETA: 0s - loss: 1.7515 - categorical_accuracy: 0.2217\n",
      "Epoch 16: saving model to model_init_2023-02-0720_24_17.938535\\model-00016-1.75153-0.22172-1.61419-0.20000.h5\n",
      "83/83 [==============================] - 125s 2s/step - loss: 1.7515 - categorical_accuracy: 0.2217 - val_loss: 1.6142 - val_categorical_accuracy: 0.2000 - lr: 1.2500e-04\n",
      "Epoch 17/20\n",
      "83/83 [==============================] - ETA: 0s - loss: 1.7716 - categorical_accuracy: 0.2036\n",
      "Epoch 17: saving model to model_init_2023-02-0720_24_17.938535\\model-00017-1.77156-0.20362-1.60128-0.25000.h5\n",
      "83/83 [==============================] - 124s 2s/step - loss: 1.7716 - categorical_accuracy: 0.2036 - val_loss: 1.6013 - val_categorical_accuracy: 0.2500 - lr: 1.2500e-04\n",
      "Epoch 18/20\n",
      "83/83 [==============================] - ETA: 0s - loss: 1.7636 - categorical_accuracy: 0.2157\n",
      "Epoch 18: saving model to model_init_2023-02-0720_24_17.938535\\model-00018-1.76361-0.21569-1.62459-0.19000.h5\n",
      "83/83 [==============================] - 124s 2s/step - loss: 1.7636 - categorical_accuracy: 0.2157 - val_loss: 1.6246 - val_categorical_accuracy: 0.1900 - lr: 1.2500e-04\n",
      "Epoch 19/20\n",
      "83/83 [==============================] - ETA: 0s - loss: 1.7632 - categorical_accuracy: 0.1961\n",
      "Epoch 19: saving model to model_init_2023-02-0720_24_17.938535\\model-00019-1.76323-0.19608-1.59414-0.22000.h5\n",
      "83/83 [==============================] - 124s 2s/step - loss: 1.7632 - categorical_accuracy: 0.1961 - val_loss: 1.5941 - val_categorical_accuracy: 0.2200 - lr: 1.2500e-04\n",
      "Epoch 20/20\n",
      "83/83 [==============================] - ETA: 0s - loss: 1.7545 - categorical_accuracy: 0.2021\n",
      "Epoch 20: saving model to model_init_2023-02-0720_24_17.938535\\model-00020-1.75450-0.20211-1.60003-0.20000.h5\n",
      "83/83 [==============================] - 125s 2s/step - loss: 1.7545 - categorical_accuracy: 0.2021 - val_loss: 1.6000 - val_categorical_accuracy: 0.2000 - lr: 1.2500e-04\n",
      "Time Taken to Train this model was :  0:41:27.183254\n"
     ]
    }
   ],
   "source": [
    "batch_size=8\n",
    "trainmodel(model_resnetPlusGRU_2,batch_size)"
   ]
  },
  {
   "cell_type": "code",
   "execution_count": 75,
   "metadata": {},
   "outputs": [],
   "source": [
    "model_resnetPlusGRU_2.save(\"model_resnetPlusGRU_2.h5\")"
   ]
  },
  {
   "cell_type": "markdown",
   "metadata": {},
   "source": [
    "###  Using InceptionV3"
   ]
  },
  {
   "cell_type": "code",
   "execution_count": 76,
   "metadata": {},
   "outputs": [],
   "source": [
    "from keras.applications.inception_v3 import InceptionV3"
   ]
  },
  {
   "cell_type": "markdown",
   "metadata": {},
   "source": [
    "## Model 9: InceptionV3 "
   ]
  },
  {
   "cell_type": "code",
   "execution_count": 77,
   "metadata": {},
   "outputs": [
    {
     "name": "stdout",
     "output_type": "stream",
     "text": [
      "Downloading data from https://storage.googleapis.com/tensorflow/keras-applications/inception_v3/inception_v3_weights_tf_dim_ordering_tf_kernels_notop.h5\n",
      "87910968/87910968 [==============================] - 3s 0us/step\n"
     ]
    }
   ],
   "source": [
    "# Importing the model and removing the top layer\n",
    "InceptionV3_model = InceptionV3(weights='imagenet', include_top=False)\n",
    "\n",
    "# We do not want to lose the learning obtained form the Pre-Trained model so we will freeze all but\n",
    "# 10 layers\n",
    "for layer in InceptionV3_model.layers[:-10]:\n",
    "        layer.trainable = False"
   ]
  },
  {
   "cell_type": "code",
   "execution_count": 78,
   "metadata": {},
   "outputs": [],
   "source": [
    "#Model Architecture \n",
    "## GlobalAveragePooling3D layer and a dense layer with 1024 neurons added after Inception layers\n",
    "model_Inception = Sequential()\n",
    "model_Inception.add(TimeDistributed(InceptionV3_model,input_shape=(30,120,120,3)))\n",
    "model_Inception.add(GlobalAveragePooling3D())\n",
    "model_Inception.add(Dense(1024, activation='relu'))\n",
    "model_Inception.add(Dropout(0.5))\n",
    "model_Inception.add(Dense(5, activation='softmax'))"
   ]
  },
  {
   "cell_type": "code",
   "execution_count": 79,
   "metadata": {},
   "outputs": [
    {
     "name": "stdout",
     "output_type": "stream",
     "text": [
      "Model: \"sequential_23\"\n",
      "_________________________________________________________________\n",
      " Layer (type)                Output Shape              Param #   \n",
      "=================================================================\n",
      " time_distributed_28 (TimeDi  (None, 30, 2, 2, 2048)   21802784  \n",
      " stributed)                                                      \n",
      "                                                                 \n",
      " global_average_pooling3d_1   (None, 2048)             0         \n",
      " (GlobalAveragePooling3D)                                        \n",
      "                                                                 \n",
      " dense_14 (Dense)            (None, 1024)              2098176   \n",
      "                                                                 \n",
      " dropout_16 (Dropout)        (None, 1024)              0         \n",
      "                                                                 \n",
      " dense_15 (Dense)            (None, 5)                 5125      \n",
      "                                                                 \n",
      "=================================================================\n",
      "Total params: 23,906,085\n",
      "Trainable params: 2,103,493\n",
      "Non-trainable params: 21,802,592\n",
      "_________________________________________________________________\n",
      "None\n"
     ]
    }
   ],
   "source": [
    "# Compiling the model using Adam as optimizer\n",
    "model_Inception.compile(optimizer=optimizers.Adam(), loss='categorical_crossentropy', metrics=['categorical_accuracy'])\n",
    "print (model_Inception.summary())"
   ]
  },
  {
   "cell_type": "code",
   "execution_count": 80,
   "metadata": {},
   "outputs": [
    {
     "name": "stdout",
     "output_type": "stream",
     "text": [
      "_________________\n",
      "Batch Size is : 8\n",
      "\n",
      "Source path =  datasets/Project_data/train ; batch size = 8\n",
      "Epoch 1/20\n",
      "83/83 [==============================] - ETA: 0s - loss: 4.1066 - categorical_accuracy: 0.3514\n",
      "Source path =  datasets/Project_data/val ; batch size = 8\n",
      "\n",
      "Epoch 1: saving model to model_init_2023-02-0720_24_17.938535\\model-00001-4.10659-0.35143-1.46262-0.53000.h5\n",
      "83/83 [==============================] - 129s 2s/step - loss: 4.1066 - categorical_accuracy: 0.3514 - val_loss: 1.4626 - val_categorical_accuracy: 0.5300 - lr: 0.0010\n",
      "Epoch 2/20\n",
      "83/83 [==============================] - ETA: 0s - loss: 1.1863 - categorical_accuracy: 0.5460\n",
      "Epoch 2: saving model to model_init_2023-02-0720_24_17.938535\\model-00002-1.18634-0.54600-0.90204-0.54000.h5\n",
      "83/83 [==============================] - 125s 2s/step - loss: 1.1863 - categorical_accuracy: 0.5460 - val_loss: 0.9020 - val_categorical_accuracy: 0.5400 - lr: 0.0010\n",
      "Epoch 3/20\n",
      "83/83 [==============================] - ETA: 0s - loss: 0.9503 - categorical_accuracy: 0.6214\n",
      "Epoch 3: saving model to model_init_2023-02-0720_24_17.938535\\model-00003-0.95035-0.62142-1.10398-0.60000.h5\n",
      "83/83 [==============================] - 123s 2s/step - loss: 0.9503 - categorical_accuracy: 0.6214 - val_loss: 1.1040 - val_categorical_accuracy: 0.6000 - lr: 0.0010\n",
      "Epoch 4/20\n",
      "83/83 [==============================] - ETA: 0s - loss: 0.8010 - categorical_accuracy: 0.6727\n",
      "Epoch 4: saving model to model_init_2023-02-0720_24_17.938535\\model-00004-0.80098-0.67270-0.85824-0.67000.h5\n",
      "83/83 [==============================] - 125s 2s/step - loss: 0.8010 - categorical_accuracy: 0.6727 - val_loss: 0.8582 - val_categorical_accuracy: 0.6700 - lr: 0.0010\n",
      "Epoch 5/20\n",
      "83/83 [==============================] - ETA: 0s - loss: 0.7655 - categorical_accuracy: 0.6878\n",
      "Epoch 5: saving model to model_init_2023-02-0720_24_17.938535\\model-00005-0.76551-0.68778-0.79845-0.67000.h5\n",
      "83/83 [==============================] - 124s 2s/step - loss: 0.7655 - categorical_accuracy: 0.6878 - val_loss: 0.7984 - val_categorical_accuracy: 0.6700 - lr: 0.0010\n",
      "Epoch 6/20\n",
      "83/83 [==============================] - ETA: 0s - loss: 0.7107 - categorical_accuracy: 0.7179\n",
      "Epoch 6: saving model to model_init_2023-02-0720_24_17.938535\\model-00006-0.71065-0.71795-0.95443-0.67000.h5\n",
      "83/83 [==============================] - 124s 2s/step - loss: 0.7107 - categorical_accuracy: 0.7179 - val_loss: 0.9544 - val_categorical_accuracy: 0.6700 - lr: 0.0010\n",
      "Epoch 7/20\n",
      "83/83 [==============================] - ETA: 0s - loss: 0.6552 - categorical_accuracy: 0.7406\n",
      "Epoch 7: saving model to model_init_2023-02-0720_24_17.938535\\model-00007-0.65524-0.74057-1.07915-0.59000.h5\n",
      "83/83 [==============================] - 124s 2s/step - loss: 0.6552 - categorical_accuracy: 0.7406 - val_loss: 1.0791 - val_categorical_accuracy: 0.5900 - lr: 0.0010\n",
      "Epoch 8/20\n",
      "83/83 [==============================] - ETA: 0s - loss: 0.6212 - categorical_accuracy: 0.7602\n",
      "Epoch 8: ReduceLROnPlateau reducing learning rate to 0.0005000000237487257.\n",
      "\n",
      "Epoch 8: saving model to model_init_2023-02-0720_24_17.938535\\model-00008-0.62116-0.76018-0.81020-0.70000.h5\n",
      "83/83 [==============================] - 124s 2s/step - loss: 0.6212 - categorical_accuracy: 0.7602 - val_loss: 0.8102 - val_categorical_accuracy: 0.7000 - lr: 0.0010\n",
      "Epoch 9/20\n",
      "83/83 [==============================] - ETA: 0s - loss: 0.4345 - categorical_accuracy: 0.8431\n",
      "Epoch 9: saving model to model_init_2023-02-0720_24_17.938535\\model-00009-0.43450-0.84314-1.05532-0.57000.h5\n",
      "83/83 [==============================] - 124s 2s/step - loss: 0.4345 - categorical_accuracy: 0.8431 - val_loss: 1.0553 - val_categorical_accuracy: 0.5700 - lr: 5.0000e-04\n",
      "Epoch 10/20\n",
      "83/83 [==============================] - ETA: 0s - loss: 0.4037 - categorical_accuracy: 0.8462\n",
      "Epoch 10: saving model to model_init_2023-02-0720_24_17.938535\\model-00010-0.40365-0.84615-0.86640-0.67000.h5\n",
      "83/83 [==============================] - 124s 2s/step - loss: 0.4037 - categorical_accuracy: 0.8462 - val_loss: 0.8664 - val_categorical_accuracy: 0.6700 - lr: 5.0000e-04\n",
      "Epoch 11/20\n",
      "83/83 [==============================] - ETA: 0s - loss: 0.3394 - categorical_accuracy: 0.8869\n",
      "Epoch 11: saving model to model_init_2023-02-0720_24_17.938535\\model-00011-0.33943-0.88688-0.76807-0.73000.h5\n",
      "83/83 [==============================] - 124s 2s/step - loss: 0.3394 - categorical_accuracy: 0.8869 - val_loss: 0.7681 - val_categorical_accuracy: 0.7300 - lr: 5.0000e-04\n",
      "Epoch 12/20\n",
      "83/83 [==============================] - ETA: 0s - loss: 0.3301 - categorical_accuracy: 0.8748\n",
      "Epoch 12: saving model to model_init_2023-02-0720_24_17.938535\\model-00012-0.33006-0.87481-0.94932-0.65000.h5\n",
      "83/83 [==============================] - 124s 2s/step - loss: 0.3301 - categorical_accuracy: 0.8748 - val_loss: 0.9493 - val_categorical_accuracy: 0.6500 - lr: 5.0000e-04\n",
      "Epoch 13/20\n",
      "83/83 [==============================] - ETA: 0s - loss: 0.2668 - categorical_accuracy: 0.9095\n",
      "Epoch 13: saving model to model_init_2023-02-0720_24_17.938535\\model-00013-0.26681-0.90950-0.94307-0.67000.h5\n",
      "83/83 [==============================] - 123s 2s/step - loss: 0.2668 - categorical_accuracy: 0.9095 - val_loss: 0.9431 - val_categorical_accuracy: 0.6700 - lr: 5.0000e-04\n",
      "Epoch 14/20\n",
      "83/83 [==============================] - ETA: 0s - loss: 0.2693 - categorical_accuracy: 0.8929\n",
      "Epoch 14: ReduceLROnPlateau reducing learning rate to 0.0002500000118743628.\n",
      "\n",
      "Epoch 14: saving model to model_init_2023-02-0720_24_17.938535\\model-00014-0.26927-0.89291-0.86820-0.63000.h5\n",
      "83/83 [==============================] - 124s 2s/step - loss: 0.2693 - categorical_accuracy: 0.8929 - val_loss: 0.8682 - val_categorical_accuracy: 0.6300 - lr: 5.0000e-04\n",
      "Epoch 15/20\n",
      "83/83 [==============================] - ETA: 0s - loss: 0.2193 - categorical_accuracy: 0.9336\n",
      "Epoch 15: saving model to model_init_2023-02-0720_24_17.938535\\model-00015-0.21929-0.93363-0.96414-0.70000.h5\n",
      "83/83 [==============================] - 124s 2s/step - loss: 0.2193 - categorical_accuracy: 0.9336 - val_loss: 0.9641 - val_categorical_accuracy: 0.7000 - lr: 2.5000e-04\n",
      "Epoch 16/20\n",
      "83/83 [==============================] - ETA: 0s - loss: 0.1738 - categorical_accuracy: 0.9532\n",
      "Epoch 16: saving model to model_init_2023-02-0720_24_17.938535\\model-00016-0.17383-0.95324-0.85772-0.70000.h5\n",
      "83/83 [==============================] - 124s 2s/step - loss: 0.1738 - categorical_accuracy: 0.9532 - val_loss: 0.8577 - val_categorical_accuracy: 0.7000 - lr: 2.5000e-04\n",
      "Epoch 17/20\n",
      "83/83 [==============================] - ETA: 0s - loss: 0.1736 - categorical_accuracy: 0.9487\n",
      "Epoch 17: ReduceLROnPlateau reducing learning rate to 0.0001250000059371814.\n",
      "\n",
      "Epoch 17: saving model to model_init_2023-02-0720_24_17.938535\\model-00017-0.17363-0.94872-0.96362-0.64000.h5\n",
      "83/83 [==============================] - 124s 2s/step - loss: 0.1736 - categorical_accuracy: 0.9487 - val_loss: 0.9636 - val_categorical_accuracy: 0.6400 - lr: 2.5000e-04\n",
      "Epoch 18/20\n",
      "83/83 [==============================] - ETA: 0s - loss: 0.1668 - categorical_accuracy: 0.9548\n",
      "Epoch 18: saving model to model_init_2023-02-0720_24_17.938535\\model-00018-0.16675-0.95475-1.04007-0.61000.h5\n",
      "83/83 [==============================] - 125s 2s/step - loss: 0.1668 - categorical_accuracy: 0.9548 - val_loss: 1.0401 - val_categorical_accuracy: 0.6100 - lr: 1.2500e-04\n",
      "Epoch 19/20\n",
      "83/83 [==============================] - ETA: 0s - loss: 0.1564 - categorical_accuracy: 0.9593\n",
      "Epoch 19: saving model to model_init_2023-02-0720_24_17.938535\\model-00019-0.15642-0.95928-1.01210-0.63000.h5\n",
      "83/83 [==============================] - 124s 2s/step - loss: 0.1564 - categorical_accuracy: 0.9593 - val_loss: 1.0121 - val_categorical_accuracy: 0.6300 - lr: 1.2500e-04\n",
      "Epoch 20/20\n",
      "83/83 [==============================] - ETA: 0s - loss: 0.1448 - categorical_accuracy: 0.9623\n",
      "Epoch 20: ReduceLROnPlateau reducing learning rate to 6.25000029685907e-05.\n",
      "\n",
      "Epoch 20: saving model to model_init_2023-02-0720_24_17.938535\\model-00020-0.14483-0.96229-0.78077-0.68000.h5\n",
      "83/83 [==============================] - 124s 2s/step - loss: 0.1448 - categorical_accuracy: 0.9623 - val_loss: 0.7808 - val_categorical_accuracy: 0.6800 - lr: 1.2500e-04\n",
      "Time Taken to Train this model was :  0:41:28.448926\n"
     ]
    }
   ],
   "source": [
    "batch_size=8\n",
    "trainmodel(model_Inception,batch_size)"
   ]
  },
  {
   "cell_type": "code",
   "execution_count": 81,
   "metadata": {},
   "outputs": [],
   "source": [
    "model_Inception.save(\"model_Inception.h5\")"
   ]
  },
  {
   "cell_type": "markdown",
   "metadata": {},
   "source": [
    "#### Experimenting with lesser trainable layers from the pretrained InceptionV3 model "
   ]
  },
  {
   "cell_type": "code",
   "execution_count": 83,
   "metadata": {},
   "outputs": [],
   "source": [
    "# Importing the model and removing the top layer\n",
    "InceptionV3_model = InceptionV3(weights='imagenet', include_top=False)\n",
    "\n",
    "# Experimenting with the same model as above but with only 5 layer as trainable\n",
    "for layer in InceptionV3_model.layers[:-5]:\n",
    "        layer.trainable = False"
   ]
  },
  {
   "cell_type": "markdown",
   "metadata": {},
   "source": [
    "## Model 10: InceptionV3 -2"
   ]
  },
  {
   "cell_type": "code",
   "execution_count": 84,
   "metadata": {},
   "outputs": [],
   "source": [
    "#Model Architecture \n",
    "## GlobalAveragePooling3D layer and a dense layer with 1024 neurons added after Inception layers\n",
    "model_Inception_2 = Sequential()\n",
    "model_Inception_2.add(TimeDistributed(InceptionV3_model,input_shape=(30,120,120,3)))\n",
    "model_Inception_2.add(GlobalAveragePooling3D())\n",
    "model_Inception_2.add(Dense(1024, activation='relu'))\n",
    "model_Inception_2.add(Dropout(0.5))\n",
    "model_Inception_2.add(Dense(5, activation='softmax'))"
   ]
  },
  {
   "cell_type": "code",
   "execution_count": 85,
   "metadata": {},
   "outputs": [
    {
     "name": "stdout",
     "output_type": "stream",
     "text": [
      "Model: \"sequential_24\"\n",
      "_________________________________________________________________\n",
      " Layer (type)                Output Shape              Param #   \n",
      "=================================================================\n",
      " time_distributed_29 (TimeDi  (None, 30, 2, 2, 2048)   21802784  \n",
      " stributed)                                                      \n",
      "                                                                 \n",
      " global_average_pooling3d_2   (None, 2048)             0         \n",
      " (GlobalAveragePooling3D)                                        \n",
      "                                                                 \n",
      " dense_16 (Dense)            (None, 1024)              2098176   \n",
      "                                                                 \n",
      " dropout_17 (Dropout)        (None, 1024)              0         \n",
      "                                                                 \n",
      " dense_17 (Dense)            (None, 5)                 5125      \n",
      "                                                                 \n",
      "=================================================================\n",
      "Total params: 23,906,085\n",
      "Trainable params: 2,103,301\n",
      "Non-trainable params: 21,802,784\n",
      "_________________________________________________________________\n",
      "None\n"
     ]
    }
   ],
   "source": [
    "# Compiling the model using Adam as optimizer\n",
    "model_Inception_2.compile(optimizer=optimizers.Adam(), loss='categorical_crossentropy', metrics=['categorical_accuracy'])\n",
    "print (model_Inception_2.summary())"
   ]
  },
  {
   "cell_type": "code",
   "execution_count": 86,
   "metadata": {},
   "outputs": [
    {
     "name": "stdout",
     "output_type": "stream",
     "text": [
      "_________________\n",
      "Batch Size is : 8\n",
      "\n",
      "Source path =  datasets/Project_data/train ; batch size = 8\n",
      "Epoch 1/20\n",
      "83/83 [==============================] - ETA: 0s - loss: 4.1422 - categorical_accuracy: 0.3786\n",
      "Source path =  datasets/Project_data/val ; batch size = 8\n",
      "\n",
      "Epoch 1: saving model to model_init_2023-02-0720_24_17.938535\\model-00001-4.14218-0.37858-1.38498-0.50000.h5\n",
      "83/83 [==============================] - 129s 2s/step - loss: 4.1422 - categorical_accuracy: 0.3786 - val_loss: 1.3850 - val_categorical_accuracy: 0.5000 - lr: 0.0010\n",
      "Epoch 2/20\n",
      "83/83 [==============================] - ETA: 0s - loss: 1.1894 - categorical_accuracy: 0.5701\n",
      "Epoch 2: saving model to model_init_2023-02-0720_24_17.938535\\model-00002-1.18941-0.57014-1.03227-0.59000.h5\n",
      "83/83 [==============================] - 124s 2s/step - loss: 1.1894 - categorical_accuracy: 0.5701 - val_loss: 1.0323 - val_categorical_accuracy: 0.5900 - lr: 0.0010\n",
      "Epoch 3/20\n",
      "83/83 [==============================] - ETA: 0s - loss: 0.9292 - categorical_accuracy: 0.6320\n",
      "Epoch 3: saving model to model_init_2023-02-0720_24_17.938535\\model-00003-0.92916-0.63198-0.91973-0.58000.h5\n",
      "83/83 [==============================] - 124s 2s/step - loss: 0.9292 - categorical_accuracy: 0.6320 - val_loss: 0.9197 - val_categorical_accuracy: 0.5800 - lr: 0.0010\n",
      "Epoch 4/20\n",
      "83/83 [==============================] - ETA: 0s - loss: 0.8258 - categorical_accuracy: 0.6712\n",
      "Epoch 4: saving model to model_init_2023-02-0720_24_17.938535\\model-00004-0.82582-0.67119-1.02619-0.53000.h5\n",
      "83/83 [==============================] - 124s 2s/step - loss: 0.8258 - categorical_accuracy: 0.6712 - val_loss: 1.0262 - val_categorical_accuracy: 0.5300 - lr: 0.0010\n",
      "Epoch 5/20\n",
      "83/83 [==============================] - ETA: 0s - loss: 0.7388 - categorical_accuracy: 0.7119\n",
      "Epoch 5: saving model to model_init_2023-02-0720_24_17.938535\\model-00005-0.73879-0.71192-0.85707-0.53000.h5\n",
      "83/83 [==============================] - 125s 2s/step - loss: 0.7388 - categorical_accuracy: 0.7119 - val_loss: 0.8571 - val_categorical_accuracy: 0.5300 - lr: 0.0010\n",
      "Epoch 6/20\n",
      "83/83 [==============================] - ETA: 0s - loss: 0.6912 - categorical_accuracy: 0.7315\n",
      "Epoch 6: saving model to model_init_2023-02-0720_24_17.938535\\model-00006-0.69118-0.73152-0.70635-0.72000.h5\n",
      "83/83 [==============================] - 124s 2s/step - loss: 0.6912 - categorical_accuracy: 0.7315 - val_loss: 0.7064 - val_categorical_accuracy: 0.7200 - lr: 0.0010\n",
      "Epoch 7/20\n",
      "83/83 [==============================] - ETA: 0s - loss: 0.6981 - categorical_accuracy: 0.7195\n",
      "Epoch 7: saving model to model_init_2023-02-0720_24_17.938535\\model-00007-0.69809-0.71946-0.78643-0.65000.h5\n",
      "83/83 [==============================] - 124s 2s/step - loss: 0.6981 - categorical_accuracy: 0.7195 - val_loss: 0.7864 - val_categorical_accuracy: 0.6500 - lr: 0.0010\n",
      "Epoch 8/20\n",
      "83/83 [==============================] - ETA: 0s - loss: 0.6028 - categorical_accuracy: 0.7828\n",
      "Epoch 8: saving model to model_init_2023-02-0720_24_17.938535\\model-00008-0.60280-0.78281-0.90687-0.53000.h5\n",
      "83/83 [==============================] - 124s 2s/step - loss: 0.6028 - categorical_accuracy: 0.7828 - val_loss: 0.9069 - val_categorical_accuracy: 0.5300 - lr: 0.0010\n",
      "Epoch 9/20\n",
      "83/83 [==============================] - ETA: 0s - loss: 0.4682 - categorical_accuracy: 0.8265\n",
      "Epoch 9: ReduceLROnPlateau reducing learning rate to 0.0005000000237487257.\n",
      "\n",
      "Epoch 9: saving model to model_init_2023-02-0720_24_17.938535\\model-00009-0.46825-0.82655-0.94418-0.65000.h5\n",
      "83/83 [==============================] - 123s 2s/step - loss: 0.4682 - categorical_accuracy: 0.8265 - val_loss: 0.9442 - val_categorical_accuracy: 0.6500 - lr: 0.0010\n",
      "Epoch 10/20\n",
      "83/83 [==============================] - ETA: 0s - loss: 0.3710 - categorical_accuracy: 0.8703\n",
      "Epoch 10: saving model to model_init_2023-02-0720_24_17.938535\\model-00010-0.37097-0.87029-0.94601-0.64000.h5\n",
      "83/83 [==============================] - 124s 2s/step - loss: 0.3710 - categorical_accuracy: 0.8703 - val_loss: 0.9460 - val_categorical_accuracy: 0.6400 - lr: 5.0000e-04\n",
      "Epoch 11/20\n",
      "83/83 [==============================] - ETA: 0s - loss: 0.3426 - categorical_accuracy: 0.8748\n",
      "Epoch 11: saving model to model_init_2023-02-0720_24_17.938535\\model-00011-0.34260-0.87481-0.82522-0.69000.h5\n",
      "83/83 [==============================] - 124s 2s/step - loss: 0.3426 - categorical_accuracy: 0.8748 - val_loss: 0.8252 - val_categorical_accuracy: 0.6900 - lr: 5.0000e-04\n",
      "Epoch 12/20\n",
      "83/83 [==============================] - ETA: 0s - loss: 0.2914 - categorical_accuracy: 0.8899\n",
      "Epoch 12: ReduceLROnPlateau reducing learning rate to 0.0002500000118743628.\n",
      "\n",
      "Epoch 12: saving model to model_init_2023-02-0720_24_17.938535\\model-00012-0.29140-0.88989-0.97834-0.71000.h5\n",
      "83/83 [==============================] - 124s 2s/step - loss: 0.2914 - categorical_accuracy: 0.8899 - val_loss: 0.9783 - val_categorical_accuracy: 0.7100 - lr: 5.0000e-04\n",
      "Epoch 13/20\n",
      "83/83 [==============================] - ETA: 0s - loss: 0.2495 - categorical_accuracy: 0.9170\n",
      "Epoch 13: saving model to model_init_2023-02-0720_24_17.938535\\model-00013-0.24947-0.91704-0.86651-0.66000.h5\n",
      "83/83 [==============================] - 123s 2s/step - loss: 0.2495 - categorical_accuracy: 0.9170 - val_loss: 0.8665 - val_categorical_accuracy: 0.6600 - lr: 2.5000e-04\n",
      "Epoch 14/20\n",
      "83/83 [==============================] - ETA: 0s - loss: 0.2127 - categorical_accuracy: 0.9321\n",
      "Epoch 14: saving model to model_init_2023-02-0720_24_17.938535\\model-00014-0.21270-0.93213-1.05276-0.62000.h5\n",
      "83/83 [==============================] - 124s 2s/step - loss: 0.2127 - categorical_accuracy: 0.9321 - val_loss: 1.0528 - val_categorical_accuracy: 0.6200 - lr: 2.5000e-04\n",
      "Epoch 15/20\n",
      "83/83 [==============================] - ETA: 0s - loss: 0.2076 - categorical_accuracy: 0.9216\n",
      "Epoch 15: ReduceLROnPlateau reducing learning rate to 0.0001250000059371814.\n",
      "\n",
      "Epoch 15: saving model to model_init_2023-02-0720_24_17.938535\\model-00015-0.20764-0.92157-0.88528-0.63000.h5\n",
      "83/83 [==============================] - 123s 2s/step - loss: 0.2076 - categorical_accuracy: 0.9216 - val_loss: 0.8853 - val_categorical_accuracy: 0.6300 - lr: 2.5000e-04\n",
      "Epoch 16/20\n",
      "83/83 [==============================] - ETA: 0s - loss: 0.2106 - categorical_accuracy: 0.9351\n",
      "Epoch 16: saving model to model_init_2023-02-0720_24_17.938535\\model-00016-0.21061-0.93514-0.89656-0.70000.h5\n",
      "83/83 [==============================] - 124s 2s/step - loss: 0.2106 - categorical_accuracy: 0.9351 - val_loss: 0.8966 - val_categorical_accuracy: 0.7000 - lr: 1.2500e-04\n",
      "Epoch 17/20\n",
      "83/83 [==============================] - ETA: 0s - loss: 0.1767 - categorical_accuracy: 0.9472\n",
      "Epoch 17: saving model to model_init_2023-02-0720_24_17.938535\\model-00017-0.17672-0.94721-0.86599-0.69000.h5\n",
      "83/83 [==============================] - 124s 2s/step - loss: 0.1767 - categorical_accuracy: 0.9472 - val_loss: 0.8660 - val_categorical_accuracy: 0.6900 - lr: 1.2500e-04\n",
      "Epoch 18/20\n",
      "83/83 [==============================] - ETA: 0s - loss: 0.1585 - categorical_accuracy: 0.9563\n",
      "Epoch 18: saving model to model_init_2023-02-0720_24_17.938535\\model-00018-0.15850-0.95626-0.64981-0.70000.h5\n",
      "83/83 [==============================] - 124s 2s/step - loss: 0.1585 - categorical_accuracy: 0.9563 - val_loss: 0.6498 - val_categorical_accuracy: 0.7000 - lr: 1.2500e-04\n",
      "Epoch 19/20\n",
      "83/83 [==============================] - ETA: 0s - loss: 0.1665 - categorical_accuracy: 0.9548\n",
      "Epoch 19: saving model to model_init_2023-02-0720_24_17.938535\\model-00019-0.16651-0.95475-0.91224-0.70000.h5\n",
      "83/83 [==============================] - 124s 2s/step - loss: 0.1665 - categorical_accuracy: 0.9548 - val_loss: 0.9122 - val_categorical_accuracy: 0.7000 - lr: 1.2500e-04\n",
      "Epoch 20/20\n",
      "83/83 [==============================] - ETA: 0s - loss: 0.1545 - categorical_accuracy: 0.9608\n",
      "Epoch 20: saving model to model_init_2023-02-0720_24_17.938535\\model-00020-0.15453-0.96078-0.91532-0.68000.h5\n",
      "83/83 [==============================] - 125s 2s/step - loss: 0.1545 - categorical_accuracy: 0.9608 - val_loss: 0.9153 - val_categorical_accuracy: 0.6800 - lr: 1.2500e-04\n",
      "Time Taken to Train this model was :  0:41:26.690478\n"
     ]
    }
   ],
   "source": [
    "batch_size=8\n",
    "trainmodel(model_Inception_2,batch_size)"
   ]
  },
  {
   "cell_type": "code",
   "execution_count": 87,
   "metadata": {},
   "outputs": [],
   "source": [
    "model_Inception_2.save(\"model_Inception_2.h5\")"
   ]
  },
  {
   "cell_type": "markdown",
   "metadata": {},
   "source": [
    "### Using VGG19"
   ]
  },
  {
   "cell_type": "code",
   "execution_count": 88,
   "metadata": {},
   "outputs": [],
   "source": [
    "from keras.applications.vgg19 import VGG19"
   ]
  },
  {
   "cell_type": "markdown",
   "metadata": {},
   "source": [
    "## Model 11 VGG19"
   ]
  },
  {
   "cell_type": "code",
   "execution_count": 89,
   "metadata": {},
   "outputs": [
    {
     "name": "stdout",
     "output_type": "stream",
     "text": [
      "Downloading data from https://storage.googleapis.com/tensorflow/keras-applications/vgg19/vgg19_weights_tf_dim_ordering_tf_kernels_notop.h5\n",
      "80134624/80134624 [==============================] - 5s 0us/step\n"
     ]
    }
   ],
   "source": [
    "VGG19_model = VGG19(weights='imagenet', include_top=False)\n",
    "# We do not want to lose the learning obtained form the Pre-Trained model so we will freeze all but\n",
    "# 10 layers\n",
    "for layer in VGG19_model.layers[:-10]:\n",
    "        layer.trainable = False"
   ]
  },
  {
   "cell_type": "code",
   "execution_count": 90,
   "metadata": {},
   "outputs": [],
   "source": [
    "# Model Architecture\n",
    "## Added GlobalAveragePooling3D and a dense layer of 1024 neurons followed by a dropout of 0.5\n",
    "model_vgg19 = Sequential()\n",
    "model_vgg19.add(TimeDistributed(VGG19_model,input_shape=(30,120,120,3)))\n",
    "model_vgg19.add(GlobalAveragePooling3D())\n",
    "model_vgg19.add(Dense(1024, activation='relu'))\n",
    "model_vgg19.add(Dropout(0.5))\n",
    "model_vgg19.add(Dense(5, activation='softmax'))\n"
   ]
  },
  {
   "cell_type": "code",
   "execution_count": 91,
   "metadata": {},
   "outputs": [
    {
     "name": "stdout",
     "output_type": "stream",
     "text": [
      "Model: \"sequential_25\"\n",
      "_________________________________________________________________\n",
      " Layer (type)                Output Shape              Param #   \n",
      "=================================================================\n",
      " time_distributed_30 (TimeDi  (None, 30, 3, 3, 512)    20024384  \n",
      " stributed)                                                      \n",
      "                                                                 \n",
      " global_average_pooling3d_3   (None, 512)              0         \n",
      " (GlobalAveragePooling3D)                                        \n",
      "                                                                 \n",
      " dense_18 (Dense)            (None, 1024)              525312    \n",
      "                                                                 \n",
      " dropout_18 (Dropout)        (None, 1024)              0         \n",
      "                                                                 \n",
      " dense_19 (Dense)            (None, 5)                 5125      \n",
      "                                                                 \n",
      "=================================================================\n",
      "Total params: 20,554,821\n",
      "Trainable params: 18,229,253\n",
      "Non-trainable params: 2,325,568\n",
      "_________________________________________________________________\n",
      "None\n"
     ]
    }
   ],
   "source": [
    "# Compiling the model using Adam as optimizer\n",
    "model_vgg19.compile(optimizer=optimizers.Adam(), loss='categorical_crossentropy', metrics=['categorical_accuracy'])\n",
    "print (model_vgg19.summary())"
   ]
  },
  {
   "cell_type": "code",
   "execution_count": 92,
   "metadata": {},
   "outputs": [
    {
     "name": "stdout",
     "output_type": "stream",
     "text": [
      "_________________\n",
      "Batch Size is : 8\n",
      "\n",
      "Source path =  datasets/Project_data/train ; batch size = 8\n",
      "Epoch 1/20\n",
      "83/83 [==============================] - ETA: 0s - loss: 2.9117 - categorical_accuracy: 0.1946\n",
      "Source path =  datasets/Project_data/val ; batch size = 8\n",
      "\n",
      "Epoch 1: saving model to model_init_2023-02-0720_24_17.938535\\model-00001-2.91170-0.19457-1.60858-0.20000.h5\n",
      "83/83 [==============================] - 135s 2s/step - loss: 2.9117 - categorical_accuracy: 0.1946 - val_loss: 1.6086 - val_categorical_accuracy: 0.2000 - lr: 0.0010\n",
      "Epoch 2/20\n",
      "83/83 [==============================] - ETA: 0s - loss: 1.6115 - categorical_accuracy: 0.1885\n",
      "Epoch 2: saving model to model_init_2023-02-0720_24_17.938535\\model-00002-1.61147-0.18854-1.60683-0.23000.h5\n",
      "83/83 [==============================] - 125s 2s/step - loss: 1.6115 - categorical_accuracy: 0.1885 - val_loss: 1.6068 - val_categorical_accuracy: 0.2300 - lr: 0.0010\n",
      "Epoch 3/20\n",
      "83/83 [==============================] - ETA: 0s - loss: 1.6108 - categorical_accuracy: 0.1931\n",
      "Epoch 3: saving model to model_init_2023-02-0720_24_17.938535\\model-00003-1.61082-0.19306-1.60953-0.13000.h5\n",
      "83/83 [==============================] - 125s 2s/step - loss: 1.6108 - categorical_accuracy: 0.1931 - val_loss: 1.6095 - val_categorical_accuracy: 0.1300 - lr: 0.0010\n",
      "Epoch 4/20\n",
      "83/83 [==============================] - ETA: 0s - loss: 1.6096 - categorical_accuracy: 0.1900\n",
      "Epoch 4: saving model to model_init_2023-02-0720_24_17.938535\\model-00004-1.60958-0.19005-1.60674-0.18000.h5\n",
      "83/83 [==============================] - 124s 2s/step - loss: 1.6096 - categorical_accuracy: 0.1900 - val_loss: 1.6067 - val_categorical_accuracy: 0.1800 - lr: 0.0010\n",
      "Epoch 5/20\n",
      "83/83 [==============================] - ETA: 0s - loss: 1.6096 - categorical_accuracy: 0.1916\n",
      "Epoch 5: ReduceLROnPlateau reducing learning rate to 0.0005000000237487257.\n",
      "\n",
      "Epoch 5: saving model to model_init_2023-02-0720_24_17.938535\\model-00005-1.60960-0.19155-1.61104-0.19000.h5\n",
      "83/83 [==============================] - 125s 2s/step - loss: 1.6096 - categorical_accuracy: 0.1916 - val_loss: 1.6110 - val_categorical_accuracy: 0.1900 - lr: 0.0010\n",
      "Epoch 6/20\n",
      "83/83 [==============================] - ETA: 0s - loss: 1.6081 - categorical_accuracy: 0.2142\n",
      "Epoch 6: saving model to model_init_2023-02-0720_24_17.938535\\model-00006-1.60811-0.21418-1.60497-0.24000.h5\n",
      "83/83 [==============================] - 125s 2s/step - loss: 1.6081 - categorical_accuracy: 0.2142 - val_loss: 1.6050 - val_categorical_accuracy: 0.2400 - lr: 5.0000e-04\n",
      "Epoch 7/20\n",
      "83/83 [==============================] - ETA: 0s - loss: 1.6092 - categorical_accuracy: 0.2021\n",
      "Epoch 7: saving model to model_init_2023-02-0720_24_17.938535\\model-00007-1.60917-0.20211-1.60322-0.23000.h5\n",
      "83/83 [==============================] - 125s 2s/step - loss: 1.6092 - categorical_accuracy: 0.2021 - val_loss: 1.6032 - val_categorical_accuracy: 0.2300 - lr: 5.0000e-04\n",
      "Epoch 8/20\n",
      "83/83 [==============================] - ETA: 0s - loss: 1.6094 - categorical_accuracy: 0.2051\n",
      "Epoch 8: saving model to model_init_2023-02-0720_24_17.938535\\model-00008-1.60940-0.20513-1.60824-0.21000.h5\n",
      "83/83 [==============================] - 125s 2s/step - loss: 1.6094 - categorical_accuracy: 0.2051 - val_loss: 1.6082 - val_categorical_accuracy: 0.2100 - lr: 5.0000e-04\n",
      "Epoch 9/20\n",
      "83/83 [==============================] - ETA: 0s - loss: 1.6089 - categorical_accuracy: 0.2006\n",
      "Epoch 9: saving model to model_init_2023-02-0720_24_17.938535\\model-00009-1.60887-0.20060-1.60996-0.19000.h5\n",
      "83/83 [==============================] - 125s 2s/step - loss: 1.6089 - categorical_accuracy: 0.2006 - val_loss: 1.6100 - val_categorical_accuracy: 0.1900 - lr: 5.0000e-04\n",
      "Epoch 10/20\n",
      "83/83 [==============================] - ETA: 0s - loss: 1.6095 - categorical_accuracy: 0.1885\n",
      "Epoch 10: ReduceLROnPlateau reducing learning rate to 0.0002500000118743628.\n",
      "\n",
      "Epoch 10: saving model to model_init_2023-02-0720_24_17.938535\\model-00010-1.60949-0.18854-1.60576-0.23000.h5\n",
      "83/83 [==============================] - 126s 2s/step - loss: 1.6095 - categorical_accuracy: 0.1885 - val_loss: 1.6058 - val_categorical_accuracy: 0.2300 - lr: 5.0000e-04\n",
      "Epoch 11/20\n",
      "83/83 [==============================] - ETA: 0s - loss: 1.6089 - categorical_accuracy: 0.2142\n",
      "Epoch 11: saving model to model_init_2023-02-0720_24_17.938535\\model-00011-1.60894-0.21418-1.60657-0.26000.h5\n",
      "83/83 [==============================] - 126s 2s/step - loss: 1.6089 - categorical_accuracy: 0.2142 - val_loss: 1.6066 - val_categorical_accuracy: 0.2600 - lr: 2.5000e-04\n",
      "Epoch 12/20\n",
      "83/83 [==============================] - ETA: 0s - loss: 1.6090 - categorical_accuracy: 0.2202\n",
      "Epoch 12: saving model to model_init_2023-02-0720_24_17.938535\\model-00012-1.60900-0.22021-1.60528-0.23000.h5\n",
      "83/83 [==============================] - 126s 2s/step - loss: 1.6090 - categorical_accuracy: 0.2202 - val_loss: 1.6053 - val_categorical_accuracy: 0.2300 - lr: 2.5000e-04\n",
      "Epoch 13/20\n",
      "83/83 [==============================] - ETA: 0s - loss: 1.6097 - categorical_accuracy: 0.1916\n",
      "Epoch 13: ReduceLROnPlateau reducing learning rate to 0.0001250000059371814.\n",
      "\n",
      "Epoch 13: saving model to model_init_2023-02-0720_24_17.938535\\model-00013-1.60970-0.19155-1.60690-0.24000.h5\n",
      "83/83 [==============================] - 124s 2s/step - loss: 1.6097 - categorical_accuracy: 0.1916 - val_loss: 1.6069 - val_categorical_accuracy: 0.2400 - lr: 2.5000e-04\n",
      "Epoch 14/20\n",
      "83/83 [==============================] - ETA: 0s - loss: 1.6083 - categorical_accuracy: 0.1976\n",
      "Epoch 14: saving model to model_init_2023-02-0720_24_17.938535\\model-00014-1.60828-0.19759-1.60817-0.24000.h5\n",
      "83/83 [==============================] - 125s 2s/step - loss: 1.6083 - categorical_accuracy: 0.1976 - val_loss: 1.6082 - val_categorical_accuracy: 0.2400 - lr: 1.2500e-04\n",
      "Epoch 15/20\n",
      "83/83 [==============================] - ETA: 0s - loss: 1.6081 - categorical_accuracy: 0.2157\n",
      "Epoch 15: saving model to model_init_2023-02-0720_24_17.938535\\model-00015-1.60814-0.21569-1.60827-0.22000.h5\n",
      "83/83 [==============================] - 126s 2s/step - loss: 1.6081 - categorical_accuracy: 0.2157 - val_loss: 1.6083 - val_categorical_accuracy: 0.2200 - lr: 1.2500e-04\n",
      "Epoch 16/20\n",
      "83/83 [==============================] - ETA: 0s - loss: 1.6094 - categorical_accuracy: 0.1961\n",
      "Epoch 16: ReduceLROnPlateau reducing learning rate to 6.25000029685907e-05.\n",
      "\n",
      "Epoch 16: saving model to model_init_2023-02-0720_24_17.938535\\model-00016-1.60935-0.19608-1.60591-0.25000.h5\n",
      "83/83 [==============================] - 125s 2s/step - loss: 1.6094 - categorical_accuracy: 0.1961 - val_loss: 1.6059 - val_categorical_accuracy: 0.2500 - lr: 1.2500e-04\n",
      "Epoch 17/20\n",
      "83/83 [==============================] - ETA: 0s - loss: 1.6082 - categorical_accuracy: 0.2293\n",
      "Epoch 17: saving model to model_init_2023-02-0720_24_17.938535\\model-00017-1.60817-0.22926-1.60749-0.16000.h5\n",
      "83/83 [==============================] - 127s 2s/step - loss: 1.6082 - categorical_accuracy: 0.2293 - val_loss: 1.6075 - val_categorical_accuracy: 0.1600 - lr: 6.2500e-05\n",
      "Epoch 18/20\n",
      "83/83 [==============================] - ETA: 0s - loss: 1.6085 - categorical_accuracy: 0.2232\n",
      "Epoch 18: saving model to model_init_2023-02-0720_24_17.938535\\model-00018-1.60851-0.22323-1.60679-0.26000.h5\n",
      "83/83 [==============================] - 126s 2s/step - loss: 1.6085 - categorical_accuracy: 0.2232 - val_loss: 1.6068 - val_categorical_accuracy: 0.2600 - lr: 6.2500e-05\n",
      "Epoch 19/20\n",
      "83/83 [==============================] - ETA: 0s - loss: 1.6093 - categorical_accuracy: 0.1810\n",
      "Epoch 19: ReduceLROnPlateau reducing learning rate to 3.125000148429535e-05.\n",
      "\n",
      "Epoch 19: saving model to model_init_2023-02-0720_24_17.938535\\model-00019-1.60932-0.18100-1.60656-0.21000.h5\n",
      "83/83 [==============================] - 125s 2s/step - loss: 1.6093 - categorical_accuracy: 0.1810 - val_loss: 1.6066 - val_categorical_accuracy: 0.2100 - lr: 6.2500e-05\n",
      "Epoch 20/20\n",
      "83/83 [==============================] - ETA: 0s - loss: 1.6083 - categorical_accuracy: 0.2247\n",
      "Epoch 20: saving model to model_init_2023-02-0720_24_17.938535\\model-00020-1.60833-0.22474-1.60613-0.21000.h5\n",
      "83/83 [==============================] - 125s 2s/step - loss: 1.6083 - categorical_accuracy: 0.2247 - val_loss: 1.6061 - val_categorical_accuracy: 0.2100 - lr: 3.1250e-05\n"
     ]
    },
    {
     "name": "stdout",
     "output_type": "stream",
     "text": [
      "Time Taken to Train this model was :  0:41:53.345990\n"
     ]
    }
   ],
   "source": [
    "batch_size=8\n",
    "trainmodel(model_vgg19,batch_size)"
   ]
  },
  {
   "cell_type": "code",
   "execution_count": 94,
   "metadata": {},
   "outputs": [],
   "source": [
    "model_vgg19.save(\"model_VGG19.h5\")"
   ]
  },
  {
   "cell_type": "markdown",
   "metadata": {},
   "source": [
    "#### Experimenting with lesser trainable layers from the pretrained VGG19 model "
   ]
  },
  {
   "cell_type": "code",
   "execution_count": 96,
   "metadata": {},
   "outputs": [],
   "source": [
    "VGG19_model = VGG19(weights='imagenet', include_top=False)\n",
    "\n",
    "# Experimenting with the same model as above but with only 5 layer as trainable\n",
    "for layer in VGG19_model.layers[:-5]:\n",
    "        layer.trainable = False"
   ]
  },
  {
   "cell_type": "markdown",
   "metadata": {},
   "source": [
    "## Model 12 VGG19 -2"
   ]
  },
  {
   "cell_type": "code",
   "execution_count": 97,
   "metadata": {},
   "outputs": [],
   "source": [
    "# Model Architecture\n",
    "## Added GlobalAveragePooling3D and a dense layer of 1024 neurons followed by a dropout of 0.5\n",
    "model_vgg19_2 = Sequential()\n",
    "model_vgg19_2.add(TimeDistributed(VGG19_model,input_shape=(30,120,120,3)))\n",
    "model_vgg19_2.add(GlobalAveragePooling3D())\n",
    "model_vgg19_2.add(Dense(1024, activation='relu'))\n",
    "model_vgg19_2.add(Dropout(0.5))\n",
    "model_vgg19_2.add(Dense(5, activation='softmax'))"
   ]
  },
  {
   "cell_type": "code",
   "execution_count": 98,
   "metadata": {},
   "outputs": [
    {
     "name": "stdout",
     "output_type": "stream",
     "text": [
      "Model: \"sequential_26\"\n",
      "_________________________________________________________________\n",
      " Layer (type)                Output Shape              Param #   \n",
      "=================================================================\n",
      " time_distributed_31 (TimeDi  (None, 30, 3, 3, 512)    20024384  \n",
      " stributed)                                                      \n",
      "                                                                 \n",
      " global_average_pooling3d_4   (None, 512)              0         \n",
      " (GlobalAveragePooling3D)                                        \n",
      "                                                                 \n",
      " dense_20 (Dense)            (None, 1024)              525312    \n",
      "                                                                 \n",
      " dropout_19 (Dropout)        (None, 1024)              0         \n",
      "                                                                 \n",
      " dense_21 (Dense)            (None, 5)                 5125      \n",
      "                                                                 \n",
      "=================================================================\n",
      "Total params: 20,554,821\n",
      "Trainable params: 9,969,669\n",
      "Non-trainable params: 10,585,152\n",
      "_________________________________________________________________\n",
      "None\n"
     ]
    }
   ],
   "source": [
    "# Compiling the model using Adam as optimizer\n",
    "model_vgg19_2.compile(optimizer=optimizers.Adam(), loss='categorical_crossentropy', metrics=['categorical_accuracy'])\n",
    "print (model_vgg19_2.summary())"
   ]
  },
  {
   "cell_type": "code",
   "execution_count": 99,
   "metadata": {},
   "outputs": [
    {
     "name": "stdout",
     "output_type": "stream",
     "text": [
      "_________________\n",
      "Batch Size is : 8\n",
      "\n",
      "Source path =  datasets/Project_data/train ; batch size = 8\n",
      "Epoch 1/20\n",
      "83/83 [==============================] - ETA: 0s - loss: 1.6821 - categorical_accuracy: 0.1840\n",
      "Source path =  datasets/Project_data/val ; batch size = 8\n",
      "\n",
      "Epoch 1: saving model to model_init_2023-02-0720_24_17.938535\\model-00001-1.68210-0.18401-1.60603-0.23000.h5\n",
      "83/83 [==============================] - 125s 2s/step - loss: 1.6821 - categorical_accuracy: 0.1840 - val_loss: 1.6060 - val_categorical_accuracy: 0.2300 - lr: 0.0010\n",
      "Epoch 2/20\n",
      "83/83 [==============================] - ETA: 0s - loss: 1.6100 - categorical_accuracy: 0.2051\n",
      "Epoch 2: saving model to model_init_2023-02-0720_24_17.938535\\model-00002-1.60995-0.20513-1.60511-0.25000.h5\n",
      "83/83 [==============================] - 124s 2s/step - loss: 1.6100 - categorical_accuracy: 0.2051 - val_loss: 1.6051 - val_categorical_accuracy: 0.2500 - lr: 0.0010\n",
      "Epoch 3/20\n",
      "83/83 [==============================] - ETA: 0s - loss: 1.6101 - categorical_accuracy: 0.1976\n",
      "Epoch 3: saving model to model_init_2023-02-0720_24_17.938535\\model-00003-1.61011-0.19759-1.60493-0.23000.h5\n",
      "83/83 [==============================] - 126s 2s/step - loss: 1.6101 - categorical_accuracy: 0.1976 - val_loss: 1.6049 - val_categorical_accuracy: 0.2300 - lr: 0.0010\n",
      "Epoch 4/20\n",
      "83/83 [==============================] - ETA: 0s - loss: 1.6095 - categorical_accuracy: 0.2051\n",
      "Epoch 4: saving model to model_init_2023-02-0720_24_17.938535\\model-00004-1.60950-0.20513-1.60854-0.23000.h5\n",
      "83/83 [==============================] - 125s 2s/step - loss: 1.6095 - categorical_accuracy: 0.2051 - val_loss: 1.6085 - val_categorical_accuracy: 0.2300 - lr: 0.0010\n",
      "Epoch 5/20\n",
      "83/83 [==============================] - ETA: 0s - loss: 1.6097 - categorical_accuracy: 0.1976\n",
      "Epoch 5: saving model to model_init_2023-02-0720_24_17.938535\\model-00005-1.60968-0.19759-1.60979-0.19000.h5\n",
      "83/83 [==============================] - 125s 2s/step - loss: 1.6097 - categorical_accuracy: 0.1976 - val_loss: 1.6098 - val_categorical_accuracy: 0.1900 - lr: 0.0010\n",
      "Epoch 6/20\n",
      "83/83 [==============================] - ETA: 0s - loss: 1.6091 - categorical_accuracy: 0.2021\n",
      "Epoch 6: saving model to model_init_2023-02-0720_24_17.938535\\model-00006-1.60909-0.20211-1.60406-0.20000.h5\n",
      "83/83 [==============================] - 126s 2s/step - loss: 1.6091 - categorical_accuracy: 0.2021 - val_loss: 1.6041 - val_categorical_accuracy: 0.2000 - lr: 0.0010\n",
      "Epoch 7/20\n",
      "83/83 [==============================] - ETA: 0s - loss: 1.6095 - categorical_accuracy: 0.2006\n",
      "Epoch 7: saving model to model_init_2023-02-0720_24_17.938535\\model-00007-1.60946-0.20060-1.60720-0.21000.h5\n",
      "83/83 [==============================] - 125s 2s/step - loss: 1.6095 - categorical_accuracy: 0.2006 - val_loss: 1.6072 - val_categorical_accuracy: 0.2100 - lr: 0.0010\n",
      "Epoch 8/20\n",
      "83/83 [==============================] - ETA: 0s - loss: 1.6095 - categorical_accuracy: 0.2066\n",
      "Epoch 8: saving model to model_init_2023-02-0720_24_17.938535\\model-00008-1.60948-0.20664-1.60753-0.22000.h5\n",
      "83/83 [==============================] - 125s 2s/step - loss: 1.6095 - categorical_accuracy: 0.2066 - val_loss: 1.6075 - val_categorical_accuracy: 0.2200 - lr: 0.0010\n",
      "Epoch 9/20\n",
      "83/83 [==============================] - ETA: 0s - loss: 1.6082 - categorical_accuracy: 0.2066\n",
      "Epoch 9: saving model to model_init_2023-02-0720_24_17.938535\\model-00009-1.60824-0.20664-1.60050-0.24000.h5\n",
      "83/83 [==============================] - 126s 2s/step - loss: 1.6082 - categorical_accuracy: 0.2066 - val_loss: 1.6005 - val_categorical_accuracy: 0.2400 - lr: 0.0010\n",
      "Epoch 10/20\n",
      "83/83 [==============================] - ETA: 0s - loss: 1.6099 - categorical_accuracy: 0.1976\n",
      "Epoch 10: saving model to model_init_2023-02-0720_24_17.938535\\model-00010-1.60988-0.19759-1.60659-0.27000.h5\n",
      "83/83 [==============================] - 125s 2s/step - loss: 1.6099 - categorical_accuracy: 0.1976 - val_loss: 1.6066 - val_categorical_accuracy: 0.2700 - lr: 0.0010\n",
      "Epoch 11/20\n",
      "83/83 [==============================] - ETA: 0s - loss: 1.6094 - categorical_accuracy: 0.1840\n",
      "Epoch 11: saving model to model_init_2023-02-0720_24_17.938535\\model-00011-1.60942-0.18401-1.60774-0.25000.h5\n",
      "83/83 [==============================] - 125s 2s/step - loss: 1.6094 - categorical_accuracy: 0.1840 - val_loss: 1.6077 - val_categorical_accuracy: 0.2500 - lr: 0.0010\n",
      "Epoch 12/20\n",
      "83/83 [==============================] - ETA: 0s - loss: 1.6088 - categorical_accuracy: 0.2006\n",
      "Epoch 12: ReduceLROnPlateau reducing learning rate to 0.0005000000237487257.\n",
      "\n",
      "Epoch 12: saving model to model_init_2023-02-0720_24_17.938535\\model-00012-1.60881-0.20060-1.60935-0.18000.h5\n",
      "83/83 [==============================] - 125s 2s/step - loss: 1.6088 - categorical_accuracy: 0.2006 - val_loss: 1.6094 - val_categorical_accuracy: 0.1800 - lr: 0.0010\n",
      "Epoch 13/20\n",
      "83/83 [==============================] - ETA: 0s - loss: 1.6075 - categorical_accuracy: 0.2202\n",
      "Epoch 13: saving model to model_init_2023-02-0720_24_17.938535\\model-00013-1.60750-0.22021-1.60584-0.21000.h5\n",
      "83/83 [==============================] - 125s 2s/step - loss: 1.6075 - categorical_accuracy: 0.2202 - val_loss: 1.6058 - val_categorical_accuracy: 0.2100 - lr: 5.0000e-04\n",
      "Epoch 14/20\n",
      "83/83 [==============================] - ETA: 0s - loss: 1.6085 - categorical_accuracy: 0.1870\n",
      "Epoch 14: saving model to model_init_2023-02-0720_24_17.938535\\model-00014-1.60854-0.18703-1.60836-0.21000.h5\n",
      "83/83 [==============================] - 125s 2s/step - loss: 1.6085 - categorical_accuracy: 0.1870 - val_loss: 1.6084 - val_categorical_accuracy: 0.2100 - lr: 5.0000e-04\n",
      "Epoch 15/20\n",
      "83/83 [==============================] - ETA: 0s - loss: 1.6087 - categorical_accuracy: 0.2006\n",
      "Epoch 15: ReduceLROnPlateau reducing learning rate to 0.0002500000118743628.\n",
      "\n",
      "Epoch 15: saving model to model_init_2023-02-0720_24_17.938535\\model-00015-1.60875-0.20060-1.60359-0.26000.h5\n",
      "83/83 [==============================] - 126s 2s/step - loss: 1.6087 - categorical_accuracy: 0.2006 - val_loss: 1.6036 - val_categorical_accuracy: 0.2600 - lr: 5.0000e-04\n",
      "Epoch 16/20\n",
      "83/83 [==============================] - ETA: 0s - loss: 1.6098 - categorical_accuracy: 0.2006\n",
      "Epoch 16: saving model to model_init_2023-02-0720_24_17.938535\\model-00016-1.60984-0.20060-1.60995-0.21000.h5\n",
      "83/83 [==============================] - 125s 2s/step - loss: 1.6098 - categorical_accuracy: 0.2006 - val_loss: 1.6099 - val_categorical_accuracy: 0.2100 - lr: 2.5000e-04\n",
      "Epoch 17/20\n",
      "83/83 [==============================] - ETA: 0s - loss: 1.6086 - categorical_accuracy: 0.2021\n",
      "Epoch 17: saving model to model_init_2023-02-0720_24_17.938535\\model-00017-1.60862-0.20211-1.60595-0.25000.h5\n",
      "83/83 [==============================] - 126s 2s/step - loss: 1.6086 - categorical_accuracy: 0.2021 - val_loss: 1.6059 - val_categorical_accuracy: 0.2500 - lr: 2.5000e-04\n",
      "Epoch 18/20\n",
      "83/83 [==============================] - ETA: 0s - loss: 1.6092 - categorical_accuracy: 0.1870\n",
      "Epoch 18: ReduceLROnPlateau reducing learning rate to 0.0001250000059371814.\n",
      "\n",
      "Epoch 18: saving model to model_init_2023-02-0720_24_17.938535\\model-00018-1.60917-0.18703-1.60939-0.24000.h5\n",
      "83/83 [==============================] - 126s 2s/step - loss: 1.6092 - categorical_accuracy: 0.1870 - val_loss: 1.6094 - val_categorical_accuracy: 0.2400 - lr: 2.5000e-04\n",
      "Epoch 19/20\n",
      "83/83 [==============================] - ETA: 0s - loss: 1.6090 - categorical_accuracy: 0.1961\n",
      "Epoch 19: saving model to model_init_2023-02-0720_24_17.938535\\model-00019-1.60899-0.19608-1.60534-0.22000.h5\n",
      "83/83 [==============================] - 126s 2s/step - loss: 1.6090 - categorical_accuracy: 0.1961 - val_loss: 1.6053 - val_categorical_accuracy: 0.2200 - lr: 1.2500e-04\n",
      "Epoch 20/20\n",
      "83/83 [==============================] - ETA: 0s - loss: 1.6101 - categorical_accuracy: 0.2051\n",
      "Epoch 20: saving model to model_init_2023-02-0720_24_17.938535\\model-00020-1.61013-0.20513-1.60970-0.15000.h5\n",
      "83/83 [==============================] - 125s 2s/step - loss: 1.6101 - categorical_accuracy: 0.2051 - val_loss: 1.6097 - val_categorical_accuracy: 0.1500 - lr: 1.2500e-04\n",
      "Time Taken to Train this model was :  0:41:46.871528\n"
     ]
    }
   ],
   "source": [
    "batch_size=8\n",
    "trainmodel(model_vgg19_2,batch_size)"
   ]
  },
  {
   "cell_type": "code",
   "execution_count": 100,
   "metadata": {},
   "outputs": [],
   "source": [
    "model_vgg19_2.save(\"model_vgg19_2.h5\")"
   ]
  },
  {
   "cell_type": "markdown",
   "metadata": {},
   "source": [
    "### Batch Size Experiments\n",
    "#### Experimenting with reduced batch size for all models above that gave a validation accuracy of >60%"
   ]
  },
  {
   "cell_type": "markdown",
   "metadata": {},
   "source": [
    "##### We will keep all parameters and architecture same as the original models used for experiment and reduce the batch size to half of what was originally used to test for difference in Accuracy"
   ]
  },
  {
   "cell_type": "markdown",
   "metadata": {},
   "source": [
    "###### Batch size experiment with model_cnn_2\n"
   ]
  },
  {
   "cell_type": "code",
   "execution_count": 4,
   "metadata": {},
   "outputs": [],
   "source": [
    "# Using the model_cnn_2 architecture with batch size of 4 because we used 8 in the original model"
   ]
  },
  {
   "cell_type": "code",
   "execution_count": 86,
   "metadata": {},
   "outputs": [],
   "source": [
    "# Model Architecture - Same as model_cnn_2\n",
    "#Initial Filter of (3,3,3) and maxpooling with constant pool size of (3,3,3)"
   ]
  },
  {
   "cell_type": "markdown",
   "metadata": {},
   "source": [
    "## Model 13 "
   ]
  },
  {
   "cell_type": "code",
   "execution_count": 87,
   "metadata": {},
   "outputs": [],
   "source": [
    "# Model Architecture for model_cnn_3\n",
    "Input_shape = (len(img_idx), imgdim, imgdim, 3)\n",
    "\n",
    "model_cnn_3 = Sequential()\n",
    "model_cnn_3.add(Conv3D(16, (3,3,3),input_shape=Input_shape,padding=\"same\"))\n",
    "model_cnn_3.add(BatchNormalization())\n",
    "model_cnn_3.add(Activation('relu'))\n",
    "model_cnn_3.add(MaxPooling3D(pool_size=(3,3,3)))\n",
    "\n",
    "model_cnn_3.add(Conv3D(32,(3,3,3),padding='same'))\n",
    "model_cnn_3.add(BatchNormalization())\n",
    "model_cnn_3.add(Activation('relu'))\n",
    "model_cnn_3.add(MaxPooling3D(pool_size=(3,3,3)))\n",
    "model_cnn_3.add(layers.Dropout(0.25))\n",
    "\n",
    "model_cnn_3.add(Conv3D(64,(3,3,3),padding='same'))\n",
    "model_cnn_3.add(BatchNormalization())\n",
    "model_cnn_3.add(Activation('relu'))\n",
    "model_cnn_3.add(MaxPooling3D(pool_size=(3,3,3)))\n",
    "\n",
    "\n",
    "model_cnn_3.add(Flatten())\n",
    "model_cnn_3.add(Dense(512, activation='relu'))\n",
    "model_cnn_3.add(layers.Dropout(0.5))\n",
    "\n",
    "model_cnn_3.add(Dense(5,activation='softmax'))"
   ]
  },
  {
   "cell_type": "code",
   "execution_count": 88,
   "metadata": {
    "execution": {
     "iopub.execute_input": "2021-10-26T06:20:07.757837Z",
     "iopub.status.busy": "2021-10-26T06:20:07.757588Z",
     "iopub.status.idle": "2021-10-26T06:20:07.929675Z",
     "shell.execute_reply": "2021-10-26T06:20:07.929025Z",
     "shell.execute_reply.started": "2021-10-26T06:20:07.757808Z"
    }
   },
   "outputs": [
    {
     "name": "stdout",
     "output_type": "stream",
     "text": [
      "Model: \"sequential_5\"\n",
      "_________________________________________________________________\n",
      " Layer (type)                Output Shape              Param #   \n",
      "=================================================================\n",
      " conv3d_3 (Conv3D)           (None, 30, 120, 120, 16)  1312      \n",
      "                                                                 \n",
      " batch_normalization_199 (Ba  (None, 30, 120, 120, 16)  64       \n",
      " tchNormalization)                                               \n",
      "                                                                 \n",
      " activation_191 (Activation)  (None, 30, 120, 120, 16)  0        \n",
      "                                                                 \n",
      " max_pooling3d_3 (MaxPooling  (None, 10, 40, 40, 16)   0         \n",
      " 3D)                                                             \n",
      "                                                                 \n",
      " conv3d_4 (Conv3D)           (None, 10, 40, 40, 32)    13856     \n",
      "                                                                 \n",
      " batch_normalization_200 (Ba  (None, 10, 40, 40, 32)   128       \n",
      " tchNormalization)                                               \n",
      "                                                                 \n",
      " activation_192 (Activation)  (None, 10, 40, 40, 32)   0         \n",
      "                                                                 \n",
      " max_pooling3d_4 (MaxPooling  (None, 3, 13, 13, 32)    0         \n",
      " 3D)                                                             \n",
      "                                                                 \n",
      " dropout_16 (Dropout)        (None, 3, 13, 13, 32)     0         \n",
      "                                                                 \n",
      " conv3d_5 (Conv3D)           (None, 3, 13, 13, 64)     55360     \n",
      "                                                                 \n",
      " batch_normalization_201 (Ba  (None, 3, 13, 13, 64)    256       \n",
      " tchNormalization)                                               \n",
      "                                                                 \n",
      " activation_193 (Activation)  (None, 3, 13, 13, 64)    0         \n",
      "                                                                 \n",
      " max_pooling3d_5 (MaxPooling  (None, 1, 4, 4, 64)      0         \n",
      " 3D)                                                             \n",
      "                                                                 \n",
      " flatten_3 (Flatten)         (None, 1024)              0         \n",
      "                                                                 \n",
      " dense_8 (Dense)             (None, 512)               524800    \n",
      "                                                                 \n",
      " dropout_17 (Dropout)        (None, 512)               0         \n",
      "                                                                 \n",
      " dense_9 (Dense)             (None, 5)                 2565      \n",
      "                                                                 \n",
      "=================================================================\n",
      "Total params: 598,341\n",
      "Trainable params: 598,117\n",
      "Non-trainable params: 224\n",
      "_________________________________________________________________\n",
      "None\n"
     ]
    }
   ],
   "source": [
    "# Compiling the model using Adam as optimizer\n",
    "model_cnn_3.compile(optimizer=optimizers.Adam(), loss='categorical_crossentropy', metrics=['categorical_accuracy'])\n",
    "print (model_cnn_3.summary())"
   ]
  },
  {
   "cell_type": "code",
   "execution_count": 89,
   "metadata": {},
   "outputs": [
    {
     "name": "stdout",
     "output_type": "stream",
     "text": [
      "_________________\n",
      "Batch Size is : 4\n",
      "\n",
      "Source path =  datasets/Project_data/train ; batch size = 4\n",
      "Epoch 1/20\n",
      "166/166 [==============================] - ETA: 0s - loss: 2.9354 - categorical_accuracy: 0.2489\n",
      "Source path =  datasets/Project_data/val ; batch size = 4\n",
      "\n",
      "Epoch 1: saving model to model_init_2023-02-0906_58_43.961462\\model-00001-2.93538-0.24887-2.21123-0.21000.h5\n",
      "166/166 [==============================] - 121s 730ms/step - loss: 2.9354 - categorical_accuracy: 0.2489 - val_loss: 2.2112 - val_categorical_accuracy: 0.2100 - lr: 0.0010\n",
      "Epoch 2/20\n",
      "166/166 [==============================] - ETA: 0s - loss: 1.4077 - categorical_accuracy: 0.3982\n",
      "Epoch 2: saving model to model_init_2023-02-0906_58_43.961462\\model-00002-1.40769-0.39819-1.82684-0.24000.h5\n",
      "166/166 [==============================] - 120s 726ms/step - loss: 1.4077 - categorical_accuracy: 0.3982 - val_loss: 1.8268 - val_categorical_accuracy: 0.2400 - lr: 0.0010\n",
      "Epoch 3/20\n",
      "166/166 [==============================] - ETA: 0s - loss: 1.2729 - categorical_accuracy: 0.4600\n",
      "Epoch 3: saving model to model_init_2023-02-0906_58_43.961462\\model-00003-1.27293-0.46003-2.05043-0.29000.h5\n",
      "166/166 [==============================] - 120s 726ms/step - loss: 1.2729 - categorical_accuracy: 0.4600 - val_loss: 2.0504 - val_categorical_accuracy: 0.2900 - lr: 0.0010\n",
      "Epoch 4/20\n",
      "166/166 [==============================] - ETA: 0s - loss: 1.1030 - categorical_accuracy: 0.5581\n",
      "Epoch 4: saving model to model_init_2023-02-0906_58_43.961462\\model-00004-1.10301-0.55807-0.93977-0.61000.h5\n",
      "166/166 [==============================] - 120s 727ms/step - loss: 1.1030 - categorical_accuracy: 0.5581 - val_loss: 0.9398 - val_categorical_accuracy: 0.6100 - lr: 0.0010\n",
      "Epoch 5/20\n",
      "166/166 [==============================] - ETA: 0s - loss: 0.9638 - categorical_accuracy: 0.6214\n",
      "Epoch 5: saving model to model_init_2023-02-0906_58_43.961462\\model-00005-0.96385-0.62142-0.81024-0.71000.h5\n",
      "166/166 [==============================] - 120s 726ms/step - loss: 0.9638 - categorical_accuracy: 0.6214 - val_loss: 0.8102 - val_categorical_accuracy: 0.7100 - lr: 0.0010\n",
      "Epoch 6/20\n",
      "166/166 [==============================] - ETA: 0s - loss: 0.7205 - categorical_accuracy: 0.7466\n",
      "Epoch 6: saving model to model_init_2023-02-0906_58_43.961462\\model-00006-0.72052-0.74661-1.06313-0.67000.h5\n",
      "166/166 [==============================] - 120s 727ms/step - loss: 0.7205 - categorical_accuracy: 0.7466 - val_loss: 1.0631 - val_categorical_accuracy: 0.6700 - lr: 0.0010\n",
      "Epoch 7/20\n",
      "166/166 [==============================] - ETA: 0s - loss: 0.6376 - categorical_accuracy: 0.7572\n",
      "Epoch 7: saving model to model_init_2023-02-0906_58_43.961462\\model-00007-0.63763-0.75716-1.56988-0.40000.h5\n",
      "166/166 [==============================] - 120s 723ms/step - loss: 0.6376 - categorical_accuracy: 0.7572 - val_loss: 1.5699 - val_categorical_accuracy: 0.4000 - lr: 0.0010\n",
      "Epoch 8/20\n",
      "166/166 [==============================] - ETA: 0s - loss: 0.5231 - categorical_accuracy: 0.8069\n",
      "Epoch 8: saving model to model_init_2023-02-0906_58_43.961462\\model-00008-0.52309-0.80694-0.64213-0.72000.h5\n",
      "166/166 [==============================] - 119s 722ms/step - loss: 0.5231 - categorical_accuracy: 0.8069 - val_loss: 0.6421 - val_categorical_accuracy: 0.7200 - lr: 0.0010\n",
      "Epoch 9/20\n",
      "166/166 [==============================] - ETA: 0s - loss: 0.4680 - categorical_accuracy: 0.8220\n",
      "Epoch 9: saving model to model_init_2023-02-0906_58_43.961462\\model-00009-0.46795-0.82202-1.06044-0.63000.h5\n",
      "166/166 [==============================] - 119s 722ms/step - loss: 0.4680 - categorical_accuracy: 0.8220 - val_loss: 1.0604 - val_categorical_accuracy: 0.6300 - lr: 0.0010\n",
      "Epoch 10/20\n",
      "166/166 [==============================] - ETA: 0s - loss: 0.3922 - categorical_accuracy: 0.8567\n",
      "Epoch 10: saving model to model_init_2023-02-0906_58_43.961462\\model-00010-0.39222-0.85671-0.47417-0.83000.h5\n",
      "166/166 [==============================] - 121s 731ms/step - loss: 0.3922 - categorical_accuracy: 0.8567 - val_loss: 0.4742 - val_categorical_accuracy: 0.8300 - lr: 0.0010\n",
      "Epoch 11/20\n",
      "166/166 [==============================] - ETA: 0s - loss: 0.3473 - categorical_accuracy: 0.8643\n",
      "Epoch 11: saving model to model_init_2023-02-0906_58_43.961462\\model-00011-0.34730-0.86425-0.72785-0.76000.h5\n",
      "166/166 [==============================] - 119s 721ms/step - loss: 0.3473 - categorical_accuracy: 0.8643 - val_loss: 0.7279 - val_categorical_accuracy: 0.7600 - lr: 0.0010\n",
      "Epoch 12/20\n",
      "166/166 [==============================] - ETA: 0s - loss: 0.4360 - categorical_accuracy: 0.8431\n",
      "Epoch 12: saving model to model_init_2023-02-0906_58_43.961462\\model-00012-0.43600-0.84314-0.77899-0.75000.h5\n",
      "166/166 [==============================] - 120s 727ms/step - loss: 0.4360 - categorical_accuracy: 0.8431 - val_loss: 0.7790 - val_categorical_accuracy: 0.7500 - lr: 0.0010\n",
      "Epoch 13/20\n",
      "166/166 [==============================] - ETA: 0s - loss: 0.3154 - categorical_accuracy: 0.8914\n",
      "Epoch 13: ReduceLROnPlateau reducing learning rate to 0.0005000000237487257.\n",
      "\n",
      "Epoch 13: saving model to model_init_2023-02-0906_58_43.961462\\model-00013-0.31541-0.89140-0.99961-0.74000.h5\n",
      "166/166 [==============================] - 120s 724ms/step - loss: 0.3154 - categorical_accuracy: 0.8914 - val_loss: 0.9996 - val_categorical_accuracy: 0.7400 - lr: 0.0010\n",
      "Epoch 14/20\n",
      "166/166 [==============================] - ETA: 0s - loss: 0.1888 - categorical_accuracy: 0.9291\n",
      "Epoch 14: saving model to model_init_2023-02-0906_58_43.961462\\model-00014-0.18883-0.92911-0.32273-0.91000.h5\n",
      "166/166 [==============================] - 119s 723ms/step - loss: 0.1888 - categorical_accuracy: 0.9291 - val_loss: 0.3227 - val_categorical_accuracy: 0.9100 - lr: 5.0000e-04\n",
      "Epoch 15/20\n",
      "166/166 [==============================] - ETA: 0s - loss: 0.1351 - categorical_accuracy: 0.9563\n",
      "Epoch 15: saving model to model_init_2023-02-0906_58_43.961462\\model-00015-0.13513-0.95626-0.36689-0.88000.h5\n",
      "166/166 [==============================] - 120s 726ms/step - loss: 0.1351 - categorical_accuracy: 0.9563 - val_loss: 0.3669 - val_categorical_accuracy: 0.8800 - lr: 5.0000e-04\n",
      "Epoch 16/20\n",
      "166/166 [==============================] - ETA: 0s - loss: 0.1763 - categorical_accuracy: 0.9397\n",
      "Epoch 16: saving model to model_init_2023-02-0906_58_43.961462\\model-00016-0.17635-0.93967-0.28011-0.92000.h5\n",
      "166/166 [==============================] - 120s 727ms/step - loss: 0.1763 - categorical_accuracy: 0.9397 - val_loss: 0.2801 - val_categorical_accuracy: 0.9200 - lr: 5.0000e-04\n",
      "Epoch 17/20\n",
      "166/166 [==============================] - ETA: 0s - loss: 0.1283 - categorical_accuracy: 0.9517\n",
      "Epoch 17: saving model to model_init_2023-02-0906_58_43.961462\\model-00017-0.12828-0.95173-0.34347-0.89000.h5\n",
      "166/166 [==============================] - 120s 724ms/step - loss: 0.1283 - categorical_accuracy: 0.9517 - val_loss: 0.3435 - val_categorical_accuracy: 0.8900 - lr: 5.0000e-04\n",
      "Epoch 18/20\n",
      "166/166 [==============================] - ETA: 0s - loss: 0.1111 - categorical_accuracy: 0.9608\n",
      "Epoch 18: saving model to model_init_2023-02-0906_58_43.961462\\model-00018-0.11114-0.96078-0.99978-0.80000.h5\n",
      "166/166 [==============================] - 120s 726ms/step - loss: 0.1111 - categorical_accuracy: 0.9608 - val_loss: 0.9998 - val_categorical_accuracy: 0.8000 - lr: 5.0000e-04\n",
      "Epoch 19/20\n",
      "166/166 [==============================] - ETA: 0s - loss: 0.1336 - categorical_accuracy: 0.9532\n",
      "Epoch 19: saving model to model_init_2023-02-0906_58_43.961462\\model-00019-0.13360-0.95324-0.20051-0.94000.h5\n",
      "166/166 [==============================] - 120s 724ms/step - loss: 0.1336 - categorical_accuracy: 0.9532 - val_loss: 0.2005 - val_categorical_accuracy: 0.9400 - lr: 5.0000e-04\n",
      "Epoch 20/20\n",
      "166/166 [==============================] - ETA: 0s - loss: 0.1683 - categorical_accuracy: 0.9382\n",
      "Epoch 20: saving model to model_init_2023-02-0906_58_43.961462\\model-00020-0.16828-0.93816-0.23085-0.92000.h5\n",
      "166/166 [==============================] - 119s 722ms/step - loss: 0.1683 - categorical_accuracy: 0.9382 - val_loss: 0.2309 - val_categorical_accuracy: 0.9200 - lr: 5.0000e-04\n",
      "Time Taken to Train this model was :  0:39:57.818460\n"
     ]
    }
   ],
   "source": [
    "batch_size=4\n",
    "trainmodel(model_cnn_3,batch_size)"
   ]
  },
  {
   "cell_type": "code",
   "execution_count": 90,
   "metadata": {},
   "outputs": [],
   "source": [
    "model_cnn_3.save(\"model_cnn_3.h5\")"
   ]
  },
  {
   "cell_type": "markdown",
   "metadata": {},
   "source": [
    "###### Batch size experiment with model_cnn_LSTM"
   ]
  },
  {
   "cell_type": "code",
   "execution_count": 7,
   "metadata": {},
   "outputs": [],
   "source": [
    "# Using the model_cnn_LSTM architecture with batch size of 4 because we used 8 in the \n",
    "# original model"
   ]
  },
  {
   "cell_type": "markdown",
   "metadata": {},
   "source": [
    "## Model 14\n"
   ]
  },
  {
   "cell_type": "code",
   "execution_count": 92,
   "metadata": {},
   "outputs": [],
   "source": [
    "# Model Architecture for model_cnn_LSTM_2\n",
    "Input_shape = (len(img_idx), imgdim, imgdim, 3)\n",
    "\n",
    "model_cnn_LSTM_2 = Sequential()\n",
    "\n",
    "model_cnn_LSTM_2.add(TimeDistributed(Conv2D(16, (3, 3) , padding='same', activation='relu'),input_shape=Input_shape))\n",
    "model_cnn_LSTM_2.add(TimeDistributed(BatchNormalization()))\n",
    "model_cnn_LSTM_2.add(TimeDistributed(MaxPooling2D((2, 2))))\n",
    "model_cnn_LSTM_2.add(Dropout(0.25))\n",
    "\n",
    "        \n",
    "model_cnn_LSTM_2.add(TimeDistributed(Conv2D(32, (3, 3) , padding='same', activation='relu')))\n",
    "model_cnn_LSTM_2.add(TimeDistributed(BatchNormalization()))\n",
    "model_cnn_LSTM_2.add(TimeDistributed(MaxPooling2D((2, 2))))\n",
    "model_cnn_LSTM_2.add(Dropout(0.25))\n",
    "        \n",
    "model_cnn_LSTM_2.add(TimeDistributed(Conv2D(64, (3, 3) , padding='same', activation='relu')))\n",
    "model_cnn_LSTM_2.add(TimeDistributed(BatchNormalization()))\n",
    "model_cnn_LSTM_2.add(TimeDistributed(MaxPooling2D((2, 2))))\n",
    "model_cnn_LSTM_2.add(Dropout(0.25))\n",
    "        \n",
    "model_cnn_LSTM_2.add(TimeDistributed(Conv2D(128, (3, 3) , padding='same', activation='relu')))\n",
    "model_cnn_LSTM_2.add(TimeDistributed(BatchNormalization()))\n",
    "model_cnn_LSTM_2.add(TimeDistributed(MaxPooling2D((2, 2))))\n",
    "model_cnn_LSTM_2.add(Dropout(0.25))\n",
    "          \n",
    "\n",
    "model_cnn_LSTM_2.add(TimeDistributed(Flatten()))\n",
    "model_cnn_LSTM_2.add(Dropout(0.25))\n",
    "\n",
    "model_cnn_LSTM_2.add(LSTM(1024))\n",
    "model_cnn_LSTM_2.add(Dropout(0.5))\n",
    "\n",
    "model_cnn_LSTM_2.add(Dense(5, activation='softmax'))"
   ]
  },
  {
   "cell_type": "code",
   "execution_count": 93,
   "metadata": {
    "execution": {
     "iopub.execute_input": "2021-10-26T06:20:07.757837Z",
     "iopub.status.busy": "2021-10-26T06:20:07.757588Z",
     "iopub.status.idle": "2021-10-26T06:20:07.929675Z",
     "shell.execute_reply": "2021-10-26T06:20:07.929025Z",
     "shell.execute_reply.started": "2021-10-26T06:20:07.757808Z"
    },
    "scrolled": false
   },
   "outputs": [
    {
     "name": "stdout",
     "output_type": "stream",
     "text": [
      "Model: \"sequential_6\"\n",
      "_________________________________________________________________\n",
      " Layer (type)                Output Shape              Param #   \n",
      "=================================================================\n",
      " time_distributed_28 (TimeDi  (None, 30, 120, 120, 16)  448      \n",
      " stributed)                                                      \n",
      "                                                                 \n",
      " time_distributed_29 (TimeDi  (None, 30, 120, 120, 16)  64       \n",
      " stributed)                                                      \n",
      "                                                                 \n",
      " time_distributed_30 (TimeDi  (None, 30, 60, 60, 16)   0         \n",
      " stributed)                                                      \n",
      "                                                                 \n",
      " dropout_18 (Dropout)        (None, 30, 60, 60, 16)    0         \n",
      "                                                                 \n",
      " time_distributed_31 (TimeDi  (None, 30, 60, 60, 32)   4640      \n",
      " stributed)                                                      \n",
      "                                                                 \n",
      " time_distributed_32 (TimeDi  (None, 30, 60, 60, 32)   128       \n",
      " stributed)                                                      \n",
      "                                                                 \n",
      " time_distributed_33 (TimeDi  (None, 30, 30, 30, 32)   0         \n",
      " stributed)                                                      \n",
      "                                                                 \n",
      " dropout_19 (Dropout)        (None, 30, 30, 30, 32)    0         \n",
      "                                                                 \n",
      " time_distributed_34 (TimeDi  (None, 30, 30, 30, 64)   18496     \n",
      " stributed)                                                      \n",
      "                                                                 \n",
      " time_distributed_35 (TimeDi  (None, 30, 30, 30, 64)   256       \n",
      " stributed)                                                      \n",
      "                                                                 \n",
      " time_distributed_36 (TimeDi  (None, 30, 15, 15, 64)   0         \n",
      " stributed)                                                      \n",
      "                                                                 \n",
      " dropout_20 (Dropout)        (None, 30, 15, 15, 64)    0         \n",
      "                                                                 \n",
      " time_distributed_37 (TimeDi  (None, 30, 15, 15, 128)  73856     \n",
      " stributed)                                                      \n",
      "                                                                 \n",
      " time_distributed_38 (TimeDi  (None, 30, 15, 15, 128)  512       \n",
      " stributed)                                                      \n",
      "                                                                 \n",
      " time_distributed_39 (TimeDi  (None, 30, 7, 7, 128)    0         \n",
      " stributed)                                                      \n",
      "                                                                 \n",
      " dropout_21 (Dropout)        (None, 30, 7, 7, 128)     0         \n",
      "                                                                 \n",
      " time_distributed_40 (TimeDi  (None, 30, 6272)         0         \n",
      " stributed)                                                      \n",
      "                                                                 \n",
      " dropout_22 (Dropout)        (None, 30, 6272)          0         \n",
      "                                                                 \n",
      " lstm_1 (LSTM)               (None, 1024)              29888512  \n",
      "                                                                 \n",
      " dropout_23 (Dropout)        (None, 1024)              0         \n",
      "                                                                 \n",
      " dense_10 (Dense)            (None, 5)                 5125      \n",
      "                                                                 \n",
      "=================================================================\n",
      "Total params: 29,992,037\n",
      "Trainable params: 29,991,557\n",
      "Non-trainable params: 480\n",
      "_________________________________________________________________\n",
      "None\n"
     ]
    }
   ],
   "source": [
    "# Compiling the model using Adam as optimizer\n",
    "model_cnn_LSTM_2.compile(optimizer=optimizers.Adam(), loss='categorical_crossentropy', metrics=['categorical_accuracy'])\n",
    "print (model_cnn_LSTM_2.summary())"
   ]
  },
  {
   "cell_type": "code",
   "execution_count": 94,
   "metadata": {},
   "outputs": [
    {
     "name": "stdout",
     "output_type": "stream",
     "text": [
      "_________________\n",
      "Batch Size is : 4\n",
      "\n",
      "Source path =  datasets/Project_data/train ; batch size = 4\n",
      "Epoch 1/20\n",
      "166/166 [==============================] - ETA: 0s - loss: 1.7162 - categorical_accuracy: 0.3288\n",
      "Source path =  datasets/Project_data/val ; batch size = 4\n",
      "\n",
      "Epoch 1: saving model to model_init_2023-02-0906_58_43.961462\\model-00001-1.71616-0.32881-3.04865-0.21000.h5\n",
      "166/166 [==============================] - 122s 730ms/step - loss: 1.7162 - categorical_accuracy: 0.3288 - val_loss: 3.0486 - val_categorical_accuracy: 0.2100 - lr: 0.0010\n",
      "Epoch 2/20\n",
      "166/166 [==============================] - ETA: 0s - loss: 1.2964 - categorical_accuracy: 0.5204\n",
      "Epoch 2: saving model to model_init_2023-02-0906_58_43.961462\\model-00002-1.29641-0.52036-3.26711-0.22000.h5\n",
      "166/166 [==============================] - 120s 727ms/step - loss: 1.2964 - categorical_accuracy: 0.5204 - val_loss: 3.2671 - val_categorical_accuracy: 0.2200 - lr: 0.0010\n",
      "Epoch 3/20\n",
      "166/166 [==============================] - ETA: 0s - loss: 1.1523 - categorical_accuracy: 0.5611\n",
      "Epoch 3: saving model to model_init_2023-02-0906_58_43.961462\\model-00003-1.15232-0.56109-3.11664-0.22000.h5\n",
      "166/166 [==============================] - 120s 728ms/step - loss: 1.1523 - categorical_accuracy: 0.5611 - val_loss: 3.1166 - val_categorical_accuracy: 0.2200 - lr: 0.0010\n",
      "Epoch 4/20\n",
      "166/166 [==============================] - ETA: 0s - loss: 1.0260 - categorical_accuracy: 0.6290\n",
      "Epoch 4: saving model to model_init_2023-02-0906_58_43.961462\\model-00004-1.02597-0.62896-1.24388-0.51000.h5\n",
      "166/166 [==============================] - 121s 731ms/step - loss: 1.0260 - categorical_accuracy: 0.6290 - val_loss: 1.2439 - val_categorical_accuracy: 0.5100 - lr: 0.0010\n",
      "Epoch 5/20\n",
      "166/166 [==============================] - ETA: 0s - loss: 1.0065 - categorical_accuracy: 0.6124\n",
      "Epoch 5: saving model to model_init_2023-02-0906_58_43.961462\\model-00005-1.00654-0.61237-1.02130-0.56000.h5\n",
      "166/166 [==============================] - 121s 733ms/step - loss: 1.0065 - categorical_accuracy: 0.6124 - val_loss: 1.0213 - val_categorical_accuracy: 0.5600 - lr: 0.0010\n",
      "Epoch 6/20\n",
      "166/166 [==============================] - ETA: 0s - loss: 0.8634 - categorical_accuracy: 0.6908\n",
      "Epoch 6: saving model to model_init_2023-02-0906_58_43.961462\\model-00006-0.86339-0.69080-1.25639-0.52000.h5\n",
      "166/166 [==============================] - 120s 727ms/step - loss: 0.8634 - categorical_accuracy: 0.6908 - val_loss: 1.2564 - val_categorical_accuracy: 0.5200 - lr: 0.0010\n",
      "Epoch 7/20\n",
      "166/166 [==============================] - ETA: 0s - loss: 0.8666 - categorical_accuracy: 0.6833\n",
      "Epoch 7: saving model to model_init_2023-02-0906_58_43.961462\\model-00007-0.86662-0.68326-1.04556-0.55000.h5\n",
      "166/166 [==============================] - 120s 727ms/step - loss: 0.8666 - categorical_accuracy: 0.6833 - val_loss: 1.0456 - val_categorical_accuracy: 0.5500 - lr: 0.0010\n",
      "Epoch 8/20\n",
      "166/166 [==============================] - ETA: 0s - loss: 0.6457 - categorical_accuracy: 0.7647\n",
      "Epoch 8: saving model to model_init_2023-02-0906_58_43.961462\\model-00008-0.64570-0.76471-0.87178-0.73000.h5\n",
      "166/166 [==============================] - 121s 729ms/step - loss: 0.6457 - categorical_accuracy: 0.7647 - val_loss: 0.8718 - val_categorical_accuracy: 0.7300 - lr: 0.0010\n",
      "Epoch 9/20\n",
      "166/166 [==============================] - ETA: 0s - loss: 0.6027 - categorical_accuracy: 0.7843\n",
      "Epoch 9: saving model to model_init_2023-02-0906_58_43.961462\\model-00009-0.60269-0.78431-1.23092-0.50000.h5\n",
      "166/166 [==============================] - 121s 735ms/step - loss: 0.6027 - categorical_accuracy: 0.7843 - val_loss: 1.2309 - val_categorical_accuracy: 0.5000 - lr: 0.0010\n",
      "Epoch 10/20\n",
      "166/166 [==============================] - ETA: 0s - loss: 0.5628 - categorical_accuracy: 0.7858\n",
      "Epoch 10: saving model to model_init_2023-02-0906_58_43.961462\\model-00010-0.56277-0.78582-0.45294-0.84000.h5\n",
      "166/166 [==============================] - 120s 728ms/step - loss: 0.5628 - categorical_accuracy: 0.7858 - val_loss: 0.4529 - val_categorical_accuracy: 0.8400 - lr: 0.0010\n",
      "Epoch 11/20\n",
      "166/166 [==============================] - ETA: 0s - loss: 0.5140 - categorical_accuracy: 0.8145\n",
      "Epoch 11: saving model to model_init_2023-02-0906_58_43.961462\\model-00011-0.51399-0.81448-0.78149-0.72000.h5\n",
      "166/166 [==============================] - 120s 727ms/step - loss: 0.5140 - categorical_accuracy: 0.8145 - val_loss: 0.7815 - val_categorical_accuracy: 0.7200 - lr: 0.0010\n",
      "Epoch 12/20\n",
      "166/166 [==============================] - ETA: 0s - loss: 0.4814 - categorical_accuracy: 0.8401\n",
      "Epoch 12: saving model to model_init_2023-02-0906_58_43.961462\\model-00012-0.48135-0.84012-0.62886-0.78000.h5\n",
      "166/166 [==============================] - 120s 728ms/step - loss: 0.4814 - categorical_accuracy: 0.8401 - val_loss: 0.6289 - val_categorical_accuracy: 0.7800 - lr: 0.0010\n",
      "Epoch 13/20\n",
      "166/166 [==============================] - ETA: 0s - loss: 0.3983 - categorical_accuracy: 0.8537\n",
      "Epoch 13: ReduceLROnPlateau reducing learning rate to 0.0005000000237487257.\n",
      "\n",
      "Epoch 13: saving model to model_init_2023-02-0906_58_43.961462\\model-00013-0.39832-0.85370-0.46320-0.87000.h5\n",
      "166/166 [==============================] - 121s 730ms/step - loss: 0.3983 - categorical_accuracy: 0.8537 - val_loss: 0.4632 - val_categorical_accuracy: 0.8700 - lr: 0.0010\n",
      "Epoch 14/20\n",
      "166/166 [==============================] - ETA: 0s - loss: 0.2816 - categorical_accuracy: 0.8974\n",
      "Epoch 14: saving model to model_init_2023-02-0906_58_43.961462\\model-00014-0.28157-0.89744-0.57993-0.78000.h5\n",
      "166/166 [==============================] - 120s 723ms/step - loss: 0.2816 - categorical_accuracy: 0.8974 - val_loss: 0.5799 - val_categorical_accuracy: 0.7800 - lr: 5.0000e-04\n",
      "Epoch 15/20\n",
      "166/166 [==============================] - ETA: 0s - loss: 0.2188 - categorical_accuracy: 0.9216\n",
      "Epoch 15: saving model to model_init_2023-02-0906_58_43.961462\\model-00015-0.21877-0.92157-0.98405-0.64000.h5\n",
      "166/166 [==============================] - 120s 728ms/step - loss: 0.2188 - categorical_accuracy: 0.9216 - val_loss: 0.9840 - val_categorical_accuracy: 0.6400 - lr: 5.0000e-04\n",
      "Epoch 16/20\n",
      "166/166 [==============================] - ETA: 0s - loss: 0.1672 - categorical_accuracy: 0.9382\n",
      "Epoch 16: saving model to model_init_2023-02-0906_58_43.961462\\model-00016-0.16722-0.93816-0.43959-0.87000.h5\n",
      "166/166 [==============================] - 120s 727ms/step - loss: 0.1672 - categorical_accuracy: 0.9382 - val_loss: 0.4396 - val_categorical_accuracy: 0.8700 - lr: 5.0000e-04\n",
      "Epoch 17/20\n",
      "166/166 [==============================] - ETA: 0s - loss: 0.1291 - categorical_accuracy: 0.9638\n",
      "Epoch 17: saving model to model_init_2023-02-0906_58_43.961462\\model-00017-0.12911-0.96380-0.48668-0.84000.h5\n",
      "166/166 [==============================] - 120s 726ms/step - loss: 0.1291 - categorical_accuracy: 0.9638 - val_loss: 0.4867 - val_categorical_accuracy: 0.8400 - lr: 5.0000e-04\n",
      "Epoch 18/20\n",
      "166/166 [==============================] - ETA: 0s - loss: 0.1111 - categorical_accuracy: 0.9729\n",
      "Epoch 18: saving model to model_init_2023-02-0906_58_43.961462\\model-00018-0.11106-0.97285-0.46858-0.84000.h5\n",
      "166/166 [==============================] - 120s 725ms/step - loss: 0.1111 - categorical_accuracy: 0.9729 - val_loss: 0.4686 - val_categorical_accuracy: 0.8400 - lr: 5.0000e-04\n",
      "Epoch 19/20\n",
      "166/166 [==============================] - ETA: 0s - loss: 0.1030 - categorical_accuracy: 0.9668\n",
      "Epoch 19: ReduceLROnPlateau reducing learning rate to 0.0002500000118743628.\n",
      "\n",
      "Epoch 19: saving model to model_init_2023-02-0906_58_43.961462\\model-00019-0.10302-0.96682-0.61862-0.79000.h5\n",
      "166/166 [==============================] - 120s 728ms/step - loss: 0.1030 - categorical_accuracy: 0.9668 - val_loss: 0.6186 - val_categorical_accuracy: 0.7900 - lr: 5.0000e-04\n",
      "Epoch 20/20\n",
      "166/166 [==============================] - ETA: 0s - loss: 0.0815 - categorical_accuracy: 0.9804\n",
      "Epoch 20: saving model to model_init_2023-02-0906_58_43.961462\\model-00020-0.08150-0.98039-0.41036-0.88000.h5\n",
      "166/166 [==============================] - 121s 730ms/step - loss: 0.0815 - categorical_accuracy: 0.9804 - val_loss: 0.4104 - val_categorical_accuracy: 0.8800 - lr: 2.5000e-04\n",
      "Time Taken to Train this model was :  0:40:09.751458\n"
     ]
    }
   ],
   "source": [
    "batch_size=4\n",
    "trainmodel(model_cnn_LSTM_2,batch_size)"
   ]
  },
  {
   "cell_type": "code",
   "execution_count": 95,
   "metadata": {},
   "outputs": [],
   "source": [
    "model_cnn_LSTM_2.save(\"model_cnn_LSTM_2.h5\")"
   ]
  },
  {
   "cell_type": "markdown",
   "metadata": {},
   "source": [
    "###### Batch size experiment with model_cnn_GRU"
   ]
  },
  {
   "cell_type": "code",
   "execution_count": 8,
   "metadata": {},
   "outputs": [],
   "source": [
    "# Using the model_cnn_GRU architecture with batch size of 4 because we used 8 in the \n",
    "# original model\n"
   ]
  },
  {
   "cell_type": "markdown",
   "metadata": {},
   "source": [
    "## Model 15"
   ]
  },
  {
   "cell_type": "code",
   "execution_count": 97,
   "metadata": {},
   "outputs": [],
   "source": [
    "# Model Architecture for model_cnn_GRU_2\n",
    "Input_shape = (len(img_idx), imgdim, imgdim, 3)\n",
    "\n",
    "model_cnn_GRU_2 = Sequential()\n",
    "\n",
    "model_cnn_GRU_2.add(TimeDistributed(Conv2D(16, (3, 3) , padding='same', activation='relu'),input_shape=Input_shape))\n",
    "model_cnn_GRU_2.add(TimeDistributed(BatchNormalization()))\n",
    "model_cnn_GRU_2.add(TimeDistributed(MaxPooling2D((2, 2))))\n",
    "model_cnn_GRU_2.add(Dropout(0.25))\n",
    "\n",
    "        \n",
    "model_cnn_GRU_2.add(TimeDistributed(Conv2D(32, (3, 3) , padding='same', activation='relu')))\n",
    "model_cnn_GRU_2.add(TimeDistributed(BatchNormalization()))\n",
    "model_cnn_GRU_2.add(TimeDistributed(MaxPooling2D((2, 2))))\n",
    "model_cnn_GRU_2.add(Dropout(0.25))\n",
    "        \n",
    "model_cnn_GRU_2.add(TimeDistributed(Conv2D(64, (3, 3) , padding='same', activation='relu')))\n",
    "model_cnn_GRU_2.add(TimeDistributed(BatchNormalization()))\n",
    "model_cnn_GRU_2.add(TimeDistributed(MaxPooling2D((2, 2))))\n",
    "model_cnn_GRU_2.add(Dropout(0.25))\n",
    "        \n",
    "model_cnn_GRU_2.add(TimeDistributed(Conv2D(128, (3, 3) , padding='same', activation='relu')))\n",
    "model_cnn_GRU_2.add(TimeDistributed(BatchNormalization()))\n",
    "model_cnn_GRU_2.add(TimeDistributed(MaxPooling2D((2, 2))))\n",
    "model_cnn_GRU_2.add(Dropout(0.25))\n",
    "          \n",
    "\n",
    "model_cnn_GRU_2.add(TimeDistributed(Flatten()))\n",
    "model_cnn_GRU_2.add(Dropout(0.25))\n",
    "\n",
    "model_cnn_GRU_2.add(GRU(1024))\n",
    "model_cnn_GRU_2.add(Dropout(0.5))\n",
    "\n",
    "\n",
    "model_cnn_GRU_2.add(Dense(5, activation='softmax'))"
   ]
  },
  {
   "cell_type": "code",
   "execution_count": 98,
   "metadata": {
    "execution": {
     "iopub.execute_input": "2021-10-26T06:20:07.757837Z",
     "iopub.status.busy": "2021-10-26T06:20:07.757588Z",
     "iopub.status.idle": "2021-10-26T06:20:07.929675Z",
     "shell.execute_reply": "2021-10-26T06:20:07.929025Z",
     "shell.execute_reply.started": "2021-10-26T06:20:07.757808Z"
    },
    "scrolled": false
   },
   "outputs": [
    {
     "name": "stdout",
     "output_type": "stream",
     "text": [
      "Model: \"sequential_7\"\n",
      "_________________________________________________________________\n",
      " Layer (type)                Output Shape              Param #   \n",
      "=================================================================\n",
      " time_distributed_41 (TimeDi  (None, 30, 120, 120, 16)  448      \n",
      " stributed)                                                      \n",
      "                                                                 \n",
      " time_distributed_42 (TimeDi  (None, 30, 120, 120, 16)  64       \n",
      " stributed)                                                      \n",
      "                                                                 \n",
      " time_distributed_43 (TimeDi  (None, 30, 60, 60, 16)   0         \n",
      " stributed)                                                      \n",
      "                                                                 \n",
      " dropout_24 (Dropout)        (None, 30, 60, 60, 16)    0         \n",
      "                                                                 \n",
      " time_distributed_44 (TimeDi  (None, 30, 60, 60, 32)   4640      \n",
      " stributed)                                                      \n",
      "                                                                 \n",
      " time_distributed_45 (TimeDi  (None, 30, 60, 60, 32)   128       \n",
      " stributed)                                                      \n",
      "                                                                 \n",
      " time_distributed_46 (TimeDi  (None, 30, 30, 30, 32)   0         \n",
      " stributed)                                                      \n",
      "                                                                 \n",
      " dropout_25 (Dropout)        (None, 30, 30, 30, 32)    0         \n",
      "                                                                 \n",
      " time_distributed_47 (TimeDi  (None, 30, 30, 30, 64)   18496     \n",
      " stributed)                                                      \n",
      "                                                                 \n",
      " time_distributed_48 (TimeDi  (None, 30, 30, 30, 64)   256       \n",
      " stributed)                                                      \n",
      "                                                                 \n",
      " time_distributed_49 (TimeDi  (None, 30, 15, 15, 64)   0         \n",
      " stributed)                                                      \n",
      "                                                                 \n",
      " dropout_26 (Dropout)        (None, 30, 15, 15, 64)    0         \n",
      "                                                                 \n",
      " time_distributed_50 (TimeDi  (None, 30, 15, 15, 128)  73856     \n",
      " stributed)                                                      \n",
      "                                                                 \n",
      " time_distributed_51 (TimeDi  (None, 30, 15, 15, 128)  512       \n",
      " stributed)                                                      \n",
      "                                                                 \n",
      " time_distributed_52 (TimeDi  (None, 30, 7, 7, 128)    0         \n",
      " stributed)                                                      \n",
      "                                                                 \n",
      " dropout_27 (Dropout)        (None, 30, 7, 7, 128)     0         \n",
      "                                                                 \n",
      " time_distributed_53 (TimeDi  (None, 30, 6272)         0         \n",
      " stributed)                                                      \n",
      "                                                                 \n",
      " dropout_28 (Dropout)        (None, 30, 6272)          0         \n",
      "                                                                 \n",
      " gru_1 (GRU)                 (None, 1024)              22419456  \n",
      "                                                                 \n",
      " dropout_29 (Dropout)        (None, 1024)              0         \n",
      "                                                                 \n",
      " dense_11 (Dense)            (None, 5)                 5125      \n",
      "                                                                 \n",
      "=================================================================\n",
      "Total params: 22,522,981\n",
      "Trainable params: 22,522,501\n",
      "Non-trainable params: 480\n",
      "_________________________________________________________________\n",
      "None\n"
     ]
    }
   ],
   "source": [
    "# Compiling the model using Adam as optimizer\n",
    "model_cnn_GRU_2.compile(optimizer=optimizers.Adam(), loss='categorical_crossentropy', metrics=['categorical_accuracy'])\n",
    "print (model_cnn_GRU_2.summary())"
   ]
  },
  {
   "cell_type": "code",
   "execution_count": 99,
   "metadata": {},
   "outputs": [
    {
     "name": "stdout",
     "output_type": "stream",
     "text": [
      "_________________\n",
      "Batch Size is : 4\n",
      "\n",
      "Source path =  datasets/Project_data/train ; batch size = 4\n",
      "Epoch 1/20\n",
      "166/166 [==============================] - ETA: 0s - loss: 2.5652 - categorical_accuracy: 0.2202\n",
      "Source path =  datasets/Project_data/val ; batch size = 4\n",
      "\n",
      "Epoch 1: saving model to model_init_2023-02-0906_58_43.961462\\model-00001-2.56520-0.22021-2.32625-0.19000.h5\n",
      "166/166 [==============================] - 122s 732ms/step - loss: 2.5652 - categorical_accuracy: 0.2202 - val_loss: 2.3263 - val_categorical_accuracy: 0.1900 - lr: 0.0010\n",
      "Epoch 2/20\n",
      "166/166 [==============================] - ETA: 0s - loss: 1.6787 - categorical_accuracy: 0.3876\n",
      "Epoch 2: saving model to model_init_2023-02-0906_58_43.961462\\model-00002-1.67869-0.38763-5.06315-0.21000.h5\n",
      "166/166 [==============================] - 121s 730ms/step - loss: 1.6787 - categorical_accuracy: 0.3876 - val_loss: 5.0632 - val_categorical_accuracy: 0.2100 - lr: 0.0010\n",
      "Epoch 3/20\n",
      "166/166 [==============================] - ETA: 0s - loss: 1.5301 - categorical_accuracy: 0.4419\n",
      "Epoch 3: saving model to model_init_2023-02-0906_58_43.961462\\model-00003-1.53012-0.44193-1.61995-0.41000.h5\n",
      "166/166 [==============================] - 121s 733ms/step - loss: 1.5301 - categorical_accuracy: 0.4419 - val_loss: 1.6200 - val_categorical_accuracy: 0.4100 - lr: 0.0010\n",
      "Epoch 4/20\n",
      "166/166 [==============================] - ETA: 0s - loss: 1.3476 - categorical_accuracy: 0.5023\n",
      "Epoch 4: saving model to model_init_2023-02-0906_58_43.961462\\model-00004-1.34757-0.50226-2.00348-0.35000.h5\n",
      "166/166 [==============================] - 121s 730ms/step - loss: 1.3476 - categorical_accuracy: 0.5023 - val_loss: 2.0035 - val_categorical_accuracy: 0.3500 - lr: 0.0010\n",
      "Epoch 5/20\n",
      "166/166 [==============================] - ETA: 0s - loss: 1.1132 - categorical_accuracy: 0.6154\n",
      "Epoch 5: saving model to model_init_2023-02-0906_58_43.961462\\model-00005-1.11324-0.61538-0.86695-0.75000.h5\n",
      "166/166 [==============================] - 120s 727ms/step - loss: 1.1132 - categorical_accuracy: 0.6154 - val_loss: 0.8670 - val_categorical_accuracy: 0.7500 - lr: 0.0010\n",
      "Epoch 6/20\n",
      "166/166 [==============================] - ETA: 0s - loss: 0.9066 - categorical_accuracy: 0.6546\n",
      "Epoch 6: saving model to model_init_2023-02-0906_58_43.961462\\model-00006-0.90658-0.65460-0.68141-0.74000.h5\n",
      "166/166 [==============================] - 120s 726ms/step - loss: 0.9066 - categorical_accuracy: 0.6546 - val_loss: 0.6814 - val_categorical_accuracy: 0.7400 - lr: 0.0010\n",
      "Epoch 7/20\n",
      "166/166 [==============================] - ETA: 0s - loss: 0.8475 - categorical_accuracy: 0.6923\n",
      "Epoch 7: saving model to model_init_2023-02-0906_58_43.961462\\model-00007-0.84749-0.69231-0.70761-0.77000.h5\n",
      "166/166 [==============================] - 121s 733ms/step - loss: 0.8475 - categorical_accuracy: 0.6923 - val_loss: 0.7076 - val_categorical_accuracy: 0.7700 - lr: 0.0010\n",
      "Epoch 8/20\n",
      "166/166 [==============================] - ETA: 0s - loss: 0.7149 - categorical_accuracy: 0.7511\n",
      "Epoch 8: saving model to model_init_2023-02-0906_58_43.961462\\model-00008-0.71494-0.75113-2.15445-0.32000.h5\n",
      "166/166 [==============================] - 121s 731ms/step - loss: 0.7149 - categorical_accuracy: 0.7511 - val_loss: 2.1544 - val_categorical_accuracy: 0.3200 - lr: 0.0010\n",
      "Epoch 9/20\n",
      "166/166 [==============================] - ETA: 0s - loss: 0.6797 - categorical_accuracy: 0.7451\n",
      "Epoch 9: saving model to model_init_2023-02-0906_58_43.961462\\model-00009-0.67967-0.74510-0.60618-0.80000.h5\n",
      "166/166 [==============================] - 121s 731ms/step - loss: 0.6797 - categorical_accuracy: 0.7451 - val_loss: 0.6062 - val_categorical_accuracy: 0.8000 - lr: 0.0010\n",
      "Epoch 10/20\n",
      "166/166 [==============================] - ETA: 0s - loss: 0.6278 - categorical_accuracy: 0.7677\n",
      "Epoch 10: saving model to model_init_2023-02-0906_58_43.961462\\model-00010-0.62778-0.76772-1.12115-0.63000.h5\n",
      "166/166 [==============================] - 121s 734ms/step - loss: 0.6278 - categorical_accuracy: 0.7677 - val_loss: 1.1211 - val_categorical_accuracy: 0.6300 - lr: 0.0010\n",
      "Epoch 11/20\n",
      "166/166 [==============================] - ETA: 0s - loss: 0.6690 - categorical_accuracy: 0.7632\n",
      "Epoch 11: saving model to model_init_2023-02-0906_58_43.961462\\model-00011-0.66897-0.76320-0.80023-0.73000.h5\n",
      "166/166 [==============================] - 121s 728ms/step - loss: 0.6690 - categorical_accuracy: 0.7632 - val_loss: 0.8002 - val_categorical_accuracy: 0.7300 - lr: 0.0010\n",
      "Epoch 12/20\n",
      "166/166 [==============================] - ETA: 0s - loss: 0.5782 - categorical_accuracy: 0.7813\n",
      "Epoch 12: ReduceLROnPlateau reducing learning rate to 0.0005000000237487257.\n",
      "\n",
      "Epoch 12: saving model to model_init_2023-02-0906_58_43.961462\\model-00012-0.57817-0.78130-0.73172-0.71000.h5\n",
      "166/166 [==============================] - 121s 730ms/step - loss: 0.5782 - categorical_accuracy: 0.7813 - val_loss: 0.7317 - val_categorical_accuracy: 0.7100 - lr: 0.0010\n",
      "Epoch 13/20\n",
      "166/166 [==============================] - ETA: 0s - loss: 0.4361 - categorical_accuracy: 0.8371\n",
      "Epoch 13: saving model to model_init_2023-02-0906_58_43.961462\\model-00013-0.43606-0.83710-0.52733-0.79000.h5\n",
      "166/166 [==============================] - 122s 739ms/step - loss: 0.4361 - categorical_accuracy: 0.8371 - val_loss: 0.5273 - val_categorical_accuracy: 0.7900 - lr: 5.0000e-04\n",
      "Epoch 14/20\n",
      "166/166 [==============================] - ETA: 0s - loss: 0.3107 - categorical_accuracy: 0.8703\n",
      "Epoch 14: saving model to model_init_2023-02-0906_58_43.961462\\model-00014-0.31066-0.87029-0.42960-0.85000.h5\n",
      "166/166 [==============================] - 122s 740ms/step - loss: 0.3107 - categorical_accuracy: 0.8703 - val_loss: 0.4296 - val_categorical_accuracy: 0.8500 - lr: 5.0000e-04\n",
      "Epoch 15/20\n",
      "166/166 [==============================] - ETA: 0s - loss: 0.2723 - categorical_accuracy: 0.9020\n",
      "Epoch 15: saving model to model_init_2023-02-0906_58_43.961462\\model-00015-0.27229-0.90196-0.48953-0.84000.h5\n",
      "166/166 [==============================] - 125s 758ms/step - loss: 0.2723 - categorical_accuracy: 0.9020 - val_loss: 0.4895 - val_categorical_accuracy: 0.8400 - lr: 5.0000e-04\n",
      "Epoch 16/20\n",
      "166/166 [==============================] - ETA: 0s - loss: 0.2455 - categorical_accuracy: 0.9140\n",
      "Epoch 16: saving model to model_init_2023-02-0906_58_43.961462\\model-00016-0.24553-0.91403-0.60197-0.72000.h5\n",
      "166/166 [==============================] - 123s 746ms/step - loss: 0.2455 - categorical_accuracy: 0.9140 - val_loss: 0.6020 - val_categorical_accuracy: 0.7200 - lr: 5.0000e-04\n",
      "Epoch 17/20\n",
      "166/166 [==============================] - ETA: 0s - loss: 0.2080 - categorical_accuracy: 0.9186\n",
      "Epoch 17: ReduceLROnPlateau reducing learning rate to 0.0002500000118743628.\n",
      "\n",
      "Epoch 17: saving model to model_init_2023-02-0906_58_43.961462\\model-00017-0.20804-0.91855-0.47233-0.81000.h5\n",
      "166/166 [==============================] - 124s 749ms/step - loss: 0.2080 - categorical_accuracy: 0.9186 - val_loss: 0.4723 - val_categorical_accuracy: 0.8100 - lr: 5.0000e-04\n",
      "Epoch 18/20\n",
      "166/166 [==============================] - ETA: 0s - loss: 0.1883 - categorical_accuracy: 0.9367\n",
      "Epoch 18: saving model to model_init_2023-02-0906_58_43.961462\\model-00018-0.18835-0.93665-0.47191-0.81000.h5\n",
      "166/166 [==============================] - 122s 741ms/step - loss: 0.1883 - categorical_accuracy: 0.9367 - val_loss: 0.4719 - val_categorical_accuracy: 0.8100 - lr: 2.5000e-04\n",
      "Epoch 19/20\n",
      "166/166 [==============================] - ETA: 0s - loss: 0.1458 - categorical_accuracy: 0.9517\n",
      "Epoch 19: saving model to model_init_2023-02-0906_58_43.961462\\model-00019-0.14584-0.95173-0.32001-0.86000.h5\n",
      "166/166 [==============================] - 122s 741ms/step - loss: 0.1458 - categorical_accuracy: 0.9517 - val_loss: 0.3200 - val_categorical_accuracy: 0.8600 - lr: 2.5000e-04\n",
      "Epoch 20/20\n",
      "166/166 [==============================] - ETA: 0s - loss: 0.1462 - categorical_accuracy: 0.9487\n",
      "Epoch 20: saving model to model_init_2023-02-0906_58_43.961462\\model-00020-0.14623-0.94872-0.37952-0.85000.h5\n",
      "166/166 [==============================] - 123s 742ms/step - loss: 0.1462 - categorical_accuracy: 0.9487 - val_loss: 0.3795 - val_categorical_accuracy: 0.8500 - lr: 2.5000e-04\n",
      "Time Taken to Train this model was :  0:40:35.469968\n"
     ]
    }
   ],
   "source": [
    "batch_size=4\n",
    "trainmodel(model_cnn_GRU_2,batch_size)"
   ]
  },
  {
   "cell_type": "code",
   "execution_count": 100,
   "metadata": {},
   "outputs": [],
   "source": [
    "model_cnn_GRU_2.save(\"model_cnn_GRU_2.h5\")"
   ]
  },
  {
   "cell_type": "markdown",
   "metadata": {},
   "source": [
    "### Experimenting with lesser trainable layers from the pretrained  model where we got the highest accuracy"
   ]
  },
  {
   "cell_type": "code",
   "execution_count": 101,
   "metadata": {},
   "outputs": [],
   "source": [
    "# Experimenting with lesser trainable layers from the pretrained InceptionV3 model "
   ]
  },
  {
   "cell_type": "code",
   "execution_count": 32,
   "metadata": {},
   "outputs": [],
   "source": [
    "from keras.applications.inception_v3 import InceptionV3"
   ]
  },
  {
   "cell_type": "markdown",
   "metadata": {},
   "source": [
    "## Model 16"
   ]
  },
  {
   "cell_type": "code",
   "execution_count": 33,
   "metadata": {},
   "outputs": [],
   "source": [
    "# Importing the model and removing the top layer\n",
    "InceptionV3_model = InceptionV3(weights='imagenet', include_top=False)\n",
    "\n",
    "# Experimenting with the same model as above but with only 5 layer as trainable\n",
    "for layer in InceptionV3_model.layers:\n",
    "        layer.trainable = False"
   ]
  },
  {
   "cell_type": "code",
   "execution_count": 34,
   "metadata": {},
   "outputs": [],
   "source": [
    "#Model Architecture \n",
    "## GlobalAveragePooling3D layer and a dense layer with 1024 neurons added after Inception layers\n",
    "model_Inception_3 = Sequential()\n",
    "model_Inception_3.add(TimeDistributed(InceptionV3_model,input_shape=(30,120,120,3)))\n",
    "model_Inception_3.add(GlobalAveragePooling3D())\n",
    "model_Inception_3.add(Dense(1024, activation='relu'))\n",
    "model_Inception_3.add(Dropout(0.5))\n",
    "model_Inception_3.add(Dense(5, activation='softmax'))"
   ]
  },
  {
   "cell_type": "code",
   "execution_count": 35,
   "metadata": {},
   "outputs": [
    {
     "name": "stdout",
     "output_type": "stream",
     "text": [
      "Model: \"sequential_1\"\n",
      "_________________________________________________________________\n",
      " Layer (type)                Output Shape              Param #   \n",
      "=================================================================\n",
      " time_distributed_1 (TimeDis  (None, 30, 2, 2, 2048)   21802784  \n",
      " tributed)                                                       \n",
      "                                                                 \n",
      " global_average_pooling3d_1   (None, 2048)             0         \n",
      " (GlobalAveragePooling3D)                                        \n",
      "                                                                 \n",
      " dense_2 (Dense)             (None, 1024)              2098176   \n",
      "                                                                 \n",
      " dropout_1 (Dropout)         (None, 1024)              0         \n",
      "                                                                 \n",
      " dense_3 (Dense)             (None, 5)                 5125      \n",
      "                                                                 \n",
      "=================================================================\n",
      "Total params: 23,906,085\n",
      "Trainable params: 2,103,301\n",
      "Non-trainable params: 21,802,784\n",
      "_________________________________________________________________\n",
      "None\n"
     ]
    }
   ],
   "source": [
    "# Compiling the model using Adam as optimizer\n",
    "model_Inception_3.compile(optimizer=optimizers.Adam(), loss='categorical_crossentropy', metrics=['categorical_accuracy'])\n",
    "print (model_Inception_3.summary())"
   ]
  },
  {
   "cell_type": "code",
   "execution_count": 36,
   "metadata": {},
   "outputs": [
    {
     "name": "stdout",
     "output_type": "stream",
     "text": [
      "_________________\n",
      "Batch Size is : 4\n",
      "\n",
      "Source path =  datasets/Project_data/train ; batch size = 4\n",
      "Epoch 1/20\n",
      "166/166 [==============================] - ETA: 0s - loss: 4.6831 - categorical_accuracy: 0.3409\n",
      "Source path =  datasets/Project_data/val ; batch size = 4\n",
      "\n",
      "Epoch 1: saving model to model_init_2023-02-0913_39_16.439780\\model-00001-4.68308-0.34087-1.37232-0.54000.h5\n",
      "166/166 [==============================] - 126s 740ms/step - loss: 4.6831 - categorical_accuracy: 0.3409 - val_loss: 1.3723 - val_categorical_accuracy: 0.5400 - lr: 0.0010\n",
      "Epoch 2/20\n",
      "166/166 [==============================] - ETA: 0s - loss: 1.2468 - categorical_accuracy: 0.5581\n",
      "Epoch 2: saving model to model_init_2023-02-0913_39_16.439780\\model-00002-1.24677-0.55807-0.86845-0.61000.h5\n",
      "166/166 [==============================] - 121s 730ms/step - loss: 1.2468 - categorical_accuracy: 0.5581 - val_loss: 0.8685 - val_categorical_accuracy: 0.6100 - lr: 0.0010\n",
      "Epoch 3/20\n",
      "166/166 [==============================] - ETA: 0s - loss: 0.9831 - categorical_accuracy: 0.6335\n",
      "Epoch 3: saving model to model_init_2023-02-0913_39_16.439780\\model-00003-0.98310-0.63348-1.12643-0.55000.h5\n",
      "166/166 [==============================] - 120s 728ms/step - loss: 0.9831 - categorical_accuracy: 0.6335 - val_loss: 1.1264 - val_categorical_accuracy: 0.5500 - lr: 0.0010\n",
      "Epoch 4/20\n",
      "166/166 [==============================] - ETA: 0s - loss: 0.9294 - categorical_accuracy: 0.6456\n",
      "Epoch 4: saving model to model_init_2023-02-0913_39_16.439780\\model-00004-0.92939-0.64555-1.08654-0.57000.h5\n",
      "166/166 [==============================] - 121s 735ms/step - loss: 0.9294 - categorical_accuracy: 0.6456 - val_loss: 1.0865 - val_categorical_accuracy: 0.5700 - lr: 0.0010\n",
      "Epoch 5/20\n",
      "166/166 [==============================] - ETA: 0s - loss: 0.8364 - categorical_accuracy: 0.6576\n",
      "Epoch 5: ReduceLROnPlateau reducing learning rate to 0.0005000000237487257.\n",
      "\n",
      "Epoch 5: saving model to model_init_2023-02-0913_39_16.439780\\model-00005-0.83643-0.65762-0.94171-0.61000.h5\n",
      "166/166 [==============================] - 121s 730ms/step - loss: 0.8364 - categorical_accuracy: 0.6576 - val_loss: 0.9417 - val_categorical_accuracy: 0.6100 - lr: 0.0010\n",
      "Epoch 6/20\n",
      "166/166 [==============================] - ETA: 0s - loss: 0.6506 - categorical_accuracy: 0.7466\n",
      "Epoch 6: saving model to model_init_2023-02-0913_39_16.439780\\model-00006-0.65058-0.74661-0.87491-0.65000.h5\n",
      "166/166 [==============================] - 121s 732ms/step - loss: 0.6506 - categorical_accuracy: 0.7466 - val_loss: 0.8749 - val_categorical_accuracy: 0.6500 - lr: 5.0000e-04\n",
      "Epoch 7/20\n",
      "166/166 [==============================] - ETA: 0s - loss: 0.5728 - categorical_accuracy: 0.7677\n",
      "Epoch 7: saving model to model_init_2023-02-0913_39_16.439780\\model-00007-0.57279-0.76772-1.03072-0.56000.h5\n",
      "166/166 [==============================] - 121s 734ms/step - loss: 0.5728 - categorical_accuracy: 0.7677 - val_loss: 1.0307 - val_categorical_accuracy: 0.5600 - lr: 5.0000e-04\n",
      "Epoch 8/20\n",
      "166/166 [==============================] - ETA: 0s - loss: 0.4946 - categorical_accuracy: 0.8281\n",
      "Epoch 8: saving model to model_init_2023-02-0913_39_16.439780\\model-00008-0.49464-0.82805-0.78505-0.70000.h5\n",
      "166/166 [==============================] - 121s 735ms/step - loss: 0.4946 - categorical_accuracy: 0.8281 - val_loss: 0.7850 - val_categorical_accuracy: 0.7000 - lr: 5.0000e-04\n",
      "Epoch 9/20\n",
      "166/166 [==============================] - ETA: 0s - loss: 0.4886 - categorical_accuracy: 0.8130\n",
      "Epoch 9: saving model to model_init_2023-02-0913_39_16.439780\\model-00009-0.48859-0.81297-0.92651-0.59000.h5\n",
      "166/166 [==============================] - 120s 729ms/step - loss: 0.4886 - categorical_accuracy: 0.8130 - val_loss: 0.9265 - val_categorical_accuracy: 0.5900 - lr: 5.0000e-04\n",
      "Epoch 10/20\n",
      "166/166 [==============================] - ETA: 0s - loss: 0.4350 - categorical_accuracy: 0.8356\n",
      "Epoch 10: saving model to model_init_2023-02-0913_39_16.439780\\model-00010-0.43497-0.83560-0.83211-0.61000.h5\n",
      "166/166 [==============================] - 121s 733ms/step - loss: 0.4350 - categorical_accuracy: 0.8356 - val_loss: 0.8321 - val_categorical_accuracy: 0.6100 - lr: 5.0000e-04\n",
      "Epoch 11/20\n",
      "166/166 [==============================] - ETA: 0s - loss: 0.4127 - categorical_accuracy: 0.8386\n",
      "Epoch 11: ReduceLROnPlateau reducing learning rate to 0.0002500000118743628.\n",
      "\n",
      "Epoch 11: saving model to model_init_2023-02-0913_39_16.439780\\model-00011-0.41272-0.83861-0.83586-0.67000.h5\n",
      "166/166 [==============================] - 121s 732ms/step - loss: 0.4127 - categorical_accuracy: 0.8386 - val_loss: 0.8359 - val_categorical_accuracy: 0.6700 - lr: 5.0000e-04\n",
      "Epoch 12/20\n",
      "166/166 [==============================] - ETA: 0s - loss: 0.3225 - categorical_accuracy: 0.8914\n",
      "Epoch 12: saving model to model_init_2023-02-0913_39_16.439780\\model-00012-0.32251-0.89140-0.91243-0.64000.h5\n",
      "166/166 [==============================] - 121s 731ms/step - loss: 0.3225 - categorical_accuracy: 0.8914 - val_loss: 0.9124 - val_categorical_accuracy: 0.6400 - lr: 2.5000e-04\n",
      "Epoch 13/20\n",
      "166/166 [==============================] - ETA: 0s - loss: 0.2826 - categorical_accuracy: 0.8929\n",
      "Epoch 13: saving model to model_init_2023-02-0913_39_16.439780\\model-00013-0.28262-0.89291-1.00873-0.68000.h5\n",
      "166/166 [==============================] - 122s 740ms/step - loss: 0.2826 - categorical_accuracy: 0.8929 - val_loss: 1.0087 - val_categorical_accuracy: 0.6800 - lr: 2.5000e-04\n",
      "Epoch 14/20\n",
      "166/166 [==============================] - ETA: 0s - loss: 0.2703 - categorical_accuracy: 0.9035\n",
      "Epoch 14: ReduceLROnPlateau reducing learning rate to 0.0001250000059371814.\n",
      "\n",
      "Epoch 14: saving model to model_init_2023-02-0913_39_16.439780\\model-00014-0.27028-0.90347-0.88774-0.63000.h5\n",
      "166/166 [==============================] - 121s 732ms/step - loss: 0.2703 - categorical_accuracy: 0.9035 - val_loss: 0.8877 - val_categorical_accuracy: 0.6300 - lr: 2.5000e-04\n",
      "Epoch 15/20\n",
      "166/166 [==============================] - ETA: 0s - loss: 0.2248 - categorical_accuracy: 0.9276\n",
      "Epoch 15: saving model to model_init_2023-02-0913_39_16.439780\\model-00015-0.22481-0.92760-0.91102-0.66000.h5\n",
      "166/166 [==============================] - 122s 738ms/step - loss: 0.2248 - categorical_accuracy: 0.9276 - val_loss: 0.9110 - val_categorical_accuracy: 0.6600 - lr: 1.2500e-04\n",
      "Epoch 16/20\n",
      "166/166 [==============================] - ETA: 0s - loss: 0.1920 - categorical_accuracy: 0.9487\n",
      "Epoch 16: saving model to model_init_2023-02-0913_39_16.439780\\model-00016-0.19199-0.94872-0.99532-0.69000.h5\n",
      "166/166 [==============================] - 121s 734ms/step - loss: 0.1920 - categorical_accuracy: 0.9487 - val_loss: 0.9953 - val_categorical_accuracy: 0.6900 - lr: 1.2500e-04\n",
      "Epoch 17/20\n",
      "166/166 [==============================] - ETA: 0s - loss: 0.2154 - categorical_accuracy: 0.9261\n",
      "Epoch 17: ReduceLROnPlateau reducing learning rate to 6.25000029685907e-05.\n",
      "\n",
      "Epoch 17: saving model to model_init_2023-02-0913_39_16.439780\\model-00017-0.21539-0.92609-0.99053-0.60000.h5\n",
      "166/166 [==============================] - 122s 738ms/step - loss: 0.2154 - categorical_accuracy: 0.9261 - val_loss: 0.9905 - val_categorical_accuracy: 0.6000 - lr: 1.2500e-04\n",
      "Epoch 18/20\n",
      "166/166 [==============================] - ETA: 0s - loss: 0.1678 - categorical_accuracy: 0.9548\n",
      "Epoch 18: saving model to model_init_2023-02-0913_39_16.439780\\model-00018-0.16776-0.95475-0.94625-0.70000.h5\n",
      "166/166 [==============================] - 122s 736ms/step - loss: 0.1678 - categorical_accuracy: 0.9548 - val_loss: 0.9462 - val_categorical_accuracy: 0.7000 - lr: 6.2500e-05\n",
      "Epoch 19/20\n",
      "166/166 [==============================] - ETA: 0s - loss: 0.1557 - categorical_accuracy: 0.9638\n",
      "Epoch 19: saving model to model_init_2023-02-0913_39_16.439780\\model-00019-0.15566-0.96380-1.07774-0.63000.h5\n",
      "166/166 [==============================] - 122s 739ms/step - loss: 0.1557 - categorical_accuracy: 0.9638 - val_loss: 1.0777 - val_categorical_accuracy: 0.6300 - lr: 6.2500e-05\n",
      "Epoch 20/20\n",
      "166/166 [==============================] - ETA: 0s - loss: 0.1625 - categorical_accuracy: 0.9563\n",
      "Epoch 20: ReduceLROnPlateau reducing learning rate to 3.125000148429535e-05.\n",
      "\n",
      "Epoch 20: saving model to model_init_2023-02-0913_39_16.439780\\model-00020-0.16247-0.95626-0.85898-0.71000.h5\n"
     ]
    },
    {
     "name": "stdout",
     "output_type": "stream",
     "text": [
      "166/166 [==============================] - 121s 734ms/step - loss: 0.1625 - categorical_accuracy: 0.9563 - val_loss: 0.8590 - val_categorical_accuracy: 0.7100 - lr: 6.2500e-05\n",
      "Time Taken to Train this model was :  0:40:29.318725\n"
     ]
    }
   ],
   "source": [
    "batch_size=4\n",
    "trainmodel(model_Inception_3,batch_size)"
   ]
  },
  {
   "cell_type": "code",
   "execution_count": 37,
   "metadata": {},
   "outputs": [],
   "source": [
    "model_Inception_3.save(\"model_Inception_3.h5\")"
   ]
  },
  {
   "cell_type": "markdown",
   "metadata": {},
   "source": [
    "## Final Experiments"
   ]
  },
  {
   "cell_type": "code",
   "execution_count": 48,
   "metadata": {},
   "outputs": [],
   "source": [
    "# Experimenting using the model_cnn_LSTM_2 architecture with batch size of 2 because a reduction of batch size from 8 to 4 \n",
    "# gave us a slight performance improvement"
   ]
  },
  {
   "cell_type": "markdown",
   "metadata": {},
   "source": [
    "## Model 17"
   ]
  },
  {
   "cell_type": "code",
   "execution_count": 49,
   "metadata": {},
   "outputs": [],
   "source": [
    "# Model Architecture for model_cnn_LSTM_3\n",
    "Input_shape = (len(img_idx), imgdim, imgdim, 3)\n",
    "\n",
    "model_cnn_LSTM_3 = Sequential()\n",
    "\n",
    "model_cnn_LSTM_3.add(TimeDistributed(Conv2D(16, (3, 3) , padding='same', activation='relu'),input_shape=Input_shape))\n",
    "model_cnn_LSTM_3.add(TimeDistributed(BatchNormalization()))\n",
    "model_cnn_LSTM_3.add(TimeDistributed(MaxPooling2D((2, 2))))\n",
    "model_cnn_LSTM_3.add(Dropout(0.25))\n",
    "\n",
    "        \n",
    "model_cnn_LSTM_3.add(TimeDistributed(Conv2D(32, (3, 3) , padding='same', activation='relu')))\n",
    "model_cnn_LSTM_3.add(TimeDistributed(BatchNormalization()))\n",
    "model_cnn_LSTM_3.add(TimeDistributed(MaxPooling2D((2, 2))))\n",
    "model_cnn_LSTM_3.add(Dropout(0.25))\n",
    "        \n",
    "model_cnn_LSTM_3.add(TimeDistributed(Conv2D(64, (3, 3) , padding='same', activation='relu')))\n",
    "model_cnn_LSTM_3.add(TimeDistributed(BatchNormalization()))\n",
    "model_cnn_LSTM_3.add(TimeDistributed(MaxPooling2D((2, 2))))\n",
    "model_cnn_LSTM_3.add(Dropout(0.25))\n",
    "        \n",
    "model_cnn_LSTM_3.add(TimeDistributed(Conv2D(128, (3, 3) , padding='same', activation='relu')))\n",
    "model_cnn_LSTM_3.add(TimeDistributed(BatchNormalization()))\n",
    "model_cnn_LSTM_3.add(TimeDistributed(MaxPooling2D((2, 2))))\n",
    "model_cnn_LSTM_3.add(Dropout(0.25))\n",
    "\n",
    "model_cnn_LSTM_3.add(TimeDistributed(Conv2D(256, (3, 3) , padding='same', activation='relu')))\n",
    "model_cnn_LSTM_3.add(TimeDistributed(BatchNormalization()))\n",
    "model_cnn_LSTM_3.add(TimeDistributed(MaxPooling2D((2, 2))))\n",
    "model_cnn_LSTM_3.add(Dropout(0.25))\n",
    "\n",
    "model_cnn_LSTM_3.add(TimeDistributed(Conv2D(512, (3, 3) , padding='same', activation='relu')))\n",
    "model_cnn_LSTM_3.add(TimeDistributed(BatchNormalization()))\n",
    "model_cnn_LSTM_3.add(TimeDistributed(MaxPooling2D((2, 2))))\n",
    "model_cnn_LSTM_3.add(Dropout(0.25))\n",
    "\n",
    "model_cnn_LSTM_3.add(TimeDistributed(Flatten()))\n",
    "model_cnn_LSTM_3.add(Dropout(0.25))\n",
    "\n",
    "model_cnn_LSTM_3.add(LSTM(2048))\n",
    "model_cnn_LSTM_3.add(Dropout(0.5))\n",
    "\n",
    "\n",
    "model_cnn_LSTM_3.add(Dense(5, activation='softmax'))"
   ]
  },
  {
   "cell_type": "code",
   "execution_count": 50,
   "metadata": {
    "execution": {
     "iopub.execute_input": "2021-10-26T06:20:07.757837Z",
     "iopub.status.busy": "2021-10-26T06:20:07.757588Z",
     "iopub.status.idle": "2021-10-26T06:20:07.929675Z",
     "shell.execute_reply": "2021-10-26T06:20:07.929025Z",
     "shell.execute_reply.started": "2021-10-26T06:20:07.757808Z"
    },
    "scrolled": false
   },
   "outputs": [
    {
     "name": "stdout",
     "output_type": "stream",
     "text": [
      "Model: \"sequential_8\"\n",
      "_________________________________________________________________\n",
      " Layer (type)                Output Shape              Param #   \n",
      "=================================================================\n",
      " time_distributed_101 (TimeD  (None, 30, 120, 120, 16)  448      \n",
      " istributed)                                                     \n",
      "                                                                 \n",
      " time_distributed_102 (TimeD  (None, 30, 120, 120, 16)  64       \n",
      " istributed)                                                     \n",
      "                                                                 \n",
      " time_distributed_103 (TimeD  (None, 30, 60, 60, 16)   0         \n",
      " istributed)                                                     \n",
      "                                                                 \n",
      " dropout_45 (Dropout)        (None, 30, 60, 60, 16)    0         \n",
      "                                                                 \n",
      " time_distributed_104 (TimeD  (None, 30, 60, 60, 32)   4640      \n",
      " istributed)                                                     \n",
      "                                                                 \n",
      " time_distributed_105 (TimeD  (None, 30, 60, 60, 32)   128       \n",
      " istributed)                                                     \n",
      "                                                                 \n",
      " time_distributed_106 (TimeD  (None, 30, 30, 30, 32)   0         \n",
      " istributed)                                                     \n",
      "                                                                 \n",
      " dropout_46 (Dropout)        (None, 30, 30, 30, 32)    0         \n",
      "                                                                 \n",
      " time_distributed_107 (TimeD  (None, 30, 30, 30, 64)   18496     \n",
      " istributed)                                                     \n",
      "                                                                 \n",
      " time_distributed_108 (TimeD  (None, 30, 30, 30, 64)   256       \n",
      " istributed)                                                     \n",
      "                                                                 \n",
      " time_distributed_109 (TimeD  (None, 30, 15, 15, 64)   0         \n",
      " istributed)                                                     \n",
      "                                                                 \n",
      " dropout_47 (Dropout)        (None, 30, 15, 15, 64)    0         \n",
      "                                                                 \n",
      " time_distributed_110 (TimeD  (None, 30, 15, 15, 128)  73856     \n",
      " istributed)                                                     \n",
      "                                                                 \n",
      " time_distributed_111 (TimeD  (None, 30, 15, 15, 128)  512       \n",
      " istributed)                                                     \n",
      "                                                                 \n",
      " time_distributed_112 (TimeD  (None, 30, 7, 7, 128)    0         \n",
      " istributed)                                                     \n",
      "                                                                 \n",
      " dropout_48 (Dropout)        (None, 30, 7, 7, 128)     0         \n",
      "                                                                 \n",
      " time_distributed_113 (TimeD  (None, 30, 7, 7, 256)    295168    \n",
      " istributed)                                                     \n",
      "                                                                 \n",
      " time_distributed_114 (TimeD  (None, 30, 7, 7, 256)    1024      \n",
      " istributed)                                                     \n",
      "                                                                 \n",
      " time_distributed_115 (TimeD  (None, 30, 3, 3, 256)    0         \n",
      " istributed)                                                     \n",
      "                                                                 \n",
      " dropout_49 (Dropout)        (None, 30, 3, 3, 256)     0         \n",
      "                                                                 \n",
      " time_distributed_116 (TimeD  (None, 30, 3, 3, 512)    1180160   \n",
      " istributed)                                                     \n",
      "                                                                 \n",
      " time_distributed_117 (TimeD  (None, 30, 3, 3, 512)    2048      \n",
      " istributed)                                                     \n",
      "                                                                 \n",
      " time_distributed_118 (TimeD  (None, 30, 1, 1, 512)    0         \n",
      " istributed)                                                     \n",
      "                                                                 \n",
      " dropout_50 (Dropout)        (None, 30, 1, 1, 512)     0         \n",
      "                                                                 \n",
      " time_distributed_119 (TimeD  (None, 30, 512)          0         \n",
      " istributed)                                                     \n",
      "                                                                 \n",
      " dropout_51 (Dropout)        (None, 30, 512)           0         \n",
      "                                                                 \n",
      " lstm_8 (LSTM)               (None, 2048)              20979712  \n",
      "                                                                 \n",
      " dropout_52 (Dropout)        (None, 2048)              0         \n",
      "                                                                 \n",
      " dense_8 (Dense)             (None, 5)                 10245     \n",
      "                                                                 \n",
      "=================================================================\n",
      "Total params: 22,566,757\n",
      "Trainable params: 22,564,741\n",
      "Non-trainable params: 2,016\n",
      "_________________________________________________________________\n",
      "None\n"
     ]
    }
   ],
   "source": [
    "# Compiling the model using Adam as optimizer\n",
    "model_cnn_LSTM_3.compile(optimizer=optimizers.Adam(), loss='categorical_crossentropy', metrics=['categorical_accuracy'])\n",
    "print (model_cnn_LSTM_3.summary())"
   ]
  },
  {
   "cell_type": "code",
   "execution_count": 51,
   "metadata": {},
   "outputs": [
    {
     "name": "stdout",
     "output_type": "stream",
     "text": [
      "_________________\n",
      "Batch Size is : 2\n",
      "\n",
      "Source path =  datasets/Project_data/train ; batch size = 2\n",
      "Epoch 1/20\n",
      "332/332 [==============================] - ETA: 0s - loss: 2.0209 - categorical_accuracy: 0.2504\n",
      "Source path =  datasets/Project_data/val ; batch size = 2\n",
      "\n",
      "Epoch 1: saving model to model_init_2023-02-0913_39_16.439780\\model-00001-2.02095-0.25038-2.19694-0.27000.h5\n",
      "332/332 [==============================] - 125s 371ms/step - loss: 2.0209 - categorical_accuracy: 0.2504 - val_loss: 2.1969 - val_categorical_accuracy: 0.2700 - lr: 0.0010\n",
      "Epoch 2/20\n",
      "332/332 [==============================] - ETA: 0s - loss: 1.5963 - categorical_accuracy: 0.3891\n",
      "Epoch 2: saving model to model_init_2023-02-0913_39_16.439780\\model-00002-1.59626-0.38914-1.66149-0.37000.h5\n",
      "332/332 [==============================] - 123s 372ms/step - loss: 1.5963 - categorical_accuracy: 0.3891 - val_loss: 1.6615 - val_categorical_accuracy: 0.3700 - lr: 0.0010\n",
      "Epoch 3/20\n",
      "332/332 [==============================] - ETA: 0s - loss: 1.4360 - categorical_accuracy: 0.4842\n",
      "Epoch 3: saving model to model_init_2023-02-0913_39_16.439780\\model-00003-1.43602-0.48416-1.81991-0.42000.h5\n",
      "332/332 [==============================] - 123s 371ms/step - loss: 1.4360 - categorical_accuracy: 0.4842 - val_loss: 1.8199 - val_categorical_accuracy: 0.4200 - lr: 0.0010\n",
      "Epoch 4/20\n",
      "332/332 [==============================] - ETA: 0s - loss: 1.2676 - categorical_accuracy: 0.5173\n",
      "Epoch 4: saving model to model_init_2023-02-0913_39_16.439780\\model-00004-1.26757-0.51735-1.77716-0.42000.h5\n",
      "332/332 [==============================] - 123s 370ms/step - loss: 1.2676 - categorical_accuracy: 0.5173 - val_loss: 1.7772 - val_categorical_accuracy: 0.4200 - lr: 0.0010\n",
      "Epoch 5/20\n",
      "332/332 [==============================] - ETA: 0s - loss: 1.0480 - categorical_accuracy: 0.6259\n",
      "Epoch 5: saving model to model_init_2023-02-0913_39_16.439780\\model-00005-1.04802-0.62594-1.21813-0.61000.h5\n",
      "332/332 [==============================] - 123s 372ms/step - loss: 1.0480 - categorical_accuracy: 0.6259 - val_loss: 1.2181 - val_categorical_accuracy: 0.6100 - lr: 0.0010\n",
      "Epoch 6/20\n",
      "332/332 [==============================] - ETA: 0s - loss: 0.9952 - categorical_accuracy: 0.6652\n",
      "Epoch 6: saving model to model_init_2023-02-0913_39_16.439780\\model-00006-0.99519-0.66516-0.84528-0.69000.h5\n",
      "332/332 [==============================] - 123s 370ms/step - loss: 0.9952 - categorical_accuracy: 0.6652 - val_loss: 0.8453 - val_categorical_accuracy: 0.6900 - lr: 0.0010\n",
      "Epoch 7/20\n",
      "332/332 [==============================] - ETA: 0s - loss: 0.9313 - categorical_accuracy: 0.6998\n",
      "Epoch 7: saving model to model_init_2023-02-0913_39_16.439780\\model-00007-0.93130-0.69985-1.46860-0.55000.h5\n",
      "332/332 [==============================] - 124s 373ms/step - loss: 0.9313 - categorical_accuracy: 0.6998 - val_loss: 1.4686 - val_categorical_accuracy: 0.5500 - lr: 0.0010\n",
      "Epoch 8/20\n",
      "332/332 [==============================] - ETA: 0s - loss: 0.8122 - categorical_accuracy: 0.7285\n",
      "Epoch 8: saving model to model_init_2023-02-0913_39_16.439780\\model-00008-0.81220-0.72851-2.38625-0.42000.h5\n",
      "332/332 [==============================] - 124s 374ms/step - loss: 0.8122 - categorical_accuracy: 0.7285 - val_loss: 2.3863 - val_categorical_accuracy: 0.4200 - lr: 0.0010\n",
      "Epoch 9/20\n",
      "332/332 [==============================] - ETA: 0s - loss: 0.7369 - categorical_accuracy: 0.7632\n",
      "Epoch 9: ReduceLROnPlateau reducing learning rate to 0.0005000000237487257.\n",
      "\n",
      "Epoch 9: saving model to model_init_2023-02-0913_39_16.439780\\model-00009-0.73686-0.76320-1.18944-0.66000.h5\n",
      "332/332 [==============================] - 124s 373ms/step - loss: 0.7369 - categorical_accuracy: 0.7632 - val_loss: 1.1894 - val_categorical_accuracy: 0.6600 - lr: 0.0010\n",
      "Epoch 10/20\n",
      "332/332 [==============================] - ETA: 0s - loss: 0.5011 - categorical_accuracy: 0.8190\n",
      "Epoch 10: saving model to model_init_2023-02-0913_39_16.439780\\model-00010-0.50114-0.81900-0.66655-0.79000.h5\n",
      "332/332 [==============================] - 123s 372ms/step - loss: 0.5011 - categorical_accuracy: 0.8190 - val_loss: 0.6666 - val_categorical_accuracy: 0.7900 - lr: 5.0000e-04\n",
      "Epoch 11/20\n",
      "332/332 [==============================] - ETA: 0s - loss: 0.2828 - categorical_accuracy: 0.8974\n",
      "Epoch 11: saving model to model_init_2023-02-0913_39_16.439780\\model-00011-0.28283-0.89744-0.81769-0.78000.h5\n",
      "332/332 [==============================] - 124s 373ms/step - loss: 0.2828 - categorical_accuracy: 0.8974 - val_loss: 0.8177 - val_categorical_accuracy: 0.7800 - lr: 5.0000e-04\n",
      "Epoch 12/20\n",
      "332/332 [==============================] - ETA: 0s - loss: 0.2547 - categorical_accuracy: 0.9170\n",
      "Epoch 12: saving model to model_init_2023-02-0913_39_16.439780\\model-00012-0.25466-0.91704-0.72520-0.76000.h5\n",
      "332/332 [==============================] - 122s 370ms/step - loss: 0.2547 - categorical_accuracy: 0.9170 - val_loss: 0.7252 - val_categorical_accuracy: 0.7600 - lr: 5.0000e-04\n",
      "Epoch 13/20\n",
      "332/332 [==============================] - ETA: 0s - loss: 0.2636 - categorical_accuracy: 0.9110\n",
      "Epoch 13: saving model to model_init_2023-02-0913_39_16.439780\\model-00013-0.26364-0.91101-0.35652-0.89000.h5\n",
      "332/332 [==============================] - 124s 375ms/step - loss: 0.2636 - categorical_accuracy: 0.9110 - val_loss: 0.3565 - val_categorical_accuracy: 0.8900 - lr: 5.0000e-04\n",
      "Epoch 14/20\n",
      "332/332 [==============================] - ETA: 0s - loss: 0.1152 - categorical_accuracy: 0.9608\n",
      "Epoch 14: saving model to model_init_2023-02-0913_39_16.439780\\model-00014-0.11522-0.96078-1.00591-0.77000.h5\n",
      "332/332 [==============================] - 124s 373ms/step - loss: 0.1152 - categorical_accuracy: 0.9608 - val_loss: 1.0059 - val_categorical_accuracy: 0.7700 - lr: 5.0000e-04\n",
      "Epoch 15/20\n",
      "332/332 [==============================] - ETA: 0s - loss: 0.1210 - categorical_accuracy: 0.9608\n",
      "Epoch 15: saving model to model_init_2023-02-0913_39_16.439780\\model-00015-0.12103-0.96078-0.56179-0.85000.h5\n",
      "332/332 [==============================] - 123s 371ms/step - loss: 0.1210 - categorical_accuracy: 0.9608 - val_loss: 0.5618 - val_categorical_accuracy: 0.8500 - lr: 5.0000e-04\n",
      "Epoch 16/20\n",
      "332/332 [==============================] - ETA: 0s - loss: 0.0972 - categorical_accuracy: 0.9608\n",
      "Epoch 16: ReduceLROnPlateau reducing learning rate to 0.0002500000118743628.\n",
      "\n",
      "Epoch 16: saving model to model_init_2023-02-0913_39_16.439780\\model-00016-0.09718-0.96078-0.65084-0.84000.h5\n",
      "332/332 [==============================] - 122s 369ms/step - loss: 0.0972 - categorical_accuracy: 0.9608 - val_loss: 0.6508 - val_categorical_accuracy: 0.8400 - lr: 5.0000e-04\n",
      "Epoch 17/20\n",
      "332/332 [==============================] - ETA: 0s - loss: 0.0877 - categorical_accuracy: 0.9653\n",
      "Epoch 17: saving model to model_init_2023-02-0913_39_16.439780\\model-00017-0.08770-0.96531-0.58472-0.86000.h5\n",
      "332/332 [==============================] - 123s 372ms/step - loss: 0.0877 - categorical_accuracy: 0.9653 - val_loss: 0.5847 - val_categorical_accuracy: 0.8600 - lr: 2.5000e-04\n",
      "Epoch 18/20\n",
      "332/332 [==============================] - ETA: 0s - loss: 0.0667 - categorical_accuracy: 0.9789\n",
      "Epoch 18: saving model to model_init_2023-02-0913_39_16.439780\\model-00018-0.06665-0.97888-0.63944-0.85000.h5\n",
      "332/332 [==============================] - 122s 370ms/step - loss: 0.0667 - categorical_accuracy: 0.9789 - val_loss: 0.6394 - val_categorical_accuracy: 0.8500 - lr: 2.5000e-04\n",
      "Epoch 19/20\n",
      "332/332 [==============================] - ETA: 0s - loss: 0.0356 - categorical_accuracy: 0.9894\n",
      "Epoch 19: ReduceLROnPlateau reducing learning rate to 0.0001250000059371814.\n",
      "\n",
      "Epoch 19: saving model to model_init_2023-02-0913_39_16.439780\\model-00019-0.03558-0.98944-0.53877-0.86000.h5\n",
      "332/332 [==============================] - 122s 369ms/step - loss: 0.0356 - categorical_accuracy: 0.9894 - val_loss: 0.5388 - val_categorical_accuracy: 0.8600 - lr: 2.5000e-04\n",
      "Epoch 20/20\n",
      "332/332 [==============================] - ETA: 0s - loss: 0.0179 - categorical_accuracy: 0.9940\n",
      "Epoch 20: saving model to model_init_2023-02-0913_39_16.439780\\model-00020-0.01786-0.99397-0.47279-0.88000.h5\n",
      "332/332 [==============================] - 123s 370ms/step - loss: 0.0179 - categorical_accuracy: 0.9940 - val_loss: 0.4728 - val_categorical_accuracy: 0.8800 - lr: 1.2500e-04\n"
     ]
    },
    {
     "name": "stdout",
     "output_type": "stream",
     "text": [
      "Time Taken to Train this model was :  0:41:06.691401\n"
     ]
    }
   ],
   "source": [
    "batch_size=2\n",
    "trainmodel(model_cnn_LSTM_3,batch_size)"
   ]
  },
  {
   "cell_type": "code",
   "execution_count": 52,
   "metadata": {},
   "outputs": [],
   "source": [
    "model_cnn_LSTM_3.save(\"model_cnn_LSTM_3.h5\")"
   ]
  },
  {
   "cell_type": "code",
   "execution_count": null,
   "metadata": {},
   "outputs": [],
   "source": []
  },
  {
   "cell_type": "code",
   "execution_count": 48,
   "metadata": {},
   "outputs": [],
   "source": [
    "# Using the model_cnn_LSTM architecture with batch size of 4 and adding another LSTM layer (of 1024) to check if we get any\n",
    "# performance benefits"
   ]
  },
  {
   "cell_type": "markdown",
   "metadata": {},
   "source": [
    "## Model 18"
   ]
  },
  {
   "cell_type": "code",
   "execution_count": 63,
   "metadata": {},
   "outputs": [],
   "source": [
    "# Model Architecture for model_cnn_LSTM_4\n",
    "Input_shape = (len(img_idx), imgdim, imgdim, 3)\n",
    "\n",
    "model_cnn_LSTM_4 = Sequential()\n",
    "\n",
    "model_cnn_LSTM_4.add(TimeDistributed(Conv2D(16, (3, 3) , padding='same', activation='relu'),input_shape=Input_shape))\n",
    "model_cnn_LSTM_4.add(TimeDistributed(BatchNormalization()))\n",
    "model_cnn_LSTM_4.add(TimeDistributed(MaxPooling2D((2, 2))))\n",
    "model_cnn_LSTM_4.add(Dropout(0.25))\n",
    "\n",
    "        \n",
    "model_cnn_LSTM_4.add(TimeDistributed(Conv2D(32, (3, 3) , padding='same', activation='relu')))\n",
    "model_cnn_LSTM_4.add(TimeDistributed(BatchNormalization()))\n",
    "model_cnn_LSTM_4.add(TimeDistributed(MaxPooling2D((2, 2))))\n",
    "model_cnn_LSTM_4.add(Dropout(0.25))\n",
    "        \n",
    "model_cnn_LSTM_4.add(TimeDistributed(Conv2D(64, (3, 3) , padding='same', activation='relu')))\n",
    "model_cnn_LSTM_4.add(TimeDistributed(BatchNormalization()))\n",
    "model_cnn_LSTM_4.add(TimeDistributed(MaxPooling2D((2, 2))))\n",
    "model_cnn_LSTM_4.add(Dropout(0.25))\n",
    "        \n",
    "model_cnn_LSTM_4.add(TimeDistributed(Conv2D(128, (3, 3) , padding='same', activation='relu')))\n",
    "model_cnn_LSTM_4.add(TimeDistributed(BatchNormalization()))\n",
    "model_cnn_LSTM_4.add(TimeDistributed(MaxPooling2D((2, 2))))\n",
    "model_cnn_LSTM_4.add(Dropout(0.25))\n",
    "\n",
    "model_cnn_LSTM_4.add(TimeDistributed(Conv2D(256, (3, 3) , padding='same', activation='relu')))\n",
    "model_cnn_LSTM_4.add(TimeDistributed(BatchNormalization()))\n",
    "model_cnn_LSTM_4.add(TimeDistributed(MaxPooling2D((2, 2))))\n",
    "model_cnn_LSTM_4.add(Dropout(0.25))\n",
    "\n",
    "model_cnn_LSTM_4.add(TimeDistributed(Conv2D(512, (3, 3) , padding='same', activation='relu')))\n",
    "model_cnn_LSTM_4.add(TimeDistributed(BatchNormalization()))\n",
    "model_cnn_LSTM_4.add(TimeDistributed(MaxPooling2D((2, 2))))\n",
    "model_cnn_LSTM_4.add(Dropout(0.25))\n",
    "\n",
    "model_cnn_LSTM_4.add(TimeDistributed(Flatten()))\n",
    "model_cnn_LSTM_4.add(Dropout(0.25))\n",
    "\n",
    "model_cnn_LSTM_4.add(LSTM(2048,return_sequences=True))\n",
    "model_cnn_LSTM_4.add(Dropout(0.5))\n",
    "model_cnn_LSTM_4.add(LSTM(1024))\n",
    "model_cnn_LSTM_4.add(Dropout(0.5))\n",
    "\n",
    "\n",
    "model_cnn_LSTM_4.add(Dense(5, activation='softmax'))"
   ]
  },
  {
   "cell_type": "code",
   "execution_count": 64,
   "metadata": {
    "execution": {
     "iopub.execute_input": "2021-10-26T06:20:07.757837Z",
     "iopub.status.busy": "2021-10-26T06:20:07.757588Z",
     "iopub.status.idle": "2021-10-26T06:20:07.929675Z",
     "shell.execute_reply": "2021-10-26T06:20:07.929025Z",
     "shell.execute_reply.started": "2021-10-26T06:20:07.757808Z"
    },
    "scrolled": false
   },
   "outputs": [
    {
     "name": "stdout",
     "output_type": "stream",
     "text": [
      "Model: \"sequential_14\"\n",
      "_________________________________________________________________\n",
      " Layer (type)                Output Shape              Param #   \n",
      "=================================================================\n",
      " time_distributed_215 (TimeD  (None, 30, 120, 120, 16)  448      \n",
      " istributed)                                                     \n",
      "                                                                 \n",
      " time_distributed_216 (TimeD  (None, 30, 120, 120, 16)  64       \n",
      " istributed)                                                     \n",
      "                                                                 \n",
      " time_distributed_217 (TimeD  (None, 30, 60, 60, 16)   0         \n",
      " istributed)                                                     \n",
      "                                                                 \n",
      " dropout_101 (Dropout)       (None, 30, 60, 60, 16)    0         \n",
      "                                                                 \n",
      " time_distributed_218 (TimeD  (None, 30, 60, 60, 32)   4640      \n",
      " istributed)                                                     \n",
      "                                                                 \n",
      " time_distributed_219 (TimeD  (None, 30, 60, 60, 32)   128       \n",
      " istributed)                                                     \n",
      "                                                                 \n",
      " time_distributed_220 (TimeD  (None, 30, 30, 30, 32)   0         \n",
      " istributed)                                                     \n",
      "                                                                 \n",
      " dropout_102 (Dropout)       (None, 30, 30, 30, 32)    0         \n",
      "                                                                 \n",
      " time_distributed_221 (TimeD  (None, 30, 30, 30, 64)   18496     \n",
      " istributed)                                                     \n",
      "                                                                 \n",
      " time_distributed_222 (TimeD  (None, 30, 30, 30, 64)   256       \n",
      " istributed)                                                     \n",
      "                                                                 \n",
      " time_distributed_223 (TimeD  (None, 30, 15, 15, 64)   0         \n",
      " istributed)                                                     \n",
      "                                                                 \n",
      " dropout_103 (Dropout)       (None, 30, 15, 15, 64)    0         \n",
      "                                                                 \n",
      " time_distributed_224 (TimeD  (None, 30, 15, 15, 128)  73856     \n",
      " istributed)                                                     \n",
      "                                                                 \n",
      " time_distributed_225 (TimeD  (None, 30, 15, 15, 128)  512       \n",
      " istributed)                                                     \n",
      "                                                                 \n",
      " time_distributed_226 (TimeD  (None, 30, 7, 7, 128)    0         \n",
      " istributed)                                                     \n",
      "                                                                 \n",
      " dropout_104 (Dropout)       (None, 30, 7, 7, 128)     0         \n",
      "                                                                 \n",
      " time_distributed_227 (TimeD  (None, 30, 7, 7, 256)    295168    \n",
      " istributed)                                                     \n",
      "                                                                 \n",
      " time_distributed_228 (TimeD  (None, 30, 7, 7, 256)    1024      \n",
      " istributed)                                                     \n",
      "                                                                 \n",
      " time_distributed_229 (TimeD  (None, 30, 3, 3, 256)    0         \n",
      " istributed)                                                     \n",
      "                                                                 \n",
      " dropout_105 (Dropout)       (None, 30, 3, 3, 256)     0         \n",
      "                                                                 \n",
      " time_distributed_230 (TimeD  (None, 30, 3, 3, 512)    1180160   \n",
      " istributed)                                                     \n",
      "                                                                 \n",
      " time_distributed_231 (TimeD  (None, 30, 3, 3, 512)    2048      \n",
      " istributed)                                                     \n",
      "                                                                 \n",
      " time_distributed_232 (TimeD  (None, 30, 1, 1, 512)    0         \n",
      " istributed)                                                     \n",
      "                                                                 \n",
      " dropout_106 (Dropout)       (None, 30, 1, 1, 512)     0         \n",
      "                                                                 \n",
      " time_distributed_233 (TimeD  (None, 30, 512)          0         \n",
      " istributed)                                                     \n",
      "                                                                 \n",
      " dropout_107 (Dropout)       (None, 30, 512)           0         \n",
      "                                                                 \n",
      " lstm_19 (LSTM)              (None, 30, 2048)          20979712  \n",
      "                                                                 \n",
      " dropout_108 (Dropout)       (None, 30, 2048)          0         \n",
      "                                                                 \n",
      " lstm_20 (LSTM)              (None, 1024)              12587008  \n",
      "                                                                 \n",
      " dropout_109 (Dropout)       (None, 1024)              0         \n",
      "                                                                 \n",
      " dense_13 (Dense)            (None, 5)                 5125      \n",
      "                                                                 \n",
      "=================================================================\n",
      "Total params: 35,148,645\n",
      "Trainable params: 35,146,629\n",
      "Non-trainable params: 2,016\n",
      "_________________________________________________________________\n",
      "None\n"
     ]
    }
   ],
   "source": [
    "# Compiling the model using Adam as optimizer\n",
    "model_cnn_LSTM_4.compile(optimizer=optimizers.Adam(), loss='categorical_crossentropy', metrics=['categorical_accuracy'])\n",
    "print (model_cnn_LSTM_4.summary())"
   ]
  },
  {
   "cell_type": "code",
   "execution_count": 65,
   "metadata": {},
   "outputs": [
    {
     "name": "stdout",
     "output_type": "stream",
     "text": [
      "_________________\n",
      "Batch Size is : 4\n",
      "\n",
      "Source path =  datasets/Project_data/train ; batch size = 4\n",
      "Epoch 1/20\n",
      "166/166 [==============================] - ETA: 0s - loss: 1.8824 - categorical_accuracy: 0.2127\n",
      "Source path =  datasets/Project_data/val ; batch size = 4\n",
      "\n",
      "Epoch 1: saving model to model_init_2023-02-0913_39_16.439780\\model-00001-1.88235-0.21267-1.71655-0.21000.h5\n",
      "166/166 [==============================] - 124s 738ms/step - loss: 1.8824 - categorical_accuracy: 0.2127 - val_loss: 1.7166 - val_categorical_accuracy: 0.2100 - lr: 0.0010\n",
      "Epoch 2/20\n",
      "166/166 [==============================] - ETA: 0s - loss: 1.6748 - categorical_accuracy: 0.2956\n",
      "Epoch 2: saving model to model_init_2023-02-0913_39_16.439780\\model-00002-1.67481-0.29563-2.16548-0.20000.h5\n",
      "166/166 [==============================] - 122s 736ms/step - loss: 1.6748 - categorical_accuracy: 0.2956 - val_loss: 2.1655 - val_categorical_accuracy: 0.2000 - lr: 0.0010\n",
      "Epoch 3/20\n",
      "166/166 [==============================] - ETA: 0s - loss: 1.6306 - categorical_accuracy: 0.2670\n",
      "Epoch 3: saving model to model_init_2023-02-0913_39_16.439780\\model-00003-1.63063-0.26697-1.54388-0.32000.h5\n",
      "166/166 [==============================] - 121s 732ms/step - loss: 1.6306 - categorical_accuracy: 0.2670 - val_loss: 1.5439 - val_categorical_accuracy: 0.3200 - lr: 0.0010\n",
      "Epoch 4/20\n",
      "166/166 [==============================] - ETA: 0s - loss: 1.5080 - categorical_accuracy: 0.3183\n",
      "Epoch 4: saving model to model_init_2023-02-0913_39_16.439780\\model-00004-1.50801-0.31825-1.77014-0.17000.h5\n",
      "166/166 [==============================] - 121s 735ms/step - loss: 1.5080 - categorical_accuracy: 0.3183 - val_loss: 1.7701 - val_categorical_accuracy: 0.1700 - lr: 0.0010\n",
      "Epoch 5/20\n",
      "166/166 [==============================] - ETA: 0s - loss: 1.4478 - categorical_accuracy: 0.3605\n",
      "Epoch 5: saving model to model_init_2023-02-0913_39_16.439780\\model-00005-1.44780-0.36048-1.35393-0.33000.h5\n",
      "166/166 [==============================] - 121s 734ms/step - loss: 1.4478 - categorical_accuracy: 0.3605 - val_loss: 1.3539 - val_categorical_accuracy: 0.3300 - lr: 0.0010\n",
      "Epoch 6/20\n",
      "166/166 [==============================] - ETA: 0s - loss: 1.3710 - categorical_accuracy: 0.3575\n",
      "Epoch 6: saving model to model_init_2023-02-0913_39_16.439780\\model-00006-1.37103-0.35747-1.59158-0.31000.h5\n",
      "166/166 [==============================] - 121s 732ms/step - loss: 1.3710 - categorical_accuracy: 0.3575 - val_loss: 1.5916 - val_categorical_accuracy: 0.3100 - lr: 0.0010\n",
      "Epoch 7/20\n",
      "166/166 [==============================] - ETA: 0s - loss: 1.3247 - categorical_accuracy: 0.3997\n",
      "Epoch 7: saving model to model_init_2023-02-0913_39_16.439780\\model-00007-1.32469-0.39970-1.34682-0.33000.h5\n",
      "166/166 [==============================] - 121s 733ms/step - loss: 1.3247 - categorical_accuracy: 0.3997 - val_loss: 1.3468 - val_categorical_accuracy: 0.3300 - lr: 0.0010\n",
      "Epoch 8/20\n",
      "166/166 [==============================] - ETA: 0s - loss: 1.3116 - categorical_accuracy: 0.3922\n",
      "Epoch 8: saving model to model_init_2023-02-0913_39_16.439780\\model-00008-1.31156-0.39216-1.74209-0.20000.h5\n",
      "166/166 [==============================] - 121s 731ms/step - loss: 1.3116 - categorical_accuracy: 0.3922 - val_loss: 1.7421 - val_categorical_accuracy: 0.2000 - lr: 0.0010\n",
      "Epoch 9/20\n",
      "166/166 [==============================] - ETA: 0s - loss: 1.2699 - categorical_accuracy: 0.4344\n",
      "Epoch 9: saving model to model_init_2023-02-0913_39_16.439780\\model-00009-1.26992-0.43439-1.25813-0.55000.h5\n",
      "166/166 [==============================] - 121s 732ms/step - loss: 1.2699 - categorical_accuracy: 0.4344 - val_loss: 1.2581 - val_categorical_accuracy: 0.5500 - lr: 0.0010\n",
      "Epoch 10/20\n",
      "166/166 [==============================] - ETA: 0s - loss: 1.0392 - categorical_accuracy: 0.5626\n",
      "Epoch 10: saving model to model_init_2023-02-0913_39_16.439780\\model-00010-1.03918-0.56259-2.35125-0.41000.h5\n",
      "166/166 [==============================] - 122s 736ms/step - loss: 1.0392 - categorical_accuracy: 0.5626 - val_loss: 2.3513 - val_categorical_accuracy: 0.4100 - lr: 0.0010\n",
      "Epoch 11/20\n",
      "166/166 [==============================] - ETA: 0s - loss: 0.8978 - categorical_accuracy: 0.6365\n",
      "Epoch 11: saving model to model_init_2023-02-0913_39_16.439780\\model-00011-0.89783-0.63650-0.63342-0.82000.h5\n",
      "166/166 [==============================] - 121s 730ms/step - loss: 0.8978 - categorical_accuracy: 0.6365 - val_loss: 0.6334 - val_categorical_accuracy: 0.8200 - lr: 0.0010\n",
      "Epoch 12/20\n",
      "166/166 [==============================] - ETA: 0s - loss: 0.7616 - categorical_accuracy: 0.7255\n",
      "Epoch 12: saving model to model_init_2023-02-0913_39_16.439780\\model-00012-0.76164-0.72549-0.67205-0.72000.h5\n",
      "166/166 [==============================] - 122s 738ms/step - loss: 0.7616 - categorical_accuracy: 0.7255 - val_loss: 0.6721 - val_categorical_accuracy: 0.7200 - lr: 0.0010\n",
      "Epoch 13/20\n",
      "166/166 [==============================] - ETA: 0s - loss: 0.5522 - categorical_accuracy: 0.8100\n",
      "Epoch 13: saving model to model_init_2023-02-0913_39_16.439780\\model-00013-0.55223-0.80995-0.62103-0.77000.h5\n",
      "166/166 [==============================] - 121s 730ms/step - loss: 0.5522 - categorical_accuracy: 0.8100 - val_loss: 0.6210 - val_categorical_accuracy: 0.7700 - lr: 0.0010\n",
      "Epoch 14/20\n",
      "166/166 [==============================] - ETA: 0s - loss: 0.5085 - categorical_accuracy: 0.8311\n",
      "Epoch 14: saving model to model_init_2023-02-0913_39_16.439780\\model-00014-0.50845-0.83107-0.48200-0.86000.h5\n",
      "166/166 [==============================] - 122s 734ms/step - loss: 0.5085 - categorical_accuracy: 0.8311 - val_loss: 0.4820 - val_categorical_accuracy: 0.8600 - lr: 0.0010\n",
      "Epoch 15/20\n",
      "166/166 [==============================] - ETA: 0s - loss: 0.4427 - categorical_accuracy: 0.8597\n",
      "Epoch 15: saving model to model_init_2023-02-0913_39_16.439780\\model-00015-0.44271-0.85973-0.68484-0.77000.h5\n",
      "166/166 [==============================] - 120s 729ms/step - loss: 0.4427 - categorical_accuracy: 0.8597 - val_loss: 0.6848 - val_categorical_accuracy: 0.7700 - lr: 0.0010\n",
      "Epoch 16/20\n",
      "166/166 [==============================] - ETA: 0s - loss: 0.4945 - categorical_accuracy: 0.8356\n",
      "Epoch 16: saving model to model_init_2023-02-0913_39_16.439780\\model-00016-0.49452-0.83560-0.54913-0.81000.h5\n",
      "166/166 [==============================] - 123s 743ms/step - loss: 0.4945 - categorical_accuracy: 0.8356 - val_loss: 0.5491 - val_categorical_accuracy: 0.8100 - lr: 0.0010\n",
      "Epoch 17/20\n",
      "166/166 [==============================] - ETA: 0s - loss: 0.3532 - categorical_accuracy: 0.8824\n",
      "Epoch 17: ReduceLROnPlateau reducing learning rate to 0.0005000000237487257.\n",
      "\n",
      "Epoch 17: saving model to model_init_2023-02-0913_39_16.439780\\model-00017-0.35321-0.88235-0.91332-0.80000.h5\n",
      "166/166 [==============================] - 123s 743ms/step - loss: 0.3532 - categorical_accuracy: 0.8824 - val_loss: 0.9133 - val_categorical_accuracy: 0.8000 - lr: 0.0010\n",
      "Epoch 18/20\n",
      "166/166 [==============================] - ETA: 0s - loss: 0.2203 - categorical_accuracy: 0.9276\n",
      "Epoch 18: saving model to model_init_2023-02-0913_39_16.439780\\model-00018-0.22032-0.92760-0.45766-0.83000.h5\n",
      "166/166 [==============================] - 122s 740ms/step - loss: 0.2203 - categorical_accuracy: 0.9276 - val_loss: 0.4577 - val_categorical_accuracy: 0.8300 - lr: 5.0000e-04\n",
      "Epoch 19/20\n",
      "166/166 [==============================] - ETA: 0s - loss: 0.2094 - categorical_accuracy: 0.9291\n",
      "Epoch 19: saving model to model_init_2023-02-0913_39_16.439780\\model-00019-0.20944-0.92911-0.74635-0.83000.h5\n",
      "166/166 [==============================] - 121s 733ms/step - loss: 0.2094 - categorical_accuracy: 0.9291 - val_loss: 0.7464 - val_categorical_accuracy: 0.8300 - lr: 5.0000e-04\n",
      "Epoch 20/20\n",
      "166/166 [==============================] - ETA: 0s - loss: 0.1555 - categorical_accuracy: 0.9487\n",
      "Epoch 20: saving model to model_init_2023-02-0913_39_16.439780\\model-00020-0.15551-0.94872-0.28620-0.89000.h5\n",
      "166/166 [==============================] - 123s 745ms/step - loss: 0.1555 - categorical_accuracy: 0.9487 - val_loss: 0.2862 - val_categorical_accuracy: 0.8900 - lr: 5.0000e-04\n",
      "Time Taken to Train this model was :  0:40:33.731109\n"
     ]
    }
   ],
   "source": [
    "batch_size=4\n",
    "trainmodel(model_cnn_LSTM_4,batch_size)"
   ]
  },
  {
   "cell_type": "code",
   "execution_count": 132,
   "metadata": {},
   "outputs": [],
   "source": [
    "model_cnn_LSTM_4.save(\"model_cnn_LSTM_4.h5\")"
   ]
  },
  {
   "cell_type": "markdown",
   "metadata": {},
   "source": [
    "#### The model model_cnn_3 gave us the highest validation accuracy till now, we will try and squeeze some more improvement from the model by running it for another 20 epochs (with batch_size of 4)"
   ]
  },
  {
   "cell_type": "code",
   "execution_count": 360,
   "metadata": {},
   "outputs": [],
   "source": [
    "from keras.models import load_model\n",
    "model_cnn_3_new = load_model('model_cnn_3.h5')"
   ]
  },
  {
   "cell_type": "markdown",
   "metadata": {},
   "source": [
    "## Model 19"
   ]
  },
  {
   "cell_type": "code",
   "execution_count": 361,
   "metadata": {},
   "outputs": [
    {
     "name": "stdout",
     "output_type": "stream",
     "text": [
      "_________________\n",
      "Batch Size is : 4\n",
      "\n",
      "Source path =  datasets/Project_data/train ; batch size = 4\n",
      "Epoch 1/20\n",
      "166/166 [==============================] - ETA: 0s - loss: 0.1413 - categorical_accuracy: 0.9517\n",
      "Source path =  datasets/Project_data/val ; batch size = 4\n",
      "\n",
      "Epoch 1: saving model to model_init_2023-02-0913_39_16.439780\\model-00001-0.14129-0.95173-0.40586-0.87000.h5\n",
      "166/166 [==============================] - 121s 732ms/step - loss: 0.1413 - categorical_accuracy: 0.9517 - val_loss: 0.4059 - val_categorical_accuracy: 0.8700 - lr: 5.0000e-04\n",
      "Epoch 2/20\n",
      "166/166 [==============================] - ETA: 0s - loss: 0.0945 - categorical_accuracy: 0.9729\n",
      "Epoch 2: saving model to model_init_2023-02-0913_39_16.439780\\model-00002-0.09455-0.97285-0.25388-0.92000.h5\n",
      "166/166 [==============================] - 121s 735ms/step - loss: 0.0945 - categorical_accuracy: 0.9729 - val_loss: 0.2539 - val_categorical_accuracy: 0.9200 - lr: 5.0000e-04\n",
      "Epoch 3/20\n",
      "166/166 [==============================] - ETA: 0s - loss: 0.0656 - categorical_accuracy: 0.9759\n",
      "Epoch 3: saving model to model_init_2023-02-0913_39_16.439780\\model-00003-0.06563-0.97587-0.87645-0.78000.h5\n",
      "166/166 [==============================] - 121s 735ms/step - loss: 0.0656 - categorical_accuracy: 0.9759 - val_loss: 0.8764 - val_categorical_accuracy: 0.7800 - lr: 5.0000e-04\n",
      "Epoch 4/20\n",
      "166/166 [==============================] - ETA: 0s - loss: 0.0696 - categorical_accuracy: 0.9713\n",
      "Epoch 4: saving model to model_init_2023-02-0913_39_16.439780\\model-00004-0.06960-0.97134-0.51379-0.89000.h5\n",
      "166/166 [==============================] - 121s 734ms/step - loss: 0.0696 - categorical_accuracy: 0.9713 - val_loss: 0.5138 - val_categorical_accuracy: 0.8900 - lr: 5.0000e-04\n",
      "Epoch 5/20\n",
      "166/166 [==============================] - ETA: 0s - loss: 0.0571 - categorical_accuracy: 0.9774\n",
      "Epoch 5: saving model to model_init_2023-02-0913_39_16.439780\\model-00005-0.05710-0.97738-0.24173-0.92000.h5\n",
      "166/166 [==============================] - 122s 737ms/step - loss: 0.0571 - categorical_accuracy: 0.9774 - val_loss: 0.2417 - val_categorical_accuracy: 0.9200 - lr: 5.0000e-04\n",
      "Epoch 6/20\n",
      "166/166 [==============================] - ETA: 0s - loss: 0.0954 - categorical_accuracy: 0.9698\n",
      "Epoch 6: saving model to model_init_2023-02-0913_39_16.439780\\model-00006-0.09538-0.96983-0.39018-0.88000.h5\n",
      "166/166 [==============================] - 122s 735ms/step - loss: 0.0954 - categorical_accuracy: 0.9698 - val_loss: 0.3902 - val_categorical_accuracy: 0.8800 - lr: 5.0000e-04\n",
      "Epoch 7/20\n",
      "166/166 [==============================] - ETA: 0s - loss: 0.0515 - categorical_accuracy: 0.9864\n",
      "Epoch 7: saving model to model_init_2023-02-0913_39_16.439780\\model-00007-0.05152-0.98643-0.51552-0.87000.h5\n",
      "166/166 [==============================] - 121s 732ms/step - loss: 0.0515 - categorical_accuracy: 0.9864 - val_loss: 0.5155 - val_categorical_accuracy: 0.8700 - lr: 5.0000e-04\n",
      "Epoch 8/20\n",
      "166/166 [==============================] - ETA: 0s - loss: 0.0666 - categorical_accuracy: 0.9774\n",
      "Epoch 8: ReduceLROnPlateau reducing learning rate to 0.0002500000118743628.\n",
      "\n",
      "Epoch 8: saving model to model_init_2023-02-0913_39_16.439780\\model-00008-0.06663-0.97738-0.29179-0.95000.h5\n",
      "166/166 [==============================] - 122s 737ms/step - loss: 0.0666 - categorical_accuracy: 0.9774 - val_loss: 0.2918 - val_categorical_accuracy: 0.9500 - lr: 5.0000e-04\n",
      "Epoch 9/20\n",
      "166/166 [==============================] - ETA: 0s - loss: 0.0458 - categorical_accuracy: 0.9834\n",
      "Epoch 9: saving model to model_init_2023-02-0913_39_16.439780\\model-00009-0.04576-0.98341-0.29874-0.92000.h5\n",
      "166/166 [==============================] - 121s 732ms/step - loss: 0.0458 - categorical_accuracy: 0.9834 - val_loss: 0.2987 - val_categorical_accuracy: 0.9200 - lr: 2.5000e-04\n",
      "Epoch 10/20\n",
      "166/166 [==============================] - ETA: 0s - loss: 0.0568 - categorical_accuracy: 0.9834\n",
      "Epoch 10: saving model to model_init_2023-02-0913_39_16.439780\\model-00010-0.05679-0.98341-0.27371-0.95000.h5\n",
      "166/166 [==============================] - 122s 736ms/step - loss: 0.0568 - categorical_accuracy: 0.9834 - val_loss: 0.2737 - val_categorical_accuracy: 0.9500 - lr: 2.5000e-04\n",
      "Epoch 11/20\n",
      "166/166 [==============================] - ETA: 0s - loss: 0.0357 - categorical_accuracy: 0.9864\n",
      "Epoch 11: ReduceLROnPlateau reducing learning rate to 0.0001250000059371814.\n",
      "\n",
      "Epoch 11: saving model to model_init_2023-02-0913_39_16.439780\\model-00011-0.03565-0.98643-0.30683-0.91000.h5\n",
      "166/166 [==============================] - 121s 732ms/step - loss: 0.0357 - categorical_accuracy: 0.9864 - val_loss: 0.3068 - val_categorical_accuracy: 0.9100 - lr: 2.5000e-04\n",
      "Epoch 12/20\n",
      "166/166 [==============================] - ETA: 0s - loss: 0.0257 - categorical_accuracy: 0.9925\n",
      "Epoch 12: saving model to model_init_2023-02-0913_39_16.439780\\model-00012-0.02573-0.99246-0.42861-0.92000.h5\n",
      "166/166 [==============================] - 121s 733ms/step - loss: 0.0257 - categorical_accuracy: 0.9925 - val_loss: 0.4286 - val_categorical_accuracy: 0.9200 - lr: 1.2500e-04\n",
      "Epoch 13/20\n",
      "166/166 [==============================] - ETA: 0s - loss: 0.0219 - categorical_accuracy: 0.9970\n",
      "Epoch 13: saving model to model_init_2023-02-0913_39_16.439780\\model-00013-0.02191-0.99698-0.15583-0.96000.h5\n",
      "166/166 [==============================] - 121s 732ms/step - loss: 0.0219 - categorical_accuracy: 0.9970 - val_loss: 0.1558 - val_categorical_accuracy: 0.9600 - lr: 1.2500e-04\n",
      "Epoch 14/20\n",
      "166/166 [==============================] - ETA: 0s - loss: 0.0231 - categorical_accuracy: 0.9910\n",
      "Epoch 14: saving model to model_init_2023-02-0913_39_16.439780\\model-00014-0.02307-0.99095-0.32434-0.93000.h5\n",
      "166/166 [==============================] - 121s 734ms/step - loss: 0.0231 - categorical_accuracy: 0.9910 - val_loss: 0.3243 - val_categorical_accuracy: 0.9300 - lr: 1.2500e-04\n",
      "Epoch 15/20\n",
      "166/166 [==============================] - ETA: 0s - loss: 0.0232 - categorical_accuracy: 0.9955\n",
      "Epoch 15: saving model to model_init_2023-02-0913_39_16.439780\\model-00015-0.02323-0.99548-0.14874-0.93000.h5\n",
      "166/166 [==============================] - 122s 739ms/step - loss: 0.0232 - categorical_accuracy: 0.9955 - val_loss: 0.1487 - val_categorical_accuracy: 0.9300 - lr: 1.2500e-04\n",
      "Epoch 16/20\n",
      "166/166 [==============================] - ETA: 0s - loss: 0.0224 - categorical_accuracy: 0.9940\n",
      "Epoch 16: saving model to model_init_2023-02-0913_39_16.439780\\model-00016-0.02238-0.99397-0.45492-0.90000.h5\n",
      "166/166 [==============================] - 121s 734ms/step - loss: 0.0224 - categorical_accuracy: 0.9940 - val_loss: 0.4549 - val_categorical_accuracy: 0.9000 - lr: 1.2500e-04\n",
      "Epoch 17/20\n",
      "166/166 [==============================] - ETA: 0s - loss: 0.0286 - categorical_accuracy: 0.9940\n",
      "Epoch 17: saving model to model_init_2023-02-0913_39_16.439780\\model-00017-0.02862-0.99397-0.37143-0.87000.h5\n",
      "166/166 [==============================] - 122s 740ms/step - loss: 0.0286 - categorical_accuracy: 0.9940 - val_loss: 0.3714 - val_categorical_accuracy: 0.8700 - lr: 1.2500e-04\n",
      "Epoch 18/20\n",
      "166/166 [==============================] - ETA: 0s - loss: 0.0263 - categorical_accuracy: 0.9940\n",
      "Epoch 18: ReduceLROnPlateau reducing learning rate to 6.25000029685907e-05.\n",
      "\n",
      "Epoch 18: saving model to model_init_2023-02-0913_39_16.439780\\model-00018-0.02627-0.99397-0.28362-0.93000.h5\n",
      "166/166 [==============================] - 121s 732ms/step - loss: 0.0263 - categorical_accuracy: 0.9940 - val_loss: 0.2836 - val_categorical_accuracy: 0.9300 - lr: 1.2500e-04\n",
      "Epoch 19/20\n",
      "166/166 [==============================] - ETA: 0s - loss: 0.0147 - categorical_accuracy: 0.9985\n",
      "Epoch 19: saving model to model_init_2023-02-0913_39_16.439780\\model-00019-0.01473-0.99849-0.31364-0.93000.h5\n",
      "166/166 [==============================] - 121s 733ms/step - loss: 0.0147 - categorical_accuracy: 0.9985 - val_loss: 0.3136 - val_categorical_accuracy: 0.9300 - lr: 6.2500e-05\n",
      "Epoch 20/20\n",
      "166/166 [==============================] - ETA: 0s - loss: 0.0199 - categorical_accuracy: 0.9925\n",
      "Epoch 20: saving model to model_init_2023-02-0913_39_16.439780\\model-00020-0.01986-0.99246-0.20321-0.96000.h5\n",
      "166/166 [==============================] - 121s 733ms/step - loss: 0.0199 - categorical_accuracy: 0.9925 - val_loss: 0.2032 - val_categorical_accuracy: 0.9600 - lr: 6.2500e-05\n"
     ]
    },
    {
     "name": "stdout",
     "output_type": "stream",
     "text": [
      "Time Taken to Train this model was :  0:40:28.473049\n"
     ]
    }
   ],
   "source": [
    "# Running 20 more epoch \n",
    "num_epochs=20\n",
    "batch_size=4\n",
    "trainmodel(model_cnn_3_new,batch_size)"
   ]
  },
  {
   "cell_type": "code",
   "execution_count": 362,
   "metadata": {},
   "outputs": [],
   "source": [
    "# Saving the model that now has run for 40 epoch\n",
    "model_cnn_3_new.save(\"model_cnn_3_new.h5\")"
   ]
  },
  {
   "cell_type": "markdown",
   "metadata": {},
   "source": [
    "### Model Evaluation \n",
    "\n",
    "Visualizing and comparing metrics using the Top 3 models where we got the best validation accuracy "
   ]
  },
  {
   "cell_type": "code",
   "execution_count": 29,
   "metadata": {},
   "outputs": [],
   "source": [
    "# Comparing model on Validation data"
   ]
  },
  {
   "cell_type": "code",
   "execution_count": 30,
   "metadata": {},
   "outputs": [],
   "source": [
    "# We will use the generator to load back the data as we know we have 100 files in our Val folder\n",
    "# we will set the batch size to 100 so all the val data can be loaded at once\n",
    "batch_size=100"
   ]
  },
  {
   "cell_type": "code",
   "execution_count": 31,
   "metadata": {},
   "outputs": [],
   "source": [
    "all_val_data=generator(val_path, val_doc, batch_size,imgdim,img_idx)"
   ]
  },
  {
   "cell_type": "code",
   "execution_count": 32,
   "metadata": {},
   "outputs": [
    {
     "name": "stdout",
     "output_type": "stream",
     "text": [
      "\n",
      "Source path =  datasets/Project_data/val ; batch size = 100\n"
     ]
    }
   ],
   "source": [
    "#The frames are assigned to the var frames and labels to labels\n",
    "frames, labels = next(all_val_data)\n"
   ]
  },
  {
   "cell_type": "code",
   "execution_count": 33,
   "metadata": {},
   "outputs": [],
   "source": [
    "#The labels returned are in the numpy array format, we will assign it to list for further processing\n",
    "labels=labels.tolist()"
   ]
  },
  {
   "cell_type": "code",
   "execution_count": 34,
   "metadata": {},
   "outputs": [],
   "source": [
    "#--- Also the labels are in one-hot coded format, we will change it to simple class label format\n",
    "actual=[] \n",
    "for i in range(len(labels)):\n",
    "    actual.append(labels[i].index(1)) #--- Find the index of 1 and that will be our class label"
   ]
  },
  {
   "cell_type": "code",
   "execution_count": 35,
   "metadata": {},
   "outputs": [],
   "source": [
    "namelist=list(classname.keys()) #--- We has assigned this dictionary during the initial steps"
   ]
  },
  {
   "cell_type": "code",
   "execution_count": 36,
   "metadata": {},
   "outputs": [
    {
     "data": {
      "text/plain": [
       "['Swipe Left', 'Swipe Right', 'Stop', 'Thumbs Down', 'Thumbs Up']"
      ]
     },
     "execution_count": 36,
     "metadata": {},
     "output_type": "execute_result"
    }
   ],
   "source": [
    "namelist"
   ]
  },
  {
   "cell_type": "code",
   "execution_count": 37,
   "metadata": {},
   "outputs": [],
   "source": [
    "### The predictanddraw function will be used to evaluate the model"
   ]
  },
  {
   "cell_type": "code",
   "execution_count": 38,
   "metadata": {},
   "outputs": [],
   "source": [
    "# Creating function that will\n",
    "## 1) Predict the output on the validation set using the model passed to this function\n",
    "## 2) Draw the heatmap \n",
    "## 3) Calculate the mean precision and recall \n",
    "## 4) Calculate the precision and recall by class\n",
    "######\n",
    "# input to this functions are the model to be used for prediction, frames, actual label (0-4) and the name of the labels\n",
    "# and title that will be used as plot title\n",
    "def predictanddraw(modelname,frames,actual,namelist,title): \n",
    "        predicted=modelname.predict(frames) ##---------Predicting\n",
    "        actual = tf.stack(actual, axis=0)\n",
    "        predicted = tf.concat(predicted, axis=0)\n",
    "        predicted = tf.argmax(predicted, axis=1)\n",
    "        cm = tf.math.confusion_matrix(actual, predicted) #----- Confusion matrix using the actual and predicted values\n",
    "        ### Heat map\n",
    "        plt.figure(figsize=(4,4))\n",
    "        axes = sns.heatmap(cm, annot=True, square=True)\n",
    "        axes.set_title(title)\n",
    "        axes.set_xlabel('Predicted Action')\n",
    "        axes.set_ylabel('Actual Action')\n",
    "        plt.xticks(rotation=90)\n",
    "        plt.yticks(rotation=0)\n",
    "        axes.xaxis.set_ticklabels(namelist)\n",
    "        axes.yaxis.set_ticklabels(namelist)\n",
    "        ## Precision and Recall\n",
    "        tp = np.diag(cm) #------ ---Diagonal represents true positives\n",
    "        recall = np.mean(np.diag(cm) / np.sum(cm, axis = 1))    # ----- -- Mean Recall\n",
    "        precision = np.mean(np.diag(cm) / np.sum(cm, axis = 0)) # ----- -- Mean Precision\n",
    "         ## Precision and Recall by class\n",
    "        print()\n",
    "        print(\"Precision and Recall by Class for\",title,\" :\")\n",
    "        print()\n",
    "        print(\"{:<14} {:<10} {:<10}\".format('Class Name', 'Precision', 'Recall'))\n",
    "        for i in range(len(namelist)):\n",
    "            col = cm[:, i]\n",
    "            fp = np.sum(col) - tp[i] # Sum of column minus true positive is false positive\n",
    "            row = cm[i, :]\n",
    "            fn = np.sum(row) - tp[i] # Sum of row minus true positive, is false negative\n",
    "            precision1=tp[i] / (tp[i] + fp)\n",
    "            recall1= tp[i] / (tp[i] + fn)\n",
    "            print(\"{:<14} {:<10} {:<10}\".format(namelist[i],\"%.3f\" % precision1,\"%.3f\" % recall1))\n",
    "        print()\n",
    "        print(\"The mean precision of this model is :\",\"%.3f\" % precision)\n",
    "        print(\"The mean Recall of this model is    :\",\"%.3f\" %recall)\n",
    "        \n",
    "        "
   ]
  },
  {
   "cell_type": "code",
   "execution_count": 39,
   "metadata": {},
   "outputs": [],
   "source": [
    "from matplotlib import pyplot as plt\n",
    "import seaborn as sns"
   ]
  },
  {
   "cell_type": "code",
   "execution_count": 42,
   "metadata": {},
   "outputs": [
    {
     "name": "stdout",
     "output_type": "stream",
     "text": [
      "4/4 [==============================] - 3s 187ms/step\n",
      "\n",
      "Precision and Recall by Class for model_cnn_3_new  :\n",
      "\n",
      "Class Name     Precision  Recall    \n",
      "Swipe Left     1.000      0.944     \n",
      "Swipe Right    1.000      1.000     \n",
      "Stop           0.952      0.909     \n",
      "Thumbs Down    0.909      0.952     \n",
      "Thumbs Up      0.882      0.938     \n",
      "\n",
      "The mean precision of this model is : 0.949\n",
      "The mean Recall of this model is    : 0.949\n"
     ]
    },
    {
     "data": {
      "image/png": "[encoded data removed]",
      "text/plain": [
       "<Figure size 400x400 with 2 Axes>"
      ]
     },
     "metadata": {},
     "output_type": "display_data"
    }
   ],
   "source": [
    "model_cnn_3_new = load_model('model_cnn_3_new.h5')\n",
    "predictanddraw(model_cnn_3_new,frames,actual,namelist,\"model_cnn_3_new\")\n"
   ]
  },
  {
   "cell_type": "code",
   "execution_count": 43,
   "metadata": {},
   "outputs": [
    {
     "name": "stdout",
     "output_type": "stream",
     "text": [
      "4/4 [==============================] - 1s 208ms/step\n",
      "\n",
      "Precision and Recall by Class for model_cnn_3  :\n",
      "\n",
      "Class Name     Precision  Recall    \n",
      "Swipe Left     1.000      0.944     \n",
      "Swipe Right    1.000      1.000     \n",
      "Stop           0.833      0.909     \n",
      "Thumbs Down    0.864      0.905     \n",
      "Thumbs Up      0.857      0.750     \n",
      "\n",
      "The mean precision of this model is : 0.911\n",
      "The mean Recall of this model is    : 0.902\n"
     ]
    },
    {
     "data": {
      "image/png": "[encoded data removed]",
      "text/plain": [
       "<Figure size 400x400 with 2 Axes>"
      ]
     },
     "metadata": {},
     "output_type": "display_data"
    }
   ],
   "source": [
    "model_cnn_3 = load_model('model_cnn_3.h5')\n",
    "predictanddraw(model_cnn_3,frames,actual,namelist,\"model_cnn_3\")"
   ]
  },
  {
   "cell_type": "code",
   "execution_count": 44,
   "metadata": {},
   "outputs": [
    {
     "name": "stdout",
     "output_type": "stream",
     "text": [
      "4/4 [==============================] - 1s 210ms/step\n",
      "\n",
      "Precision and Recall by Class for model_cnn_2  :\n",
      "\n",
      "Class Name     Precision  Recall    \n",
      "Swipe Left     0.850      0.944     \n",
      "Swipe Right    1.000      1.000     \n",
      "Stop           0.952      0.909     \n",
      "Thumbs Down    1.000      0.667     \n",
      "Thumbs Up      0.682      0.938     \n",
      "\n",
      "The mean precision of this model is : 0.897\n",
      "The mean Recall of this model is    : 0.892\n"
     ]
    },
    {
     "data": {
      "image/png": "[encoded data removed]",
      "text/plain": [
       "<Figure size 400x400 with 2 Axes>"
      ]
     },
     "metadata": {},
     "output_type": "display_data"
    }
   ],
   "source": [
    "model_cnn_2 = load_model('model_cnn_2.h5')\n",
    "predictanddraw(model_cnn_2,frames,actual,namelist,\"model_cnn_2\")"
   ]
  },
  {
   "cell_type": "code",
   "execution_count": null,
   "metadata": {},
   "outputs": [],
   "source": []
  }
 ],
 "metadata": {
  "kernelspec": {
   "display_name": "Python 3 (ipykernel)",
   "language": "python",
   "name": "python3"
  },
  "language_info": {
   "codemirror_mode": {
    "name": "ipython",
    "version": 3
   },
   "file_extension": ".py",
   "mimetype": "text/x-python",
   "name": "python",
   "nbconvert_exporter": "python",
   "pygments_lexer": "ipython3",
   "version": "3.9.13"
  }
 },
 "nbformat": 4,
 "nbformat_minor": 4
}
